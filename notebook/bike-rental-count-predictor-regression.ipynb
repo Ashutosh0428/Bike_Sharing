{
 "cells": [
  {
   "cell_type": "code",
   "execution_count": 1,
   "metadata": {
    "_cell_guid": "b1076dfc-b9ad-4769-8c92-a6c4dae69d19",
    "_uuid": "8f2839f25d086af736a60e9eeb907d3b93b6e0e5",
    "execution": {
     "iopub.execute_input": "2021-09-12T18:16:58.196593Z",
     "iopub.status.busy": "2021-09-12T18:16:58.196013Z",
     "iopub.status.idle": "2021-09-12T18:16:58.220336Z",
     "shell.execute_reply": "2021-09-12T18:16:58.219369Z",
     "shell.execute_reply.started": "2021-09-12T18:16:58.196488Z"
    }
   },
   "outputs": [
    {
     "name": "stdout",
     "output_type": "stream",
     "text": [
      "/kaggle/input/rental-bike-sharing/hour.csv\n",
      "/kaggle/input/rental-bike-sharing/Readme.txt\n",
      "/kaggle/input/rental-bike-sharing/day.csv\n"
     ]
    }
   ],
   "source": [
    "# This Python 3 environment comes with many helpful analytics libraries installed\n",
    "# It is defined by the kaggle/python Docker image: https://github.com/kaggle/docker-python\n",
    "# For example, here's several helpful packages to load\n",
    "\n",
    "import numpy as np # linear algebra\n",
    "import pandas as pd # data processing, CSV file I/O (e.g. pd.read_csv)\n",
    "\n",
    "# Input data files are available in the read-only \"../input/\" directory\n",
    "# For example, running this (by clicking run or pressing Shift+Enter) will list all files under the input directory\n",
    "\n",
    "import os\n",
    "for dirname, _, filenames in os.walk('/kaggle/input'):\n",
    "    for filename in filenames:\n",
    "        print(os.path.join(dirname, filename))\n",
    "\n",
    "# You can write up to 20GB to the current directory (/kaggle/working/) that gets preserved as output when you create a version using \"Save & Run All\" \n",
    "# You can also write temporary files to /kaggle/temp/, but they won't be saved outside of the current session"
   ]
  },
  {
   "cell_type": "code",
   "execution_count": 32,
   "metadata": {},
   "outputs": [],
   "source": [
    "import numpy as np\n",
    "import pandas as pd"
   ]
  },
  {
   "cell_type": "code",
   "execution_count": 33,
   "metadata": {},
   "outputs": [],
   "source": [
    "hour = pd.read_csv(\"bike_hourdata.csv\")"
   ]
  },
  {
   "cell_type": "code",
   "execution_count": null,
   "metadata": {},
   "outputs": [],
   "source": []
  },
  {
   "cell_type": "markdown",
   "metadata": {},
   "source": [
    "## Importing Libraries"
   ]
  },
  {
   "cell_type": "code",
   "execution_count": null,
   "metadata": {},
   "outputs": [],
   "source": []
  },
  {
   "cell_type": "code",
   "execution_count": 34,
   "metadata": {
    "execution": {
     "iopub.execute_input": "2021-09-12T18:16:58.222327Z",
     "iopub.status.busy": "2021-09-12T18:16:58.221779Z",
     "iopub.status.idle": "2021-09-12T18:16:59.242812Z",
     "shell.execute_reply": "2021-09-12T18:16:59.241868Z",
     "shell.execute_reply.started": "2021-09-12T18:16:58.222285Z"
    }
   },
   "outputs": [],
   "source": [
    "import matplotlib.pyplot as plt\n",
    "import seaborn as sns\n",
    "%matplotlib inline"
   ]
  },
  {
   "cell_type": "markdown",
   "metadata": {},
   "source": [
    "## Data Loading"
   ]
  },
  {
   "cell_type": "code",
   "execution_count": 3,
   "metadata": {
    "execution": {
     "iopub.execute_input": "2021-09-12T18:16:59.244829Z",
     "iopub.status.busy": "2021-09-12T18:16:59.244506Z",
     "iopub.status.idle": "2021-09-12T18:16:59.310021Z",
     "shell.execute_reply": "2021-09-12T18:16:59.309052Z",
     "shell.execute_reply.started": "2021-09-12T18:16:59.244797Z"
    }
   },
   "outputs": [],
   "source": [
    "hour = pd.read_csv(\"/kaggle/input/rental-bike-sharing/hour.csv\")\n",
    "day = pd.read_csv(\"/kaggle/input/rental-bike-sharing/day.csv\")"
   ]
  },
  {
   "cell_type": "code",
   "execution_count": 4,
   "metadata": {
    "execution": {
     "iopub.execute_input": "2021-09-12T18:16:59.312139Z",
     "iopub.status.busy": "2021-09-12T18:16:59.311759Z",
     "iopub.status.idle": "2021-09-12T18:16:59.347573Z",
     "shell.execute_reply": "2021-09-12T18:16:59.346483Z",
     "shell.execute_reply.started": "2021-09-12T18:16:59.312107Z"
    }
   },
   "outputs": [
    {
     "data": {
      "text/html": [
       "<div>\n",
       "<style scoped>\n",
       "    .dataframe tbody tr th:only-of-type {\n",
       "        vertical-align: middle;\n",
       "    }\n",
       "\n",
       "    .dataframe tbody tr th {\n",
       "        vertical-align: top;\n",
       "    }\n",
       "\n",
       "    .dataframe thead th {\n",
       "        text-align: right;\n",
       "    }\n",
       "</style>\n",
       "<table border=\"1\" class=\"dataframe\">\n",
       "  <thead>\n",
       "    <tr style=\"text-align: right;\">\n",
       "      <th></th>\n",
       "      <th>instant</th>\n",
       "      <th>dteday</th>\n",
       "      <th>season</th>\n",
       "      <th>yr</th>\n",
       "      <th>mnth</th>\n",
       "      <th>hr</th>\n",
       "      <th>holiday</th>\n",
       "      <th>weekday</th>\n",
       "      <th>workingday</th>\n",
       "      <th>weathersit</th>\n",
       "      <th>temp</th>\n",
       "      <th>atemp</th>\n",
       "      <th>hum</th>\n",
       "      <th>windspeed</th>\n",
       "      <th>casual</th>\n",
       "      <th>registered</th>\n",
       "      <th>cnt</th>\n",
       "    </tr>\n",
       "  </thead>\n",
       "  <tbody>\n",
       "    <tr>\n",
       "      <th>0</th>\n",
       "      <td>1</td>\n",
       "      <td>2011-01-01</td>\n",
       "      <td>1</td>\n",
       "      <td>0</td>\n",
       "      <td>1</td>\n",
       "      <td>0</td>\n",
       "      <td>0</td>\n",
       "      <td>6</td>\n",
       "      <td>0</td>\n",
       "      <td>1</td>\n",
       "      <td>0.24</td>\n",
       "      <td>0.2879</td>\n",
       "      <td>0.81</td>\n",
       "      <td>0.0</td>\n",
       "      <td>3</td>\n",
       "      <td>13</td>\n",
       "      <td>16</td>\n",
       "    </tr>\n",
       "    <tr>\n",
       "      <th>1</th>\n",
       "      <td>2</td>\n",
       "      <td>2011-01-01</td>\n",
       "      <td>1</td>\n",
       "      <td>0</td>\n",
       "      <td>1</td>\n",
       "      <td>1</td>\n",
       "      <td>0</td>\n",
       "      <td>6</td>\n",
       "      <td>0</td>\n",
       "      <td>1</td>\n",
       "      <td>0.22</td>\n",
       "      <td>0.2727</td>\n",
       "      <td>0.80</td>\n",
       "      <td>0.0</td>\n",
       "      <td>8</td>\n",
       "      <td>32</td>\n",
       "      <td>40</td>\n",
       "    </tr>\n",
       "    <tr>\n",
       "      <th>2</th>\n",
       "      <td>3</td>\n",
       "      <td>2011-01-01</td>\n",
       "      <td>1</td>\n",
       "      <td>0</td>\n",
       "      <td>1</td>\n",
       "      <td>2</td>\n",
       "      <td>0</td>\n",
       "      <td>6</td>\n",
       "      <td>0</td>\n",
       "      <td>1</td>\n",
       "      <td>0.22</td>\n",
       "      <td>0.2727</td>\n",
       "      <td>0.80</td>\n",
       "      <td>0.0</td>\n",
       "      <td>5</td>\n",
       "      <td>27</td>\n",
       "      <td>32</td>\n",
       "    </tr>\n",
       "    <tr>\n",
       "      <th>3</th>\n",
       "      <td>4</td>\n",
       "      <td>2011-01-01</td>\n",
       "      <td>1</td>\n",
       "      <td>0</td>\n",
       "      <td>1</td>\n",
       "      <td>3</td>\n",
       "      <td>0</td>\n",
       "      <td>6</td>\n",
       "      <td>0</td>\n",
       "      <td>1</td>\n",
       "      <td>0.24</td>\n",
       "      <td>0.2879</td>\n",
       "      <td>0.75</td>\n",
       "      <td>0.0</td>\n",
       "      <td>3</td>\n",
       "      <td>10</td>\n",
       "      <td>13</td>\n",
       "    </tr>\n",
       "    <tr>\n",
       "      <th>4</th>\n",
       "      <td>5</td>\n",
       "      <td>2011-01-01</td>\n",
       "      <td>1</td>\n",
       "      <td>0</td>\n",
       "      <td>1</td>\n",
       "      <td>4</td>\n",
       "      <td>0</td>\n",
       "      <td>6</td>\n",
       "      <td>0</td>\n",
       "      <td>1</td>\n",
       "      <td>0.24</td>\n",
       "      <td>0.2879</td>\n",
       "      <td>0.75</td>\n",
       "      <td>0.0</td>\n",
       "      <td>0</td>\n",
       "      <td>1</td>\n",
       "      <td>1</td>\n",
       "    </tr>\n",
       "  </tbody>\n",
       "</table>\n",
       "</div>"
      ],
      "text/plain": [
       "   instant      dteday  season  yr  mnth  hr  holiday  weekday  workingday  \\\n",
       "0        1  2011-01-01       1   0     1   0        0        6           0   \n",
       "1        2  2011-01-01       1   0     1   1        0        6           0   \n",
       "2        3  2011-01-01       1   0     1   2        0        6           0   \n",
       "3        4  2011-01-01       1   0     1   3        0        6           0   \n",
       "4        5  2011-01-01       1   0     1   4        0        6           0   \n",
       "\n",
       "   weathersit  temp   atemp   hum  windspeed  casual  registered  cnt  \n",
       "0           1  0.24  0.2879  0.81        0.0       3          13   16  \n",
       "1           1  0.22  0.2727  0.80        0.0       8          32   40  \n",
       "2           1  0.22  0.2727  0.80        0.0       5          27   32  \n",
       "3           1  0.24  0.2879  0.75        0.0       3          10   13  \n",
       "4           1  0.24  0.2879  0.75        0.0       0           1    1  "
      ]
     },
     "execution_count": 4,
     "metadata": {},
     "output_type": "execute_result"
    }
   ],
   "source": [
    "hour.head()"
   ]
  },
  {
   "cell_type": "code",
   "execution_count": 5,
   "metadata": {
    "execution": {
     "iopub.execute_input": "2021-09-12T18:16:59.349690Z",
     "iopub.status.busy": "2021-09-12T18:16:59.349263Z",
     "iopub.status.idle": "2021-09-12T18:16:59.372056Z",
     "shell.execute_reply": "2021-09-12T18:16:59.371047Z",
     "shell.execute_reply.started": "2021-09-12T18:16:59.349645Z"
    }
   },
   "outputs": [
    {
     "data": {
      "text/html": [
       "<div>\n",
       "<style scoped>\n",
       "    .dataframe tbody tr th:only-of-type {\n",
       "        vertical-align: middle;\n",
       "    }\n",
       "\n",
       "    .dataframe tbody tr th {\n",
       "        vertical-align: top;\n",
       "    }\n",
       "\n",
       "    .dataframe thead th {\n",
       "        text-align: right;\n",
       "    }\n",
       "</style>\n",
       "<table border=\"1\" class=\"dataframe\">\n",
       "  <thead>\n",
       "    <tr style=\"text-align: right;\">\n",
       "      <th></th>\n",
       "      <th>instant</th>\n",
       "      <th>dteday</th>\n",
       "      <th>season</th>\n",
       "      <th>yr</th>\n",
       "      <th>mnth</th>\n",
       "      <th>holiday</th>\n",
       "      <th>weekday</th>\n",
       "      <th>workingday</th>\n",
       "      <th>weathersit</th>\n",
       "      <th>temp</th>\n",
       "      <th>atemp</th>\n",
       "      <th>hum</th>\n",
       "      <th>windspeed</th>\n",
       "      <th>casual</th>\n",
       "      <th>registered</th>\n",
       "      <th>cnt</th>\n",
       "    </tr>\n",
       "  </thead>\n",
       "  <tbody>\n",
       "    <tr>\n",
       "      <th>0</th>\n",
       "      <td>1</td>\n",
       "      <td>2011-01-01</td>\n",
       "      <td>1</td>\n",
       "      <td>0</td>\n",
       "      <td>1</td>\n",
       "      <td>0</td>\n",
       "      <td>6</td>\n",
       "      <td>0</td>\n",
       "      <td>2</td>\n",
       "      <td>0.344167</td>\n",
       "      <td>0.363625</td>\n",
       "      <td>0.805833</td>\n",
       "      <td>0.160446</td>\n",
       "      <td>331</td>\n",
       "      <td>654</td>\n",
       "      <td>985</td>\n",
       "    </tr>\n",
       "    <tr>\n",
       "      <th>1</th>\n",
       "      <td>2</td>\n",
       "      <td>2011-01-02</td>\n",
       "      <td>1</td>\n",
       "      <td>0</td>\n",
       "      <td>1</td>\n",
       "      <td>0</td>\n",
       "      <td>0</td>\n",
       "      <td>0</td>\n",
       "      <td>2</td>\n",
       "      <td>0.363478</td>\n",
       "      <td>0.353739</td>\n",
       "      <td>0.696087</td>\n",
       "      <td>0.248539</td>\n",
       "      <td>131</td>\n",
       "      <td>670</td>\n",
       "      <td>801</td>\n",
       "    </tr>\n",
       "    <tr>\n",
       "      <th>2</th>\n",
       "      <td>3</td>\n",
       "      <td>2011-01-03</td>\n",
       "      <td>1</td>\n",
       "      <td>0</td>\n",
       "      <td>1</td>\n",
       "      <td>0</td>\n",
       "      <td>1</td>\n",
       "      <td>1</td>\n",
       "      <td>1</td>\n",
       "      <td>0.196364</td>\n",
       "      <td>0.189405</td>\n",
       "      <td>0.437273</td>\n",
       "      <td>0.248309</td>\n",
       "      <td>120</td>\n",
       "      <td>1229</td>\n",
       "      <td>1349</td>\n",
       "    </tr>\n",
       "    <tr>\n",
       "      <th>3</th>\n",
       "      <td>4</td>\n",
       "      <td>2011-01-04</td>\n",
       "      <td>1</td>\n",
       "      <td>0</td>\n",
       "      <td>1</td>\n",
       "      <td>0</td>\n",
       "      <td>2</td>\n",
       "      <td>1</td>\n",
       "      <td>1</td>\n",
       "      <td>0.200000</td>\n",
       "      <td>0.212122</td>\n",
       "      <td>0.590435</td>\n",
       "      <td>0.160296</td>\n",
       "      <td>108</td>\n",
       "      <td>1454</td>\n",
       "      <td>1562</td>\n",
       "    </tr>\n",
       "    <tr>\n",
       "      <th>4</th>\n",
       "      <td>5</td>\n",
       "      <td>2011-01-05</td>\n",
       "      <td>1</td>\n",
       "      <td>0</td>\n",
       "      <td>1</td>\n",
       "      <td>0</td>\n",
       "      <td>3</td>\n",
       "      <td>1</td>\n",
       "      <td>1</td>\n",
       "      <td>0.226957</td>\n",
       "      <td>0.229270</td>\n",
       "      <td>0.436957</td>\n",
       "      <td>0.186900</td>\n",
       "      <td>82</td>\n",
       "      <td>1518</td>\n",
       "      <td>1600</td>\n",
       "    </tr>\n",
       "  </tbody>\n",
       "</table>\n",
       "</div>"
      ],
      "text/plain": [
       "   instant      dteday  season  yr  mnth  holiday  weekday  workingday  \\\n",
       "0        1  2011-01-01       1   0     1        0        6           0   \n",
       "1        2  2011-01-02       1   0     1        0        0           0   \n",
       "2        3  2011-01-03       1   0     1        0        1           1   \n",
       "3        4  2011-01-04       1   0     1        0        2           1   \n",
       "4        5  2011-01-05       1   0     1        0        3           1   \n",
       "\n",
       "   weathersit      temp     atemp       hum  windspeed  casual  registered  \\\n",
       "0           2  0.344167  0.363625  0.805833   0.160446     331         654   \n",
       "1           2  0.363478  0.353739  0.696087   0.248539     131         670   \n",
       "2           1  0.196364  0.189405  0.437273   0.248309     120        1229   \n",
       "3           1  0.200000  0.212122  0.590435   0.160296     108        1454   \n",
       "4           1  0.226957  0.229270  0.436957   0.186900      82        1518   \n",
       "\n",
       "    cnt  \n",
       "0   985  \n",
       "1   801  \n",
       "2  1349  \n",
       "3  1562  \n",
       "4  1600  "
      ]
     },
     "execution_count": 5,
     "metadata": {},
     "output_type": "execute_result"
    }
   ],
   "source": [
    "day.head()"
   ]
  },
  {
   "cell_type": "code",
   "execution_count": 6,
   "metadata": {
    "execution": {
     "iopub.execute_input": "2021-09-12T18:16:59.373706Z",
     "iopub.status.busy": "2021-09-12T18:16:59.373382Z",
     "iopub.status.idle": "2021-09-12T18:16:59.379803Z",
     "shell.execute_reply": "2021-09-12T18:16:59.378615Z",
     "shell.execute_reply.started": "2021-09-12T18:16:59.373673Z"
    }
   },
   "outputs": [
    {
     "name": "stdout",
     "output_type": "stream",
     "text": [
      "Shape of hour data: (17379, 17)\n",
      "Shape of Day data: (731, 16)\n"
     ]
    }
   ],
   "source": [
    "print(\"Shape of hour data: {}\".format(hour.shape))\n",
    "print(\"Shape of Day data: {}\".format(day.shape))"
   ]
  },
  {
   "cell_type": "code",
   "execution_count": 35,
   "metadata": {
    "execution": {
     "iopub.execute_input": "2021-09-12T18:16:59.381420Z",
     "iopub.status.busy": "2021-09-12T18:16:59.381122Z",
     "iopub.status.idle": "2021-09-12T18:16:59.398329Z",
     "shell.execute_reply": "2021-09-12T18:16:59.396923Z",
     "shell.execute_reply.started": "2021-09-12T18:16:59.381391Z"
    }
   },
   "outputs": [
    {
     "data": {
      "text/plain": [
       "Index(['season', 'yr', 'mnth', 'hr', 'holiday', 'weekday', 'workingday',\n",
       "       'weathersit', 'temp', 'atemp', 'hum', 'windspeed', 'casual',\n",
       "       'registered'],\n",
       "      dtype='object')"
      ]
     },
     "execution_count": 35,
     "metadata": {},
     "output_type": "execute_result"
    }
   ],
   "source": [
    "hour_features = hour.drop(\"cnt\", axis = 1).columns\n",
    "hour_features"
   ]
  },
  {
   "cell_type": "code",
   "execution_count": 36,
   "metadata": {
    "execution": {
     "iopub.execute_input": "2021-09-12T18:16:59.401331Z",
     "iopub.status.busy": "2021-09-12T18:16:59.400994Z",
     "iopub.status.idle": "2021-09-12T18:16:59.413501Z",
     "shell.execute_reply": "2021-09-12T18:16:59.412544Z",
     "shell.execute_reply.started": "2021-09-12T18:16:59.401298Z"
    }
   },
   "outputs": [
    {
     "data": {
      "text/plain": [
       "season          int64\n",
       "yr              int64\n",
       "mnth            int64\n",
       "hr              int64\n",
       "holiday         int64\n",
       "weekday         int64\n",
       "workingday      int64\n",
       "weathersit      int64\n",
       "temp          float64\n",
       "atemp         float64\n",
       "hum           float64\n",
       "windspeed     float64\n",
       "casual          int64\n",
       "registered      int64\n",
       "cnt             int64\n",
       "dtype: object"
      ]
     },
     "execution_count": 36,
     "metadata": {},
     "output_type": "execute_result"
    }
   ],
   "source": [
    "# Data types\n",
    "hour.dtypes"
   ]
  },
  {
   "cell_type": "code",
   "execution_count": 9,
   "metadata": {
    "execution": {
     "iopub.execute_input": "2021-09-12T18:16:59.416288Z",
     "iopub.status.busy": "2021-09-12T18:16:59.415776Z",
     "iopub.status.idle": "2021-09-12T18:16:59.433374Z",
     "shell.execute_reply": "2021-09-12T18:16:59.432124Z",
     "shell.execute_reply.started": "2021-09-12T18:16:59.416254Z"
    }
   },
   "outputs": [
    {
     "name": "stdout",
     "output_type": "stream",
     "text": [
      "1    8734\n",
      "0    8645\n",
      "Name: yr, dtype: int64\n",
      "3    4496\n",
      "2    4409\n",
      "1    4242\n",
      "4    4232\n",
      "Name: season, dtype: int64\n"
     ]
    }
   ],
   "source": [
    "print(hour[\"yr\"].value_counts())\n",
    "print(hour[\"season\"].value_counts())"
   ]
  },
  {
   "cell_type": "markdown",
   "metadata": {
    "execution": {
     "iopub.execute_input": "2021-08-20T17:42:28.209005Z",
     "iopub.status.busy": "2021-08-20T17:42:28.208549Z",
     "iopub.status.idle": "2021-08-20T17:42:28.216351Z",
     "shell.execute_reply": "2021-08-20T17:42:28.215329Z",
     "shell.execute_reply.started": "2021-08-20T17:42:28.208965Z"
    }
   },
   "source": [
    "### Feature Description\n",
    "- instant: record index (Irrelevant)\n",
    "- dteday : date \n",
    "- season : season (1:winter, 2:spring, 3:summer, 4:fall) \n",
    "- yr : year (0: 2011, 1:2012) \n",
    "- mnth : month ( 1 to 12) \n",
    "- hr : hour (0 to 23) \n",
    "- holiday : weather day is holiday or not \n",
    "- weekday : day of the week \n",
    "- workingday : if day is neither weekend nor holiday is 1, otherwise is 0. \n",
    "- weathersit : \n",
    "    - 1: Clear, Few clouds, Partly cloudy, Partly cloudy \n",
    "    - 2: Mist + Cloudy, Mist + Broken clouds, Mist + Few clouds, Mist \n",
    "    - 3: Light Snow, Light Rain + Thunderstorm + Scattered clouds, Light Rain + Scattered clouds \n",
    "    - 4: Heavy Rain + Ice Pallets + Thunderstorm + Mist, Snow + Fog \n",
    "- temp : Normalized temperature in Celsius. The values are derived via (t-t_min)/(t_max-t_min), t_min=-8, t_max=+39 (only in hourly scale) \n",
    "- atemp: Normalized feeling temperature in Celsius. The values are derived via (t-t_min)/(t_max-t_min), t_min=-16, t_max=+50 (only in hourly scale) \n",
    "- hum: Normalized humidity. The values are divided to 100 (max) \n",
    "- windspeed: Normalized wind speed. The values are divided to 67 (max) \n",
    "- casual: count of casual users \n",
    "- registered: count of registered users \n",
    "- cnt: count of total rental bikes including both casual and registered \n",
    " "
   ]
  },
  {
   "cell_type": "code",
   "execution_count": 10,
   "metadata": {
    "execution": {
     "iopub.execute_input": "2021-09-12T18:16:59.436090Z",
     "iopub.status.busy": "2021-09-12T18:16:59.435415Z",
     "iopub.status.idle": "2021-09-12T18:16:59.443104Z",
     "shell.execute_reply": "2021-09-12T18:16:59.442211Z",
     "shell.execute_reply.started": "2021-09-12T18:16:59.436045Z"
    }
   },
   "outputs": [],
   "source": [
    "from datetime import datetime\n",
    "from dateutil import parser"
   ]
  },
  {
   "cell_type": "code",
   "execution_count": 11,
   "metadata": {
    "execution": {
     "iopub.execute_input": "2021-09-12T18:16:59.445130Z",
     "iopub.status.busy": "2021-09-12T18:16:59.444508Z",
     "iopub.status.idle": "2021-09-12T18:16:59.656768Z",
     "shell.execute_reply": "2021-09-12T18:16:59.655646Z",
     "shell.execute_reply.started": "2021-09-12T18:16:59.445086Z"
    }
   },
   "outputs": [
    {
     "data": {
      "image/png": "[encoded data removed]",
      "text/plain": [
       "<Figure size 576x432 with 1 Axes>"
      ]
     },
     "metadata": {
      "needs_background": "light"
     },
     "output_type": "display_data"
    }
   ],
   "source": [
    "# Missing values\n",
    "plt.figure(figsize = (8,6))\n",
    "hour.isna().sum().plot() # NO missing Values\n",
    "plt.title(\"Missing Values\")\n",
    "plt.show()"
   ]
  },
  {
   "cell_type": "code",
   "execution_count": 37,
   "metadata": {
    "execution": {
     "iopub.execute_input": "2021-09-12T18:16:59.658369Z",
     "iopub.status.busy": "2021-09-12T18:16:59.658090Z",
     "iopub.status.idle": "2021-09-12T18:16:59.677267Z",
     "shell.execute_reply": "2021-09-12T18:16:59.676257Z",
     "shell.execute_reply.started": "2021-09-12T18:16:59.658342Z"
    }
   },
   "outputs": [
    {
     "data": {
      "text/html": [
       "<div>\n",
       "<style scoped>\n",
       "    .dataframe tbody tr th:only-of-type {\n",
       "        vertical-align: middle;\n",
       "    }\n",
       "\n",
       "    .dataframe tbody tr th {\n",
       "        vertical-align: top;\n",
       "    }\n",
       "\n",
       "    .dataframe thead th {\n",
       "        text-align: right;\n",
       "    }\n",
       "</style>\n",
       "<table border=\"1\" class=\"dataframe\">\n",
       "  <thead>\n",
       "    <tr style=\"text-align: right;\">\n",
       "      <th></th>\n",
       "      <th>season</th>\n",
       "      <th>yr</th>\n",
       "      <th>mnth</th>\n",
       "      <th>hr</th>\n",
       "      <th>holiday</th>\n",
       "      <th>weekday</th>\n",
       "      <th>workingday</th>\n",
       "      <th>weathersit</th>\n",
       "      <th>temp</th>\n",
       "      <th>atemp</th>\n",
       "      <th>hum</th>\n",
       "      <th>windspeed</th>\n",
       "      <th>casual</th>\n",
       "      <th>registered</th>\n",
       "      <th>cnt</th>\n",
       "    </tr>\n",
       "  </thead>\n",
       "  <tbody>\n",
       "    <tr>\n",
       "      <th>0</th>\n",
       "      <td>1</td>\n",
       "      <td>0</td>\n",
       "      <td>1</td>\n",
       "      <td>0</td>\n",
       "      <td>0</td>\n",
       "      <td>6</td>\n",
       "      <td>0</td>\n",
       "      <td>1</td>\n",
       "      <td>0.24</td>\n",
       "      <td>0.2879</td>\n",
       "      <td>0.81</td>\n",
       "      <td>0.0</td>\n",
       "      <td>3</td>\n",
       "      <td>13</td>\n",
       "      <td>16</td>\n",
       "    </tr>\n",
       "    <tr>\n",
       "      <th>1</th>\n",
       "      <td>1</td>\n",
       "      <td>0</td>\n",
       "      <td>1</td>\n",
       "      <td>1</td>\n",
       "      <td>0</td>\n",
       "      <td>6</td>\n",
       "      <td>0</td>\n",
       "      <td>1</td>\n",
       "      <td>0.22</td>\n",
       "      <td>0.2727</td>\n",
       "      <td>0.80</td>\n",
       "      <td>0.0</td>\n",
       "      <td>8</td>\n",
       "      <td>32</td>\n",
       "      <td>40</td>\n",
       "    </tr>\n",
       "    <tr>\n",
       "      <th>2</th>\n",
       "      <td>1</td>\n",
       "      <td>0</td>\n",
       "      <td>1</td>\n",
       "      <td>2</td>\n",
       "      <td>0</td>\n",
       "      <td>6</td>\n",
       "      <td>0</td>\n",
       "      <td>1</td>\n",
       "      <td>0.22</td>\n",
       "      <td>0.2727</td>\n",
       "      <td>0.80</td>\n",
       "      <td>0.0</td>\n",
       "      <td>5</td>\n",
       "      <td>27</td>\n",
       "      <td>32</td>\n",
       "    </tr>\n",
       "    <tr>\n",
       "      <th>3</th>\n",
       "      <td>1</td>\n",
       "      <td>0</td>\n",
       "      <td>1</td>\n",
       "      <td>3</td>\n",
       "      <td>0</td>\n",
       "      <td>6</td>\n",
       "      <td>0</td>\n",
       "      <td>1</td>\n",
       "      <td>0.24</td>\n",
       "      <td>0.2879</td>\n",
       "      <td>0.75</td>\n",
       "      <td>0.0</td>\n",
       "      <td>3</td>\n",
       "      <td>10</td>\n",
       "      <td>13</td>\n",
       "    </tr>\n",
       "    <tr>\n",
       "      <th>4</th>\n",
       "      <td>1</td>\n",
       "      <td>0</td>\n",
       "      <td>1</td>\n",
       "      <td>4</td>\n",
       "      <td>0</td>\n",
       "      <td>6</td>\n",
       "      <td>0</td>\n",
       "      <td>1</td>\n",
       "      <td>0.24</td>\n",
       "      <td>0.2879</td>\n",
       "      <td>0.75</td>\n",
       "      <td>0.0</td>\n",
       "      <td>0</td>\n",
       "      <td>1</td>\n",
       "      <td>1</td>\n",
       "    </tr>\n",
       "  </tbody>\n",
       "</table>\n",
       "</div>"
      ],
      "text/plain": [
       "   season  yr  mnth  hr  holiday  weekday  workingday  weathersit  temp  \\\n",
       "0       1   0     1   0        0        6           0           1  0.24   \n",
       "1       1   0     1   1        0        6           0           1  0.22   \n",
       "2       1   0     1   2        0        6           0           1  0.22   \n",
       "3       1   0     1   3        0        6           0           1  0.24   \n",
       "4       1   0     1   4        0        6           0           1  0.24   \n",
       "\n",
       "    atemp   hum  windspeed  casual  registered  cnt  \n",
       "0  0.2879  0.81        0.0       3          13   16  \n",
       "1  0.2727  0.80        0.0       8          32   40  \n",
       "2  0.2727  0.80        0.0       5          27   32  \n",
       "3  0.2879  0.75        0.0       3          10   13  \n",
       "4  0.2879  0.75        0.0       0           1    1  "
      ]
     },
     "execution_count": 37,
     "metadata": {},
     "output_type": "execute_result"
    }
   ],
   "source": [
    "hour.head()"
   ]
  },
  {
   "cell_type": "markdown",
   "metadata": {},
   "source": [
    "**Ideas**\n",
    "1. Divide hour of day into 5 categories \n",
    "* Early Morning - 4th hour to 7th hour \n",
    "* Morning - 8th hour to 12th hour\n",
    "* Afternoon - 13th hour to 16th hour\n",
    "* Evening - 17th hour to 20th hour\n",
    "* Night - 21st hour to 3rd hour\n",
    "\n",
    "2. Divide Weekday - Weekday or Weekend\n",
    "3. Season, Weather Sit - Change it to OHE as the it is not an ordinal data\n"
   ]
  },
  {
   "cell_type": "markdown",
   "metadata": {},
   "source": [
    "## Data Transformation"
   ]
  },
  {
   "cell_type": "code",
   "execution_count": 13,
   "metadata": {
    "execution": {
     "iopub.execute_input": "2021-09-12T18:16:59.678910Z",
     "iopub.status.busy": "2021-09-12T18:16:59.678629Z",
     "iopub.status.idle": "2021-09-12T18:16:59.690154Z",
     "shell.execute_reply": "2021-09-12T18:16:59.689504Z",
     "shell.execute_reply.started": "2021-09-12T18:16:59.678878Z"
    }
   },
   "outputs": [
    {
     "data": {
      "text/plain": [
       "(0, 886)"
      ]
     },
     "execution_count": 13,
     "metadata": {},
     "output_type": "execute_result"
    }
   ],
   "source": [
    "hour[\"registered\"].min(), hour[\"registered\"].max(),"
   ]
  },
  {
   "cell_type": "code",
   "execution_count": 14,
   "metadata": {
    "execution": {
     "iopub.execute_input": "2021-09-12T18:16:59.691463Z",
     "iopub.status.busy": "2021-09-12T18:16:59.691090Z",
     "iopub.status.idle": "2021-09-12T18:16:59.892402Z",
     "shell.execute_reply": "2021-09-12T18:16:59.891349Z",
     "shell.execute_reply.started": "2021-09-12T18:16:59.691434Z"
    }
   },
   "outputs": [
    {
     "data": {
      "text/plain": [
       "<AxesSubplot:>"
      ]
     },
     "execution_count": 14,
     "metadata": {},
     "output_type": "execute_result"
    },
    {
     "data": {
      "image/png": "[encoded data removed]",
      "text/plain": [
       "<Figure size 432x288 with 1 Axes>"
      ]
     },
     "metadata": {
      "needs_background": "light"
     },
     "output_type": "display_data"
    }
   ],
   "source": [
    "# Let us take a look at the Regsitered count targets distribution\n",
    "hour.groupby(pd.cut(hour[\"registered\"], bins = range(0,1000,50)))[\"registered\"].count().hist()"
   ]
  },
  {
   "cell_type": "markdown",
   "metadata": {},
   "source": [
    "The least populated class of registered count has only 1 occurence. SO we cannot use a Stratified Sampling approach.\n",
    "We will use the simple random sampling to create the test set\n"
   ]
  },
  {
   "cell_type": "code",
   "execution_count": 38,
   "metadata": {
    "execution": {
     "iopub.execute_input": "2021-09-12T18:16:59.895786Z",
     "iopub.status.busy": "2021-09-12T18:16:59.895470Z",
     "iopub.status.idle": "2021-09-12T18:17:00.076155Z",
     "shell.execute_reply": "2021-09-12T18:17:00.075132Z",
     "shell.execute_reply.started": "2021-09-12T18:16:59.895756Z"
    }
   },
   "outputs": [
    {
     "data": {
      "text/plain": [
       "((13903, 15), (3476, 15))"
      ]
     },
     "execution_count": 38,
     "metadata": {},
     "output_type": "execute_result"
    }
   ],
   "source": [
    "# BEfore moving on let us create the Test dataset\n",
    "hour.shape\n",
    "\n",
    "from sklearn.model_selection import train_test_split\n",
    "train_hour, test_hour = train_test_split(hour, test_size = 0.2, random_state = 12)\n",
    "\n",
    "train_hour.shape, test_hour.shape"
   ]
  },
  {
   "cell_type": "code",
   "execution_count": 39,
   "metadata": {
    "execution": {
     "iopub.execute_input": "2021-09-12T18:17:00.077862Z",
     "iopub.status.busy": "2021-09-12T18:17:00.077446Z",
     "iopub.status.idle": "2021-09-12T18:17:00.097556Z",
     "shell.execute_reply": "2021-09-12T18:17:00.096431Z",
     "shell.execute_reply.started": "2021-09-12T18:17:00.077817Z"
    }
   },
   "outputs": [
    {
     "data": {
      "text/html": [
       "<div>\n",
       "<style scoped>\n",
       "    .dataframe tbody tr th:only-of-type {\n",
       "        vertical-align: middle;\n",
       "    }\n",
       "\n",
       "    .dataframe tbody tr th {\n",
       "        vertical-align: top;\n",
       "    }\n",
       "\n",
       "    .dataframe thead th {\n",
       "        text-align: right;\n",
       "    }\n",
       "</style>\n",
       "<table border=\"1\" class=\"dataframe\">\n",
       "  <thead>\n",
       "    <tr style=\"text-align: right;\">\n",
       "      <th></th>\n",
       "      <th>season</th>\n",
       "      <th>yr</th>\n",
       "      <th>mnth</th>\n",
       "      <th>hr</th>\n",
       "      <th>holiday</th>\n",
       "      <th>weekday</th>\n",
       "      <th>workingday</th>\n",
       "      <th>weathersit</th>\n",
       "      <th>temp</th>\n",
       "      <th>atemp</th>\n",
       "      <th>hum</th>\n",
       "      <th>windspeed</th>\n",
       "      <th>casual</th>\n",
       "      <th>registered</th>\n",
       "      <th>cnt</th>\n",
       "    </tr>\n",
       "  </thead>\n",
       "  <tbody>\n",
       "    <tr>\n",
       "      <th>8273</th>\n",
       "      <td>4</td>\n",
       "      <td>0</td>\n",
       "      <td>12</td>\n",
       "      <td>9</td>\n",
       "      <td>0</td>\n",
       "      <td>5</td>\n",
       "      <td>1</td>\n",
       "      <td>1</td>\n",
       "      <td>0.36</td>\n",
       "      <td>0.3333</td>\n",
       "      <td>0.46</td>\n",
       "      <td>0.3881</td>\n",
       "      <td>8</td>\n",
       "      <td>235</td>\n",
       "      <td>243</td>\n",
       "    </tr>\n",
       "    <tr>\n",
       "      <th>8393</th>\n",
       "      <td>1</td>\n",
       "      <td>0</td>\n",
       "      <td>12</td>\n",
       "      <td>9</td>\n",
       "      <td>0</td>\n",
       "      <td>3</td>\n",
       "      <td>1</td>\n",
       "      <td>2</td>\n",
       "      <td>0.40</td>\n",
       "      <td>0.4091</td>\n",
       "      <td>0.87</td>\n",
       "      <td>0.2239</td>\n",
       "      <td>14</td>\n",
       "      <td>220</td>\n",
       "      <td>234</td>\n",
       "    </tr>\n",
       "    <tr>\n",
       "      <th>1351</th>\n",
       "      <td>1</td>\n",
       "      <td>0</td>\n",
       "      <td>3</td>\n",
       "      <td>14</td>\n",
       "      <td>0</td>\n",
       "      <td>2</td>\n",
       "      <td>1</td>\n",
       "      <td>1</td>\n",
       "      <td>0.32</td>\n",
       "      <td>0.3333</td>\n",
       "      <td>0.36</td>\n",
       "      <td>0.1343</td>\n",
       "      <td>18</td>\n",
       "      <td>61</td>\n",
       "      <td>79</td>\n",
       "    </tr>\n",
       "    <tr>\n",
       "      <th>12541</th>\n",
       "      <td>2</td>\n",
       "      <td>1</td>\n",
       "      <td>6</td>\n",
       "      <td>18</td>\n",
       "      <td>0</td>\n",
       "      <td>1</td>\n",
       "      <td>1</td>\n",
       "      <td>2</td>\n",
       "      <td>0.80</td>\n",
       "      <td>0.7273</td>\n",
       "      <td>0.43</td>\n",
       "      <td>0.2985</td>\n",
       "      <td>105</td>\n",
       "      <td>726</td>\n",
       "      <td>831</td>\n",
       "    </tr>\n",
       "    <tr>\n",
       "      <th>12862</th>\n",
       "      <td>3</td>\n",
       "      <td>1</td>\n",
       "      <td>6</td>\n",
       "      <td>3</td>\n",
       "      <td>0</td>\n",
       "      <td>1</td>\n",
       "      <td>1</td>\n",
       "      <td>1</td>\n",
       "      <td>0.68</td>\n",
       "      <td>0.6364</td>\n",
       "      <td>0.69</td>\n",
       "      <td>0.2537</td>\n",
       "      <td>1</td>\n",
       "      <td>4</td>\n",
       "      <td>5</td>\n",
       "    </tr>\n",
       "  </tbody>\n",
       "</table>\n",
       "</div>"
      ],
      "text/plain": [
       "       season  yr  mnth  hr  holiday  weekday  workingday  weathersit  temp  \\\n",
       "8273        4   0    12   9        0        5           1           1  0.36   \n",
       "8393        1   0    12   9        0        3           1           2  0.40   \n",
       "1351        1   0     3  14        0        2           1           1  0.32   \n",
       "12541       2   1     6  18        0        1           1           2  0.80   \n",
       "12862       3   1     6   3        0        1           1           1  0.68   \n",
       "\n",
       "        atemp   hum  windspeed  casual  registered  cnt  \n",
       "8273   0.3333  0.46     0.3881       8         235  243  \n",
       "8393   0.4091  0.87     0.2239      14         220  234  \n",
       "1351   0.3333  0.36     0.1343      18          61   79  \n",
       "12541  0.7273  0.43     0.2985     105         726  831  \n",
       "12862  0.6364  0.69     0.2537       1           4    5  "
      ]
     },
     "execution_count": 39,
     "metadata": {},
     "output_type": "execute_result"
    }
   ],
   "source": [
    "# Using Train set for further analysis\n",
    "train_hour.head()"
   ]
  },
  {
   "cell_type": "markdown",
   "metadata": {},
   "source": [
    "Early Morning - 4th hour to 7th hour\n",
    "\n",
    "Morning - 8th hour to 12th hour\n",
    "\n",
    "Afternoon - 13th hour to 16th hour\n",
    "\n",
    "Evening - 17th hour to 20th hour\n",
    "\n",
    "Night - 21st hour to 3rd hour"
   ]
  },
  {
   "cell_type": "code",
   "execution_count": 40,
   "metadata": {
    "execution": {
     "iopub.execute_input": "2021-09-12T18:17:00.099250Z",
     "iopub.status.busy": "2021-09-12T18:17:00.098908Z",
     "iopub.status.idle": "2021-09-12T18:17:00.109500Z",
     "shell.execute_reply": "2021-09-12T18:17:00.108442Z",
     "shell.execute_reply.started": "2021-09-12T18:17:00.099209Z"
    }
   },
   "outputs": [],
   "source": [
    "def hour_transformer(x):\n",
    "    if x >=4 and x <=7:\n",
    "        return \"Early_Morning\"\n",
    "    elif x>=8 and x<=12:\n",
    "        return \"Morning\"\n",
    "    elif x >= 13 and x <=16:\n",
    "        return \"Afternoon\" \n",
    "    elif x >=17 and x <=20:\n",
    "        return \"Evening\"\n",
    "    elif x>=21 or x <=3:\n",
    "        return \"Night\"\n"
   ]
  },
  {
   "cell_type": "code",
   "execution_count": 41,
   "metadata": {
    "execution": {
     "iopub.execute_input": "2021-09-12T18:17:00.111350Z",
     "iopub.status.busy": "2021-09-12T18:17:00.110928Z",
     "iopub.status.idle": "2021-09-12T18:17:00.125352Z",
     "shell.execute_reply": "2021-09-12T18:17:00.124262Z",
     "shell.execute_reply.started": "2021-09-12T18:17:00.111304Z"
    }
   },
   "outputs": [],
   "source": [
    "## Transformer\n",
    "from sklearn.base import BaseEstimator, TransformerMixin\n",
    "\n",
    "\n",
    "class dataset_transformer(BaseEstimator, TransformerMixin):\n",
    "    def __init__(self, transform_cols = 1, drop_cols = 1, transform_season = 1, tranform_weathersit = 1, transform_weekday = 1, add_hour_of_day = 1, drop_originals = 0):\n",
    "        self.transform_cols = transform_cols\n",
    "        self.drop_cols = drop_cols\n",
    "        self.transform_season = transform_season\n",
    "        self.transform_weathersit = tranform_weathersit\n",
    "        self.transform_weekday = transform_weekday\n",
    "        self.add_hour_of_day = add_hour_of_day\n",
    "        self.drop_originals = drop_originals\n",
    "        return None\n",
    "    def fit(self, X, y = None):\n",
    "        return self\n",
    "    def transform(self, X, y = None):\n",
    "        transformed_df = X.copy()\n",
    "        if self.transform_cols:\n",
    "                if self.transform_weathersit:\n",
    "                    transformed_df[\"weathersit_tr\"] = transformed_df[\"weathersit\"].map({1:'Clear', 2:'Mist', 3:'Light_Snow', 4:'Heavy_Rain'})\n",
    "                if self.transform_weekday:\n",
    "                    transformed_df[\"weekday_tr\"] =  transformed_df[\"weekday\"].transform(lambda x: 0 if (x == 0 or x == 6) else 1)\n",
    "                if self.add_hour_of_day:\n",
    "                    transformed_df[\"hour_of_day_tr\"] = transformed_df[\"hr\"].transform(lambda x: hour_transformer(x))\n",
    "                if self.drop_originals:\n",
    "                    transformed_df.drop([\"season\", \"weathersit\", \"weekday\", \"hr\"], axis = 1, inplace = True)\n",
    "        return transformed_df\n",
    "\n",
    "    \n",
    "        "
   ]
  },
  {
   "cell_type": "code",
   "execution_count": 42,
   "metadata": {
    "execution": {
     "iopub.execute_input": "2021-09-12T18:17:00.127884Z",
     "iopub.status.busy": "2021-09-12T18:17:00.126767Z",
     "iopub.status.idle": "2021-09-12T18:17:00.188930Z",
     "shell.execute_reply": "2021-09-12T18:17:00.188115Z",
     "shell.execute_reply.started": "2021-09-12T18:17:00.127847Z"
    }
   },
   "outputs": [
    {
     "data": {
      "text/html": [
       "<div>\n",
       "<style scoped>\n",
       "    .dataframe tbody tr th:only-of-type {\n",
       "        vertical-align: middle;\n",
       "    }\n",
       "\n",
       "    .dataframe tbody tr th {\n",
       "        vertical-align: top;\n",
       "    }\n",
       "\n",
       "    .dataframe thead th {\n",
       "        text-align: right;\n",
       "    }\n",
       "</style>\n",
       "<table border=\"1\" class=\"dataframe\">\n",
       "  <thead>\n",
       "    <tr style=\"text-align: right;\">\n",
       "      <th></th>\n",
       "      <th>yr</th>\n",
       "      <th>mnth</th>\n",
       "      <th>holiday</th>\n",
       "      <th>workingday</th>\n",
       "      <th>temp</th>\n",
       "      <th>atemp</th>\n",
       "      <th>hum</th>\n",
       "      <th>windspeed</th>\n",
       "      <th>casual</th>\n",
       "      <th>registered</th>\n",
       "      <th>cnt</th>\n",
       "      <th>weathersit_tr</th>\n",
       "      <th>weekday_tr</th>\n",
       "      <th>hour_of_day_tr</th>\n",
       "    </tr>\n",
       "  </thead>\n",
       "  <tbody>\n",
       "    <tr>\n",
       "      <th>8273</th>\n",
       "      <td>0</td>\n",
       "      <td>12</td>\n",
       "      <td>0</td>\n",
       "      <td>1</td>\n",
       "      <td>0.36</td>\n",
       "      <td>0.3333</td>\n",
       "      <td>0.46</td>\n",
       "      <td>0.3881</td>\n",
       "      <td>8</td>\n",
       "      <td>235</td>\n",
       "      <td>243</td>\n",
       "      <td>Clear</td>\n",
       "      <td>1</td>\n",
       "      <td>Morning</td>\n",
       "    </tr>\n",
       "    <tr>\n",
       "      <th>8393</th>\n",
       "      <td>0</td>\n",
       "      <td>12</td>\n",
       "      <td>0</td>\n",
       "      <td>1</td>\n",
       "      <td>0.40</td>\n",
       "      <td>0.4091</td>\n",
       "      <td>0.87</td>\n",
       "      <td>0.2239</td>\n",
       "      <td>14</td>\n",
       "      <td>220</td>\n",
       "      <td>234</td>\n",
       "      <td>Mist</td>\n",
       "      <td>1</td>\n",
       "      <td>Morning</td>\n",
       "    </tr>\n",
       "    <tr>\n",
       "      <th>1351</th>\n",
       "      <td>0</td>\n",
       "      <td>3</td>\n",
       "      <td>0</td>\n",
       "      <td>1</td>\n",
       "      <td>0.32</td>\n",
       "      <td>0.3333</td>\n",
       "      <td>0.36</td>\n",
       "      <td>0.1343</td>\n",
       "      <td>18</td>\n",
       "      <td>61</td>\n",
       "      <td>79</td>\n",
       "      <td>Clear</td>\n",
       "      <td>1</td>\n",
       "      <td>Afternoon</td>\n",
       "    </tr>\n",
       "    <tr>\n",
       "      <th>12541</th>\n",
       "      <td>1</td>\n",
       "      <td>6</td>\n",
       "      <td>0</td>\n",
       "      <td>1</td>\n",
       "      <td>0.80</td>\n",
       "      <td>0.7273</td>\n",
       "      <td>0.43</td>\n",
       "      <td>0.2985</td>\n",
       "      <td>105</td>\n",
       "      <td>726</td>\n",
       "      <td>831</td>\n",
       "      <td>Mist</td>\n",
       "      <td>1</td>\n",
       "      <td>Evening</td>\n",
       "    </tr>\n",
       "    <tr>\n",
       "      <th>12862</th>\n",
       "      <td>1</td>\n",
       "      <td>6</td>\n",
       "      <td>0</td>\n",
       "      <td>1</td>\n",
       "      <td>0.68</td>\n",
       "      <td>0.6364</td>\n",
       "      <td>0.69</td>\n",
       "      <td>0.2537</td>\n",
       "      <td>1</td>\n",
       "      <td>4</td>\n",
       "      <td>5</td>\n",
       "      <td>Clear</td>\n",
       "      <td>1</td>\n",
       "      <td>Night</td>\n",
       "    </tr>\n",
       "  </tbody>\n",
       "</table>\n",
       "</div>"
      ],
      "text/plain": [
       "       yr  mnth  holiday  workingday  temp   atemp   hum  windspeed  casual  \\\n",
       "8273    0    12        0           1  0.36  0.3333  0.46     0.3881       8   \n",
       "8393    0    12        0           1  0.40  0.4091  0.87     0.2239      14   \n",
       "1351    0     3        0           1  0.32  0.3333  0.36     0.1343      18   \n",
       "12541   1     6        0           1  0.80  0.7273  0.43     0.2985     105   \n",
       "12862   1     6        0           1  0.68  0.6364  0.69     0.2537       1   \n",
       "\n",
       "       registered  cnt weathersit_tr  weekday_tr hour_of_day_tr  \n",
       "8273          235  243         Clear           1        Morning  \n",
       "8393          220  234          Mist           1        Morning  \n",
       "1351           61   79         Clear           1      Afternoon  \n",
       "12541         726  831          Mist           1        Evening  \n",
       "12862           4    5         Clear           1          Night  "
      ]
     },
     "execution_count": 42,
     "metadata": {},
     "output_type": "execute_result"
    }
   ],
   "source": [
    "col_trans = dataset_transformer(drop_originals = 1)\n",
    "train_hour_tr = col_trans.transform(train_hour)\n",
    "train_hour_tr.head()"
   ]
  },
  {
   "cell_type": "markdown",
   "metadata": {
    "execution": {
     "iopub.execute_input": "2021-08-21T19:31:49.832401Z",
     "iopub.status.busy": "2021-08-21T19:31:49.832014Z",
     "iopub.status.idle": "2021-08-21T19:31:49.852566Z",
     "shell.execute_reply": "2021-08-21T19:31:49.851472Z",
     "shell.execute_reply.started": "2021-08-21T19:31:49.832369Z"
    }
   },
   "source": [
    "## EDA"
   ]
  },
  {
   "cell_type": "code",
   "execution_count": 87,
   "metadata": {
    "execution": {
     "iopub.execute_input": "2021-09-12T18:23:22.842482Z",
     "iopub.status.busy": "2021-09-12T18:23:22.842089Z",
     "iopub.status.idle": "2021-09-12T18:23:22.886074Z",
     "shell.execute_reply": "2021-09-12T18:23:22.885238Z",
     "shell.execute_reply.started": "2021-09-12T18:23:22.842450Z"
    }
   },
   "outputs": [
    {
     "name": "stdout",
     "output_type": "stream",
     "text": [
      "The average registered count of the training dataset 153\n",
      "The average registered count of the Testing dataset 156\n"
     ]
    }
   ],
   "source": [
    "# Looking at the summary stats\n",
    "train_hour_tr.describe()\n",
    "print(\"The average registered count of the training dataset %.0f\" %(train_hour_tr[\"registered\"].mean()))\n",
    "print(\"The average registered count of the Testing dataset %.0f\" %(test_hour_tr[\"registered\"].mean()))"
   ]
  },
  {
   "cell_type": "code",
   "execution_count": 20,
   "metadata": {
    "execution": {
     "iopub.execute_input": "2021-09-12T18:17:00.190491Z",
     "iopub.status.busy": "2021-09-12T18:17:00.190027Z",
     "iopub.status.idle": "2021-09-12T18:17:00.247941Z",
     "shell.execute_reply": "2021-09-12T18:17:00.246669Z",
     "shell.execute_reply.started": "2021-09-12T18:17:00.190450Z"
    }
   },
   "outputs": [
    {
     "data": {
      "text/html": [
       "<div>\n",
       "<style scoped>\n",
       "    .dataframe tbody tr th:only-of-type {\n",
       "        vertical-align: middle;\n",
       "    }\n",
       "\n",
       "    .dataframe tbody tr th {\n",
       "        vertical-align: top;\n",
       "    }\n",
       "\n",
       "    .dataframe thead th {\n",
       "        text-align: right;\n",
       "    }\n",
       "</style>\n",
       "<table border=\"1\" class=\"dataframe\">\n",
       "  <thead>\n",
       "    <tr style=\"text-align: right;\">\n",
       "      <th>weekday_tr</th>\n",
       "      <th>0</th>\n",
       "      <th>1</th>\n",
       "    </tr>\n",
       "    <tr>\n",
       "      <th>holiday</th>\n",
       "      <th></th>\n",
       "      <th></th>\n",
       "    </tr>\n",
       "  </thead>\n",
       "  <tbody>\n",
       "    <tr>\n",
       "      <th>0</th>\n",
       "      <td>4027</td>\n",
       "      <td>9464</td>\n",
       "    </tr>\n",
       "    <tr>\n",
       "      <th>1</th>\n",
       "      <td>0</td>\n",
       "      <td>412</td>\n",
       "    </tr>\n",
       "  </tbody>\n",
       "</table>\n",
       "</div>"
      ],
      "text/plain": [
       "weekday_tr     0     1\n",
       "holiday               \n",
       "0           4027  9464\n",
       "1              0   412"
      ]
     },
     "execution_count": 20,
     "metadata": {},
     "output_type": "execute_result"
    }
   ],
   "source": [
    "# Check if the holiday represents the weekdays and weekends \n",
    "pd.crosstab(train_hour_tr[\"holiday\"],train_hour_tr[\"weekday_tr\"])"
   ]
  },
  {
   "cell_type": "markdown",
   "metadata": {},
   "source": [
    "The weekends do not count as holidays. However, there are 412 weekday holidays in the 2 years"
   ]
  },
  {
   "cell_type": "code",
   "execution_count": 21,
   "metadata": {
    "execution": {
     "iopub.execute_input": "2021-09-12T18:17:00.249869Z",
     "iopub.status.busy": "2021-09-12T18:17:00.249398Z",
     "iopub.status.idle": "2021-09-12T18:17:00.624234Z",
     "shell.execute_reply": "2021-09-12T18:17:00.623180Z",
     "shell.execute_reply.started": "2021-09-12T18:17:00.249825Z"
    }
   },
   "outputs": [
    {
     "data": {
      "image/png": "[encoded data removed]",
      "text/plain": [
       "<Figure size 432x288 with 1 Axes>"
      ]
     },
     "metadata": {
      "needs_background": "light"
     },
     "output_type": "display_data"
    }
   ],
   "source": [
    "# Registered count in weekdays and weekends\n",
    "plt.title(\"Registrations on weekdays vs weekends\")\n",
    "ax = sns.barplot(x = \"weekday_tr\", y = \"registered\", data = train_hour_tr)\n",
    "ax.set_xticklabels({'Weekend':0, 'Weekday':1}.keys())\n",
    "plt.show()"
   ]
  },
  {
   "cell_type": "markdown",
   "metadata": {},
   "source": [
    "There are more registrations on the weekdays than on the weekends. One reason could be is may be people rely on bikes for daily workplace commute."
   ]
  },
  {
   "cell_type": "code",
   "execution_count": 22,
   "metadata": {
    "execution": {
     "iopub.execute_input": "2021-09-12T18:17:00.626278Z",
     "iopub.status.busy": "2021-09-12T18:17:00.625854Z",
     "iopub.status.idle": "2021-09-12T18:17:01.100926Z",
     "shell.execute_reply": "2021-09-12T18:17:01.099755Z",
     "shell.execute_reply.started": "2021-09-12T18:17:00.626232Z"
    }
   },
   "outputs": [
    {
     "data": {
      "image/png": "[encoded data removed]",
      "text/plain": [
       "<Figure size 360x360 with 1 Axes>"
      ]
     },
     "metadata": {
      "needs_background": "light"
     },
     "output_type": "display_data"
    }
   ],
   "source": [
    "# We will use MannWhitneyU test to see if the registrations change with the weekday or weekend\n",
    "# Even though MannWhitneyU test does not expect the dependent variable to be normally distributed, let us still go ahead and check if it is normally distributed.\n",
    "sns.displot(data = train_hour_tr, x = \"registered\", hue = \"weekday_tr\", kind = 'kde', legend = False)\n",
    "plt.xlabel(\"Registrations\")\n",
    "plt.legend({\"Weekend\":0, \"Weekday\":1}.keys())\n",
    "plt.show()"
   ]
  },
  {
   "cell_type": "code",
   "execution_count": 23,
   "metadata": {
    "execution": {
     "iopub.execute_input": "2021-09-12T18:17:01.106704Z",
     "iopub.status.busy": "2021-09-12T18:17:01.106335Z",
     "iopub.status.idle": "2021-09-12T18:17:01.133832Z",
     "shell.execute_reply": "2021-09-12T18:17:01.132831Z",
     "shell.execute_reply.started": "2021-09-12T18:17:01.106670Z"
    }
   },
   "outputs": [
    {
     "name": "stdout",
     "output_type": "stream",
     "text": [
      "temp : 0.6706915425920954 ['Normal']\n",
      "atemp : 0.00022011874108668952 ['Skewed']\n",
      "registered : 0.0 ['Skewed']\n",
      "casual : 0.0 ['Skewed']\n",
      "**********************************************\n",
      "temp : 0.008828526626182949\n",
      "atemp : -0.07682598398053479\n",
      "registered : 1.5527844974336837\n",
      "casual : 2.538369552597277\n"
     ]
    }
   ],
   "source": [
    "# CHecking for Skewness of values\n",
    "from scipy.stats import skewtest, skew\n",
    "for i in train_hour_tr[[\"temp\", \"atemp\", \"registered\", \"casual\"]].columns:\n",
    "    print(i,':', skewtest(train_hour_tr[i]).pvalue, ['Skewed' if skewtest(train_hour_tr[i]).pvalue <= 0.05 else 'Normal'])\n",
    "print(\"**********************************************\")\n",
    "for i in train_hour_tr[[\"temp\", \"atemp\", \"registered\", \"casual\"]].columns:\n",
    "    print(i,':', skew(train_hour_tr[i]))\n",
    "    \n",
    "# H0 - This function tests the null hypothesis that the skewness of the population that the sample was drawn from is the same as that of a corresponding normal distribution."
   ]
  },
  {
   "cell_type": "markdown",
   "metadata": {
    "execution": {
     "iopub.execute_input": "2021-08-22T14:12:50.052097Z",
     "iopub.status.busy": "2021-08-22T14:12:50.051556Z",
     "iopub.status.idle": "2021-08-22T14:12:50.056567Z",
     "shell.execute_reply": "2021-08-22T14:12:50.055533Z",
     "shell.execute_reply.started": "2021-08-22T14:12:50.05204Z"
    }
   },
   "source": [
    "**The registered count is not normally distributed, as confirmed by skewtest**"
   ]
  },
  {
   "cell_type": "markdown",
   "metadata": {},
   "source": [
    "Data is not normally distributed. So, let us transform the data."
   ]
  },
  {
   "cell_type": "code",
   "execution_count": 24,
   "metadata": {
    "execution": {
     "iopub.execute_input": "2021-09-12T18:17:01.137764Z",
     "iopub.status.busy": "2021-09-12T18:17:01.137379Z",
     "iopub.status.idle": "2021-09-12T18:17:01.153755Z",
     "shell.execute_reply": "2021-09-12T18:17:01.152762Z",
     "shell.execute_reply.started": "2021-09-12T18:17:01.137730Z"
    }
   },
   "outputs": [
    {
     "data": {
      "text/html": [
       "<div>\n",
       "<style scoped>\n",
       "    .dataframe tbody tr th:only-of-type {\n",
       "        vertical-align: middle;\n",
       "    }\n",
       "\n",
       "    .dataframe tbody tr th {\n",
       "        vertical-align: top;\n",
       "    }\n",
       "\n",
       "    .dataframe thead th {\n",
       "        text-align: right;\n",
       "    }\n",
       "</style>\n",
       "<table border=\"1\" class=\"dataframe\">\n",
       "  <thead>\n",
       "    <tr style=\"text-align: right;\">\n",
       "      <th></th>\n",
       "      <th>registered</th>\n",
       "      <th>registered_norm</th>\n",
       "    </tr>\n",
       "  </thead>\n",
       "  <tbody>\n",
       "    <tr>\n",
       "      <th>8273</th>\n",
       "      <td>235</td>\n",
       "      <td>15.329710</td>\n",
       "    </tr>\n",
       "    <tr>\n",
       "      <th>8393</th>\n",
       "      <td>220</td>\n",
       "      <td>14.832397</td>\n",
       "    </tr>\n",
       "    <tr>\n",
       "      <th>1351</th>\n",
       "      <td>61</td>\n",
       "      <td>7.810250</td>\n",
       "    </tr>\n",
       "    <tr>\n",
       "      <th>12541</th>\n",
       "      <td>726</td>\n",
       "      <td>26.944387</td>\n",
       "    </tr>\n",
       "    <tr>\n",
       "      <th>12862</th>\n",
       "      <td>4</td>\n",
       "      <td>2.000000</td>\n",
       "    </tr>\n",
       "    <tr>\n",
       "      <th>...</th>\n",
       "      <td>...</td>\n",
       "      <td>...</td>\n",
       "    </tr>\n",
       "    <tr>\n",
       "      <th>9475</th>\n",
       "      <td>54</td>\n",
       "      <td>7.348469</td>\n",
       "    </tr>\n",
       "    <tr>\n",
       "      <th>3714</th>\n",
       "      <td>199</td>\n",
       "      <td>14.106736</td>\n",
       "    </tr>\n",
       "    <tr>\n",
       "      <th>7409</th>\n",
       "      <td>418</td>\n",
       "      <td>20.445048</td>\n",
       "    </tr>\n",
       "    <tr>\n",
       "      <th>5787</th>\n",
       "      <td>176</td>\n",
       "      <td>13.266499</td>\n",
       "    </tr>\n",
       "    <tr>\n",
       "      <th>14155</th>\n",
       "      <td>99</td>\n",
       "      <td>9.949874</td>\n",
       "    </tr>\n",
       "  </tbody>\n",
       "</table>\n",
       "<p>13903 rows × 2 columns</p>\n",
       "</div>"
      ],
      "text/plain": [
       "       registered  registered_norm\n",
       "8273          235        15.329710\n",
       "8393          220        14.832397\n",
       "1351           61         7.810250\n",
       "12541         726        26.944387\n",
       "12862           4         2.000000\n",
       "...           ...              ...\n",
       "9475           54         7.348469\n",
       "3714          199        14.106736\n",
       "7409          418        20.445048\n",
       "5787          176        13.266499\n",
       "14155          99         9.949874\n",
       "\n",
       "[13903 rows x 2 columns]"
      ]
     },
     "execution_count": 24,
     "metadata": {},
     "output_type": "execute_result"
    }
   ],
   "source": [
    "hour_df = train_hour_tr[[\"registered\"]].copy()\n",
    "hour_df[\"registered_norm\"] = np.sqrt(hour_df[\"registered\"])\n",
    "hour_df"
   ]
  },
  {
   "cell_type": "code",
   "execution_count": 25,
   "metadata": {
    "execution": {
     "iopub.execute_input": "2021-09-12T18:17:01.155553Z",
     "iopub.status.busy": "2021-09-12T18:17:01.155208Z",
     "iopub.status.idle": "2021-09-12T18:17:01.625752Z",
     "shell.execute_reply": "2021-09-12T18:17:01.624766Z",
     "shell.execute_reply.started": "2021-09-12T18:17:01.155509Z"
    }
   },
   "outputs": [
    {
     "data": {
      "image/png": "[encoded data removed]",
      "text/plain": [
       "<Figure size 360x360 with 1 Axes>"
      ]
     },
     "metadata": {
      "needs_background": "light"
     },
     "output_type": "display_data"
    }
   ],
   "source": [
    "sns.displot(data = hour_df, x = \"registered_norm\", kind = \"kde\")\n",
    "plt.show()"
   ]
  },
  {
   "cell_type": "code",
   "execution_count": 26,
   "metadata": {
    "execution": {
     "iopub.execute_input": "2021-09-12T18:17:01.627268Z",
     "iopub.status.busy": "2021-09-12T18:17:01.626958Z",
     "iopub.status.idle": "2021-09-12T18:17:01.660509Z",
     "shell.execute_reply": "2021-09-12T18:17:01.659496Z",
     "shell.execute_reply.started": "2021-09-12T18:17:01.627236Z"
    }
   },
   "outputs": [
    {
     "data": {
      "text/html": [
       "<div>\n",
       "<style scoped>\n",
       "    .dataframe tbody tr th:only-of-type {\n",
       "        vertical-align: middle;\n",
       "    }\n",
       "\n",
       "    .dataframe tbody tr th {\n",
       "        vertical-align: top;\n",
       "    }\n",
       "\n",
       "    .dataframe thead th {\n",
       "        text-align: right;\n",
       "    }\n",
       "</style>\n",
       "<table border=\"1\" class=\"dataframe\">\n",
       "  <thead>\n",
       "    <tr style=\"text-align: right;\">\n",
       "      <th></th>\n",
       "      <th>dteday</th>\n",
       "      <th>yr</th>\n",
       "      <th>mnth</th>\n",
       "      <th>holiday</th>\n",
       "      <th>workingday</th>\n",
       "      <th>temp</th>\n",
       "      <th>atemp</th>\n",
       "      <th>hum</th>\n",
       "      <th>windspeed</th>\n",
       "      <th>casual</th>\n",
       "      <th>registered</th>\n",
       "      <th>cnt</th>\n",
       "      <th>season_tr</th>\n",
       "      <th>weathersit_tr</th>\n",
       "      <th>weekday_tr</th>\n",
       "      <th>hour_of_day_tr</th>\n",
       "      <th>registered_norm</th>\n",
       "    </tr>\n",
       "  </thead>\n",
       "  <tbody>\n",
       "    <tr>\n",
       "      <th>8273</th>\n",
       "      <td>2011-12-16</td>\n",
       "      <td>0</td>\n",
       "      <td>12</td>\n",
       "      <td>0</td>\n",
       "      <td>1</td>\n",
       "      <td>0.36</td>\n",
       "      <td>0.3333</td>\n",
       "      <td>0.46</td>\n",
       "      <td>0.3881</td>\n",
       "      <td>8</td>\n",
       "      <td>235</td>\n",
       "      <td>243</td>\n",
       "      <td>fall</td>\n",
       "      <td>Clear</td>\n",
       "      <td>1</td>\n",
       "      <td>Morning</td>\n",
       "      <td>15.329710</td>\n",
       "    </tr>\n",
       "    <tr>\n",
       "      <th>8393</th>\n",
       "      <td>2011-12-21</td>\n",
       "      <td>0</td>\n",
       "      <td>12</td>\n",
       "      <td>0</td>\n",
       "      <td>1</td>\n",
       "      <td>0.40</td>\n",
       "      <td>0.4091</td>\n",
       "      <td>0.87</td>\n",
       "      <td>0.2239</td>\n",
       "      <td>14</td>\n",
       "      <td>220</td>\n",
       "      <td>234</td>\n",
       "      <td>winter</td>\n",
       "      <td>Mist</td>\n",
       "      <td>1</td>\n",
       "      <td>Morning</td>\n",
       "      <td>14.832397</td>\n",
       "    </tr>\n",
       "    <tr>\n",
       "      <th>1351</th>\n",
       "      <td>2011-03-01</td>\n",
       "      <td>0</td>\n",
       "      <td>3</td>\n",
       "      <td>0</td>\n",
       "      <td>1</td>\n",
       "      <td>0.32</td>\n",
       "      <td>0.3333</td>\n",
       "      <td>0.36</td>\n",
       "      <td>0.1343</td>\n",
       "      <td>18</td>\n",
       "      <td>61</td>\n",
       "      <td>79</td>\n",
       "      <td>winter</td>\n",
       "      <td>Clear</td>\n",
       "      <td>1</td>\n",
       "      <td>Afternoon</td>\n",
       "      <td>7.810250</td>\n",
       "    </tr>\n",
       "    <tr>\n",
       "      <th>12541</th>\n",
       "      <td>2012-06-11</td>\n",
       "      <td>1</td>\n",
       "      <td>6</td>\n",
       "      <td>0</td>\n",
       "      <td>1</td>\n",
       "      <td>0.80</td>\n",
       "      <td>0.7273</td>\n",
       "      <td>0.43</td>\n",
       "      <td>0.2985</td>\n",
       "      <td>105</td>\n",
       "      <td>726</td>\n",
       "      <td>831</td>\n",
       "      <td>summer</td>\n",
       "      <td>Mist</td>\n",
       "      <td>1</td>\n",
       "      <td>Evening</td>\n",
       "      <td>26.944387</td>\n",
       "    </tr>\n",
       "    <tr>\n",
       "      <th>12862</th>\n",
       "      <td>2012-06-25</td>\n",
       "      <td>1</td>\n",
       "      <td>6</td>\n",
       "      <td>0</td>\n",
       "      <td>1</td>\n",
       "      <td>0.68</td>\n",
       "      <td>0.6364</td>\n",
       "      <td>0.69</td>\n",
       "      <td>0.2537</td>\n",
       "      <td>1</td>\n",
       "      <td>4</td>\n",
       "      <td>5</td>\n",
       "      <td>spring</td>\n",
       "      <td>Clear</td>\n",
       "      <td>1</td>\n",
       "      <td>Night</td>\n",
       "      <td>2.000000</td>\n",
       "    </tr>\n",
       "    <tr>\n",
       "      <th>...</th>\n",
       "      <td>...</td>\n",
       "      <td>...</td>\n",
       "      <td>...</td>\n",
       "      <td>...</td>\n",
       "      <td>...</td>\n",
       "      <td>...</td>\n",
       "      <td>...</td>\n",
       "      <td>...</td>\n",
       "      <td>...</td>\n",
       "      <td>...</td>\n",
       "      <td>...</td>\n",
       "      <td>...</td>\n",
       "      <td>...</td>\n",
       "      <td>...</td>\n",
       "      <td>...</td>\n",
       "      <td>...</td>\n",
       "      <td>...</td>\n",
       "    </tr>\n",
       "    <tr>\n",
       "      <th>9475</th>\n",
       "      <td>2012-02-04</td>\n",
       "      <td>1</td>\n",
       "      <td>2</td>\n",
       "      <td>0</td>\n",
       "      <td>0</td>\n",
       "      <td>0.30</td>\n",
       "      <td>0.2879</td>\n",
       "      <td>0.70</td>\n",
       "      <td>0.1940</td>\n",
       "      <td>13</td>\n",
       "      <td>54</td>\n",
       "      <td>67</td>\n",
       "      <td>winter</td>\n",
       "      <td>Light_Snow</td>\n",
       "      <td>0</td>\n",
       "      <td>Evening</td>\n",
       "      <td>7.348469</td>\n",
       "    </tr>\n",
       "    <tr>\n",
       "      <th>3714</th>\n",
       "      <td>2011-06-08</td>\n",
       "      <td>0</td>\n",
       "      <td>6</td>\n",
       "      <td>0</td>\n",
       "      <td>1</td>\n",
       "      <td>0.92</td>\n",
       "      <td>0.8788</td>\n",
       "      <td>0.40</td>\n",
       "      <td>0.2239</td>\n",
       "      <td>34</td>\n",
       "      <td>199</td>\n",
       "      <td>233</td>\n",
       "      <td>summer</td>\n",
       "      <td>Clear</td>\n",
       "      <td>1</td>\n",
       "      <td>Afternoon</td>\n",
       "      <td>14.106736</td>\n",
       "    </tr>\n",
       "    <tr>\n",
       "      <th>7409</th>\n",
       "      <td>2011-11-10</td>\n",
       "      <td>0</td>\n",
       "      <td>11</td>\n",
       "      <td>0</td>\n",
       "      <td>1</td>\n",
       "      <td>0.40</td>\n",
       "      <td>0.4091</td>\n",
       "      <td>0.94</td>\n",
       "      <td>0.0896</td>\n",
       "      <td>18</td>\n",
       "      <td>418</td>\n",
       "      <td>436</td>\n",
       "      <td>fall</td>\n",
       "      <td>Mist</td>\n",
       "      <td>1</td>\n",
       "      <td>Morning</td>\n",
       "      <td>20.445048</td>\n",
       "    </tr>\n",
       "    <tr>\n",
       "      <th>5787</th>\n",
       "      <td>2011-09-03</td>\n",
       "      <td>0</td>\n",
       "      <td>9</td>\n",
       "      <td>0</td>\n",
       "      <td>0</td>\n",
       "      <td>0.72</td>\n",
       "      <td>0.6818</td>\n",
       "      <td>0.66</td>\n",
       "      <td>0.1642</td>\n",
       "      <td>204</td>\n",
       "      <td>176</td>\n",
       "      <td>380</td>\n",
       "      <td>spring</td>\n",
       "      <td>Mist</td>\n",
       "      <td>0</td>\n",
       "      <td>Afternoon</td>\n",
       "      <td>13.266499</td>\n",
       "    </tr>\n",
       "    <tr>\n",
       "      <th>14155</th>\n",
       "      <td>2012-08-18</td>\n",
       "      <td>1</td>\n",
       "      <td>8</td>\n",
       "      <td>0</td>\n",
       "      <td>0</td>\n",
       "      <td>0.64</td>\n",
       "      <td>0.5758</td>\n",
       "      <td>0.83</td>\n",
       "      <td>0.2239</td>\n",
       "      <td>6</td>\n",
       "      <td>99</td>\n",
       "      <td>105</td>\n",
       "      <td>spring</td>\n",
       "      <td>Mist</td>\n",
       "      <td>0</td>\n",
       "      <td>Night</td>\n",
       "      <td>9.949874</td>\n",
       "    </tr>\n",
       "  </tbody>\n",
       "</table>\n",
       "<p>13903 rows × 17 columns</p>\n",
       "</div>"
      ],
      "text/plain": [
       "           dteday  yr  mnth  holiday  workingday  temp   atemp   hum  \\\n",
       "8273   2011-12-16   0    12        0           1  0.36  0.3333  0.46   \n",
       "8393   2011-12-21   0    12        0           1  0.40  0.4091  0.87   \n",
       "1351   2011-03-01   0     3        0           1  0.32  0.3333  0.36   \n",
       "12541  2012-06-11   1     6        0           1  0.80  0.7273  0.43   \n",
       "12862  2012-06-25   1     6        0           1  0.68  0.6364  0.69   \n",
       "...           ...  ..   ...      ...         ...   ...     ...   ...   \n",
       "9475   2012-02-04   1     2        0           0  0.30  0.2879  0.70   \n",
       "3714   2011-06-08   0     6        0           1  0.92  0.8788  0.40   \n",
       "7409   2011-11-10   0    11        0           1  0.40  0.4091  0.94   \n",
       "5787   2011-09-03   0     9        0           0  0.72  0.6818  0.66   \n",
       "14155  2012-08-18   1     8        0           0  0.64  0.5758  0.83   \n",
       "\n",
       "       windspeed  casual  registered  cnt season_tr weathersit_tr  weekday_tr  \\\n",
       "8273      0.3881       8         235  243      fall         Clear           1   \n",
       "8393      0.2239      14         220  234    winter          Mist           1   \n",
       "1351      0.1343      18          61   79    winter         Clear           1   \n",
       "12541     0.2985     105         726  831    summer          Mist           1   \n",
       "12862     0.2537       1           4    5    spring         Clear           1   \n",
       "...          ...     ...         ...  ...       ...           ...         ...   \n",
       "9475      0.1940      13          54   67    winter    Light_Snow           0   \n",
       "3714      0.2239      34         199  233    summer         Clear           1   \n",
       "7409      0.0896      18         418  436      fall          Mist           1   \n",
       "5787      0.1642     204         176  380    spring          Mist           0   \n",
       "14155     0.2239       6          99  105    spring          Mist           0   \n",
       "\n",
       "      hour_of_day_tr  registered_norm  \n",
       "8273         Morning        15.329710  \n",
       "8393         Morning        14.832397  \n",
       "1351       Afternoon         7.810250  \n",
       "12541        Evening        26.944387  \n",
       "12862          Night         2.000000  \n",
       "...              ...              ...  \n",
       "9475         Evening         7.348469  \n",
       "3714       Afternoon        14.106736  \n",
       "7409         Morning        20.445048  \n",
       "5787       Afternoon        13.266499  \n",
       "14155          Night         9.949874  \n",
       "\n",
       "[13903 rows x 17 columns]"
      ]
     },
     "execution_count": 26,
     "metadata": {},
     "output_type": "execute_result"
    }
   ],
   "source": [
    "train_hour_tr[\"registered_norm\"] = hour_df[\"registered_norm\"].copy()\n",
    "train_hour_tr"
   ]
  },
  {
   "cell_type": "code",
   "execution_count": 27,
   "metadata": {
    "execution": {
     "iopub.execute_input": "2021-09-12T18:17:01.662014Z",
     "iopub.status.busy": "2021-09-12T18:17:01.661735Z",
     "iopub.status.idle": "2021-09-12T18:17:02.023351Z",
     "shell.execute_reply": "2021-09-12T18:17:02.022376Z",
     "shell.execute_reply.started": "2021-09-12T18:17:01.661986Z"
    }
   },
   "outputs": [
    {
     "data": {
      "image/png": "[encoded data removed]",
      "text/plain": [
       "<Figure size 360x360 with 1 Axes>"
      ]
     },
     "metadata": {
      "needs_background": "light"
     },
     "output_type": "display_data"
    }
   ],
   "source": [
    "sns.displot(data = train_hour_tr, x = \"registered_norm\", hue = \"weekday_tr\", kind = 'kde', legend = False)\n",
    "plt.xlabel(\"Registrations\")\n",
    "plt.legend({\"Weekend\":0, \"Weekday\":1}.keys())\n",
    "plt.show()"
   ]
  },
  {
   "cell_type": "markdown",
   "metadata": {},
   "source": [
    "***Even though the dependent variable is not normally distributued, the Mann-whitneyU test does not require the target to be normally ditributed.***"
   ]
  },
  {
   "cell_type": "markdown",
   "metadata": {},
   "source": [
    "### Testing for hypothesis, does the registered counts change with weekdays"
   ]
  },
  {
   "cell_type": "code",
   "execution_count": 28,
   "metadata": {
    "execution": {
     "iopub.execute_input": "2021-09-12T18:17:02.024741Z",
     "iopub.status.busy": "2021-09-12T18:17:02.024418Z",
     "iopub.status.idle": "2021-09-12T18:17:02.039670Z",
     "shell.execute_reply": "2021-09-12T18:17:02.038412Z",
     "shell.execute_reply.started": "2021-09-12T18:17:02.024708Z"
    }
   },
   "outputs": [
    {
     "name": "stdout",
     "output_type": "stream",
     "text": [
      "p-value of test is 0.0000. Hence, the null hypo is rejected.\n"
     ]
    }
   ],
   "source": [
    "from scipy.stats import mannwhitneyu\n",
    "_, pval = mannwhitneyu(train_hour_tr[train_hour_tr.weekday_tr == 0][\"registered\"], train_hour_tr[train_hour_tr.weekday_tr == 1][\"registered\"])\n",
    "print(\"p-value of test is %.4f. Hence, the null hypo is %s.\" %(pval, 'rejected' if pval <=0.05 else 'not rejected'))\n",
    "#The Mann-Whitney U test is a nonparametric test of the null hypothesis that the distribution underlying sample x is the same as the distribution underlying sample y. It is often used as a test of of difference in location between distributions."
   ]
  },
  {
   "cell_type": "markdown",
   "metadata": {
    "execution": {
     "iopub.status.busy": "2021-08-22T15:24:15.644681Z",
     "iopub.status.idle": "2021-08-22T15:24:15.645125Z"
    }
   },
   "source": [
    "Hence, there is indeed a difference in the registered counts between weekdays and weekends"
   ]
  },
  {
   "cell_type": "code",
   "execution_count": 29,
   "metadata": {
    "execution": {
     "iopub.execute_input": "2021-09-12T18:17:02.041325Z",
     "iopub.status.busy": "2021-09-12T18:17:02.041010Z",
     "iopub.status.idle": "2021-09-12T18:17:02.065078Z",
     "shell.execute_reply": "2021-09-12T18:17:02.063947Z",
     "shell.execute_reply.started": "2021-09-12T18:17:02.041285Z"
    }
   },
   "outputs": [
    {
     "data": {
      "text/html": [
       "<div>\n",
       "<style scoped>\n",
       "    .dataframe tbody tr th:only-of-type {\n",
       "        vertical-align: middle;\n",
       "    }\n",
       "\n",
       "    .dataframe tbody tr th {\n",
       "        vertical-align: top;\n",
       "    }\n",
       "\n",
       "    .dataframe thead th {\n",
       "        text-align: right;\n",
       "    }\n",
       "</style>\n",
       "<table border=\"1\" class=\"dataframe\">\n",
       "  <thead>\n",
       "    <tr style=\"text-align: right;\">\n",
       "      <th></th>\n",
       "      <th>dteday</th>\n",
       "      <th>yr</th>\n",
       "      <th>mnth</th>\n",
       "      <th>holiday</th>\n",
       "      <th>workingday</th>\n",
       "      <th>temp</th>\n",
       "      <th>atemp</th>\n",
       "      <th>hum</th>\n",
       "      <th>windspeed</th>\n",
       "      <th>casual</th>\n",
       "      <th>registered</th>\n",
       "      <th>cnt</th>\n",
       "      <th>season_tr</th>\n",
       "      <th>weathersit_tr</th>\n",
       "      <th>weekday_tr</th>\n",
       "      <th>hour_of_day_tr</th>\n",
       "      <th>registered_norm</th>\n",
       "    </tr>\n",
       "  </thead>\n",
       "  <tbody>\n",
       "    <tr>\n",
       "      <th>8273</th>\n",
       "      <td>2011-12-16</td>\n",
       "      <td>0</td>\n",
       "      <td>12</td>\n",
       "      <td>0</td>\n",
       "      <td>1</td>\n",
       "      <td>0.36</td>\n",
       "      <td>0.3333</td>\n",
       "      <td>0.46</td>\n",
       "      <td>0.3881</td>\n",
       "      <td>8</td>\n",
       "      <td>235</td>\n",
       "      <td>243</td>\n",
       "      <td>fall</td>\n",
       "      <td>Clear</td>\n",
       "      <td>1</td>\n",
       "      <td>Morning</td>\n",
       "      <td>15.329710</td>\n",
       "    </tr>\n",
       "    <tr>\n",
       "      <th>8393</th>\n",
       "      <td>2011-12-21</td>\n",
       "      <td>0</td>\n",
       "      <td>12</td>\n",
       "      <td>0</td>\n",
       "      <td>1</td>\n",
       "      <td>0.40</td>\n",
       "      <td>0.4091</td>\n",
       "      <td>0.87</td>\n",
       "      <td>0.2239</td>\n",
       "      <td>14</td>\n",
       "      <td>220</td>\n",
       "      <td>234</td>\n",
       "      <td>winter</td>\n",
       "      <td>Mist</td>\n",
       "      <td>1</td>\n",
       "      <td>Morning</td>\n",
       "      <td>14.832397</td>\n",
       "    </tr>\n",
       "    <tr>\n",
       "      <th>1351</th>\n",
       "      <td>2011-03-01</td>\n",
       "      <td>0</td>\n",
       "      <td>3</td>\n",
       "      <td>0</td>\n",
       "      <td>1</td>\n",
       "      <td>0.32</td>\n",
       "      <td>0.3333</td>\n",
       "      <td>0.36</td>\n",
       "      <td>0.1343</td>\n",
       "      <td>18</td>\n",
       "      <td>61</td>\n",
       "      <td>79</td>\n",
       "      <td>winter</td>\n",
       "      <td>Clear</td>\n",
       "      <td>1</td>\n",
       "      <td>Afternoon</td>\n",
       "      <td>7.810250</td>\n",
       "    </tr>\n",
       "    <tr>\n",
       "      <th>12541</th>\n",
       "      <td>2012-06-11</td>\n",
       "      <td>1</td>\n",
       "      <td>6</td>\n",
       "      <td>0</td>\n",
       "      <td>1</td>\n",
       "      <td>0.80</td>\n",
       "      <td>0.7273</td>\n",
       "      <td>0.43</td>\n",
       "      <td>0.2985</td>\n",
       "      <td>105</td>\n",
       "      <td>726</td>\n",
       "      <td>831</td>\n",
       "      <td>summer</td>\n",
       "      <td>Mist</td>\n",
       "      <td>1</td>\n",
       "      <td>Evening</td>\n",
       "      <td>26.944387</td>\n",
       "    </tr>\n",
       "    <tr>\n",
       "      <th>12862</th>\n",
       "      <td>2012-06-25</td>\n",
       "      <td>1</td>\n",
       "      <td>6</td>\n",
       "      <td>0</td>\n",
       "      <td>1</td>\n",
       "      <td>0.68</td>\n",
       "      <td>0.6364</td>\n",
       "      <td>0.69</td>\n",
       "      <td>0.2537</td>\n",
       "      <td>1</td>\n",
       "      <td>4</td>\n",
       "      <td>5</td>\n",
       "      <td>spring</td>\n",
       "      <td>Clear</td>\n",
       "      <td>1</td>\n",
       "      <td>Night</td>\n",
       "      <td>2.000000</td>\n",
       "    </tr>\n",
       "  </tbody>\n",
       "</table>\n",
       "</div>"
      ],
      "text/plain": [
       "           dteday  yr  mnth  holiday  workingday  temp   atemp   hum  \\\n",
       "8273   2011-12-16   0    12        0           1  0.36  0.3333  0.46   \n",
       "8393   2011-12-21   0    12        0           1  0.40  0.4091  0.87   \n",
       "1351   2011-03-01   0     3        0           1  0.32  0.3333  0.36   \n",
       "12541  2012-06-11   1     6        0           1  0.80  0.7273  0.43   \n",
       "12862  2012-06-25   1     6        0           1  0.68  0.6364  0.69   \n",
       "\n",
       "       windspeed  casual  registered  cnt season_tr weathersit_tr  weekday_tr  \\\n",
       "8273      0.3881       8         235  243      fall         Clear           1   \n",
       "8393      0.2239      14         220  234    winter          Mist           1   \n",
       "1351      0.1343      18          61   79    winter         Clear           1   \n",
       "12541     0.2985     105         726  831    summer          Mist           1   \n",
       "12862     0.2537       1           4    5    spring         Clear           1   \n",
       "\n",
       "      hour_of_day_tr  registered_norm  \n",
       "8273         Morning        15.329710  \n",
       "8393         Morning        14.832397  \n",
       "1351       Afternoon         7.810250  \n",
       "12541        Evening        26.944387  \n",
       "12862          Night         2.000000  "
      ]
     },
     "execution_count": 29,
     "metadata": {},
     "output_type": "execute_result"
    }
   ],
   "source": [
    "train_hour_tr.head()"
   ]
  },
  {
   "cell_type": "markdown",
   "metadata": {
    "execution": {
     "iopub.execute_input": "2021-08-22T18:11:57.110052Z",
     "iopub.status.busy": "2021-08-22T18:11:57.109684Z",
     "iopub.status.idle": "2021-08-22T18:11:57.18491Z",
     "shell.execute_reply": "2021-08-22T18:11:57.18247Z",
     "shell.execute_reply.started": "2021-08-22T18:11:57.110024Z"
    }
   },
   "source": [
    "#### Holidays vs Registrations"
   ]
  },
  {
   "cell_type": "code",
   "execution_count": 30,
   "metadata": {
    "execution": {
     "iopub.execute_input": "2021-09-12T18:17:02.066842Z",
     "iopub.status.busy": "2021-09-12T18:17:02.066453Z",
     "iopub.status.idle": "2021-09-12T18:17:02.497219Z",
     "shell.execute_reply": "2021-09-12T18:17:02.496132Z",
     "shell.execute_reply.started": "2021-09-12T18:17:02.066803Z"
    }
   },
   "outputs": [
    {
     "data": {
      "image/png": "[encoded data removed]",
      "text/plain": [
       "<Figure size 432x288 with 1 Axes>"
      ]
     },
     "metadata": {
      "needs_background": "light"
     },
     "output_type": "display_data"
    }
   ],
   "source": [
    "sns.barplot(data = train_hour_tr, x = \"holiday\", y = 'registered', hue = 'workingday')\n",
    "plt.show()"
   ]
  },
  {
   "cell_type": "code",
   "execution_count": 31,
   "metadata": {
    "execution": {
     "iopub.execute_input": "2021-09-12T18:17:02.498714Z",
     "iopub.status.busy": "2021-09-12T18:17:02.498421Z",
     "iopub.status.idle": "2021-09-12T18:17:02.509559Z",
     "shell.execute_reply": "2021-09-12T18:17:02.508570Z",
     "shell.execute_reply.started": "2021-09-12T18:17:02.498685Z"
    }
   },
   "outputs": [
    {
     "data": {
      "text/plain": [
       "holiday  workingday  weekday_tr\n",
       "0        0           0             4027\n",
       "         1           1             9464\n",
       "1        0           1              412\n",
       "Name: registered, dtype: int64"
      ]
     },
     "execution_count": 31,
     "metadata": {},
     "output_type": "execute_result"
    }
   ],
   "source": [
    "train_hour_tr.groupby(['holiday', 'workingday',\"weekday_tr\"])[\"registered\"].count()"
   ]
  },
  {
   "cell_type": "markdown",
   "metadata": {},
   "source": [
    "The non-holiday days have more bookings. This also provides some evidence that the people mostly rely on the bikes for daily commute to workplace. The Weekday/Weekend relationship with the registrations also signified so."
   ]
  },
  {
   "cell_type": "markdown",
   "metadata": {
    "execution": {
     "iopub.execute_input": "2021-08-22T18:25:51.463021Z",
     "iopub.status.busy": "2021-08-22T18:25:51.462639Z",
     "iopub.status.idle": "2021-08-22T18:25:51.789025Z",
     "shell.execute_reply": "2021-08-22T18:25:51.788083Z",
     "shell.execute_reply.started": "2021-08-22T18:25:51.462981Z"
    }
   },
   "source": [
    "### Registrations by Hour of Day"
   ]
  },
  {
   "cell_type": "code",
   "execution_count": 32,
   "metadata": {
    "execution": {
     "iopub.execute_input": "2021-09-12T18:17:02.511172Z",
     "iopub.status.busy": "2021-09-12T18:17:02.510835Z",
     "iopub.status.idle": "2021-09-12T18:17:03.216787Z",
     "shell.execute_reply": "2021-09-12T18:17:03.215739Z",
     "shell.execute_reply.started": "2021-09-12T18:17:02.511141Z"
    }
   },
   "outputs": [
    {
     "data": {
      "image/png": "[encoded data removed]",
      "text/plain": [
       "<Figure size 432x288 with 1 Axes>"
      ]
     },
     "metadata": {
      "needs_background": "light"
     },
     "output_type": "display_data"
    }
   ],
   "source": [
    "sns.barplot(data = train_hour_tr, x = 'hour_of_day_tr', y = 'registered', hue = 'weekday_tr')\n",
    "plt.title(\"Registrations by Hour of day\")\n",
    "plt.show()"
   ]
  },
  {
   "cell_type": "markdown",
   "metadata": {},
   "source": [
    "* There are more registrations in the evening than anytime in the day. \n",
    "\n",
    "* Night bookings are fewer than the other times in weekdays. However, in weekends, early morning registrations are fewer.\n",
    "\n",
    "* Weekday Evenings are booked more often than the mornings. May be people commute to home/nearby areas (from workplace) during the evenings. \n",
    "\n",
    "* Weekend afternoons also see more registrations than any other time in the weekends."
   ]
  },
  {
   "cell_type": "markdown",
   "metadata": {},
   "source": [
    "### Registrations by temperature"
   ]
  },
  {
   "cell_type": "code",
   "execution_count": 33,
   "metadata": {
    "execution": {
     "iopub.execute_input": "2021-09-12T18:17:03.218266Z",
     "iopub.status.busy": "2021-09-12T18:17:03.217967Z",
     "iopub.status.idle": "2021-09-12T18:17:05.170385Z",
     "shell.execute_reply": "2021-09-12T18:17:05.169154Z",
     "shell.execute_reply.started": "2021-09-12T18:17:03.218235Z"
    }
   },
   "outputs": [
    {
     "data": {
      "image/png": "[encoded data removed]",
      "text/plain": [
       "<Figure size 1440x576 with 2 Axes>"
      ]
     },
     "metadata": {
      "needs_background": "light"
     },
     "output_type": "display_data"
    }
   ],
   "source": [
    "plt.figure(figsize  = (20,8))\n",
    "ax1 = plt.subplot(211)\n",
    "sns.regplot(data = train_hour_tr, x = train_hour_tr['atemp'], y = 'registered', marker = 'o', scatter_kws={'color':'y'},line_kws={'color':'r'})\n",
    "ax2 = plt.subplot(212)\n",
    "sns.scatterplot(data = train_hour_tr, x = train_hour_tr['atemp'], y = 'hour_of_day_tr', hue = train_hour_tr['registered'], size = train_hour_tr['registered'])\n",
    "# plt.title(\"Registration by feeling temperature\")\n",
    "plt.show()"
   ]
  },
  {
   "cell_type": "markdown",
   "metadata": {},
   "source": [
    "We will confirm this relation by checking the correlation coefficient for continuous variables"
   ]
  },
  {
   "cell_type": "markdown",
   "metadata": {},
   "source": [
    "The regplot shows that the registrations will increase as the temperature increases."
   ]
  },
  {
   "cell_type": "code",
   "execution_count": 34,
   "metadata": {
    "execution": {
     "iopub.execute_input": "2021-09-12T18:17:05.172342Z",
     "iopub.status.busy": "2021-09-12T18:17:05.171937Z",
     "iopub.status.idle": "2021-09-12T18:17:05.194951Z",
     "shell.execute_reply": "2021-09-12T18:17:05.193804Z",
     "shell.execute_reply.started": "2021-09-12T18:17:05.172301Z"
    }
   },
   "outputs": [
    {
     "data": {
      "text/html": [
       "<div>\n",
       "<style scoped>\n",
       "    .dataframe tbody tr th:only-of-type {\n",
       "        vertical-align: middle;\n",
       "    }\n",
       "\n",
       "    .dataframe tbody tr th {\n",
       "        vertical-align: top;\n",
       "    }\n",
       "\n",
       "    .dataframe thead th {\n",
       "        text-align: right;\n",
       "    }\n",
       "</style>\n",
       "<table border=\"1\" class=\"dataframe\">\n",
       "  <thead>\n",
       "    <tr style=\"text-align: right;\">\n",
       "      <th></th>\n",
       "      <th>dteday</th>\n",
       "      <th>yr</th>\n",
       "      <th>mnth</th>\n",
       "      <th>holiday</th>\n",
       "      <th>workingday</th>\n",
       "      <th>temp</th>\n",
       "      <th>atemp</th>\n",
       "      <th>hum</th>\n",
       "      <th>windspeed</th>\n",
       "      <th>casual</th>\n",
       "      <th>registered</th>\n",
       "      <th>cnt</th>\n",
       "      <th>season_tr</th>\n",
       "      <th>weathersit_tr</th>\n",
       "      <th>weekday_tr</th>\n",
       "      <th>hour_of_day_tr</th>\n",
       "      <th>registered_norm</th>\n",
       "    </tr>\n",
       "  </thead>\n",
       "  <tbody>\n",
       "    <tr>\n",
       "      <th>8273</th>\n",
       "      <td>2011-12-16</td>\n",
       "      <td>0</td>\n",
       "      <td>12</td>\n",
       "      <td>0</td>\n",
       "      <td>1</td>\n",
       "      <td>0.36</td>\n",
       "      <td>0.3333</td>\n",
       "      <td>0.46</td>\n",
       "      <td>0.3881</td>\n",
       "      <td>8</td>\n",
       "      <td>235</td>\n",
       "      <td>243</td>\n",
       "      <td>fall</td>\n",
       "      <td>Clear</td>\n",
       "      <td>1</td>\n",
       "      <td>Morning</td>\n",
       "      <td>15.329710</td>\n",
       "    </tr>\n",
       "    <tr>\n",
       "      <th>8393</th>\n",
       "      <td>2011-12-21</td>\n",
       "      <td>0</td>\n",
       "      <td>12</td>\n",
       "      <td>0</td>\n",
       "      <td>1</td>\n",
       "      <td>0.40</td>\n",
       "      <td>0.4091</td>\n",
       "      <td>0.87</td>\n",
       "      <td>0.2239</td>\n",
       "      <td>14</td>\n",
       "      <td>220</td>\n",
       "      <td>234</td>\n",
       "      <td>winter</td>\n",
       "      <td>Mist</td>\n",
       "      <td>1</td>\n",
       "      <td>Morning</td>\n",
       "      <td>14.832397</td>\n",
       "    </tr>\n",
       "    <tr>\n",
       "      <th>1351</th>\n",
       "      <td>2011-03-01</td>\n",
       "      <td>0</td>\n",
       "      <td>3</td>\n",
       "      <td>0</td>\n",
       "      <td>1</td>\n",
       "      <td>0.32</td>\n",
       "      <td>0.3333</td>\n",
       "      <td>0.36</td>\n",
       "      <td>0.1343</td>\n",
       "      <td>18</td>\n",
       "      <td>61</td>\n",
       "      <td>79</td>\n",
       "      <td>winter</td>\n",
       "      <td>Clear</td>\n",
       "      <td>1</td>\n",
       "      <td>Afternoon</td>\n",
       "      <td>7.810250</td>\n",
       "    </tr>\n",
       "    <tr>\n",
       "      <th>12541</th>\n",
       "      <td>2012-06-11</td>\n",
       "      <td>1</td>\n",
       "      <td>6</td>\n",
       "      <td>0</td>\n",
       "      <td>1</td>\n",
       "      <td>0.80</td>\n",
       "      <td>0.7273</td>\n",
       "      <td>0.43</td>\n",
       "      <td>0.2985</td>\n",
       "      <td>105</td>\n",
       "      <td>726</td>\n",
       "      <td>831</td>\n",
       "      <td>summer</td>\n",
       "      <td>Mist</td>\n",
       "      <td>1</td>\n",
       "      <td>Evening</td>\n",
       "      <td>26.944387</td>\n",
       "    </tr>\n",
       "    <tr>\n",
       "      <th>12862</th>\n",
       "      <td>2012-06-25</td>\n",
       "      <td>1</td>\n",
       "      <td>6</td>\n",
       "      <td>0</td>\n",
       "      <td>1</td>\n",
       "      <td>0.68</td>\n",
       "      <td>0.6364</td>\n",
       "      <td>0.69</td>\n",
       "      <td>0.2537</td>\n",
       "      <td>1</td>\n",
       "      <td>4</td>\n",
       "      <td>5</td>\n",
       "      <td>spring</td>\n",
       "      <td>Clear</td>\n",
       "      <td>1</td>\n",
       "      <td>Night</td>\n",
       "      <td>2.000000</td>\n",
       "    </tr>\n",
       "  </tbody>\n",
       "</table>\n",
       "</div>"
      ],
      "text/plain": [
       "           dteday  yr  mnth  holiday  workingday  temp   atemp   hum  \\\n",
       "8273   2011-12-16   0    12        0           1  0.36  0.3333  0.46   \n",
       "8393   2011-12-21   0    12        0           1  0.40  0.4091  0.87   \n",
       "1351   2011-03-01   0     3        0           1  0.32  0.3333  0.36   \n",
       "12541  2012-06-11   1     6        0           1  0.80  0.7273  0.43   \n",
       "12862  2012-06-25   1     6        0           1  0.68  0.6364  0.69   \n",
       "\n",
       "       windspeed  casual  registered  cnt season_tr weathersit_tr  weekday_tr  \\\n",
       "8273      0.3881       8         235  243      fall         Clear           1   \n",
       "8393      0.2239      14         220  234    winter          Mist           1   \n",
       "1351      0.1343      18          61   79    winter         Clear           1   \n",
       "12541     0.2985     105         726  831    summer          Mist           1   \n",
       "12862     0.2537       1           4    5    spring         Clear           1   \n",
       "\n",
       "      hour_of_day_tr  registered_norm  \n",
       "8273         Morning        15.329710  \n",
       "8393         Morning        14.832397  \n",
       "1351       Afternoon         7.810250  \n",
       "12541        Evening        26.944387  \n",
       "12862          Night         2.000000  "
      ]
     },
     "execution_count": 34,
     "metadata": {},
     "output_type": "execute_result"
    }
   ],
   "source": [
    "train_hour_tr.head()"
   ]
  },
  {
   "cell_type": "markdown",
   "metadata": {},
   "source": [
    "### Registrations by weather"
   ]
  },
  {
   "cell_type": "code",
   "execution_count": 35,
   "metadata": {
    "execution": {
     "iopub.execute_input": "2021-09-12T18:17:05.197651Z",
     "iopub.status.busy": "2021-09-12T18:17:05.196756Z",
     "iopub.status.idle": "2021-09-12T18:17:05.619577Z",
     "shell.execute_reply": "2021-09-12T18:17:05.618792Z",
     "shell.execute_reply.started": "2021-09-12T18:17:05.197599Z"
    }
   },
   "outputs": [
    {
     "data": {
      "image/png": "[encoded data removed]",
      "text/plain": [
       "<Figure size 432x288 with 1 Axes>"
      ]
     },
     "metadata": {
      "needs_background": "light"
     },
     "output_type": "display_data"
    }
   ],
   "source": [
    "sns.barplot(data = train_hour_tr, x = 'weathersit_tr', y  = 'registered')\n",
    "plt.show()"
   ]
  },
  {
   "cell_type": "code",
   "execution_count": 36,
   "metadata": {
    "execution": {
     "iopub.execute_input": "2021-09-12T18:17:05.621003Z",
     "iopub.status.busy": "2021-09-12T18:17:05.620595Z",
     "iopub.status.idle": "2021-09-12T18:17:05.645897Z",
     "shell.execute_reply": "2021-09-12T18:17:05.645150Z",
     "shell.execute_reply.started": "2021-09-12T18:17:05.620974Z"
    }
   },
   "outputs": [
    {
     "data": {
      "text/html": [
       "<div>\n",
       "<style scoped>\n",
       "    .dataframe tbody tr th:only-of-type {\n",
       "        vertical-align: middle;\n",
       "    }\n",
       "\n",
       "    .dataframe tbody tr th {\n",
       "        vertical-align: top;\n",
       "    }\n",
       "\n",
       "    .dataframe thead tr th {\n",
       "        text-align: left;\n",
       "    }\n",
       "\n",
       "    .dataframe thead tr:last-of-type th {\n",
       "        text-align: right;\n",
       "    }\n",
       "</style>\n",
       "<table border=\"1\" class=\"dataframe\">\n",
       "  <thead>\n",
       "    <tr>\n",
       "      <th></th>\n",
       "      <th colspan=\"3\" halign=\"left\">registered</th>\n",
       "    </tr>\n",
       "    <tr>\n",
       "      <th></th>\n",
       "      <th>min</th>\n",
       "      <th>max</th>\n",
       "      <th>mean</th>\n",
       "    </tr>\n",
       "    <tr>\n",
       "      <th>weathersit_tr</th>\n",
       "      <th></th>\n",
       "      <th></th>\n",
       "      <th></th>\n",
       "    </tr>\n",
       "  </thead>\n",
       "  <tbody>\n",
       "    <tr>\n",
       "      <th>Clear</th>\n",
       "      <td>0</td>\n",
       "      <td>886</td>\n",
       "      <td>164.098229</td>\n",
       "    </tr>\n",
       "    <tr>\n",
       "      <th>Heavy_Rain</th>\n",
       "      <td>22</td>\n",
       "      <td>158</td>\n",
       "      <td>71.666667</td>\n",
       "    </tr>\n",
       "    <tr>\n",
       "      <th>Light_Snow</th>\n",
       "      <td>0</td>\n",
       "      <td>734</td>\n",
       "      <td>92.492091</td>\n",
       "    </tr>\n",
       "    <tr>\n",
       "      <th>Mist</th>\n",
       "      <td>0</td>\n",
       "      <td>822</td>\n",
       "      <td>145.327976</td>\n",
       "    </tr>\n",
       "  </tbody>\n",
       "</table>\n",
       "</div>"
      ],
      "text/plain": [
       "              registered                 \n",
       "                     min  max        mean\n",
       "weathersit_tr                            \n",
       "Clear                  0  886  164.098229\n",
       "Heavy_Rain            22  158   71.666667\n",
       "Light_Snow             0  734   92.492091\n",
       "Mist                   0  822  145.327976"
      ]
     },
     "execution_count": 36,
     "metadata": {},
     "output_type": "execute_result"
    }
   ],
   "source": [
    "train_hour_tr[[\"weathersit_tr\",'registered']].groupby([\"weathersit_tr\"]).agg(['min',\"max\",\"mean\"])"
   ]
  },
  {
   "cell_type": "markdown",
   "metadata": {},
   "source": [
    "The resgitrations are more when the weather is clear or there is misty. However, it is highly unpredictable when it rains though."
   ]
  },
  {
   "cell_type": "code",
   "execution_count": null,
   "metadata": {},
   "outputs": [],
   "source": []
  },
  {
   "cell_type": "code",
   "execution_count": 43,
   "metadata": {
    "execution": {
     "iopub.execute_input": "2021-09-12T18:17:05.647284Z",
     "iopub.status.busy": "2021-09-12T18:17:05.646894Z",
     "iopub.status.idle": "2021-09-12T18:17:05.690274Z",
     "shell.execute_reply": "2021-09-12T18:17:05.689323Z",
     "shell.execute_reply.started": "2021-09-12T18:17:05.647247Z"
    }
   },
   "outputs": [
    {
     "data": {
      "text/html": [
       "<div>\n",
       "<style scoped>\n",
       "    .dataframe tbody tr th:only-of-type {\n",
       "        vertical-align: middle;\n",
       "    }\n",
       "\n",
       "    .dataframe tbody tr th {\n",
       "        vertical-align: top;\n",
       "    }\n",
       "\n",
       "    .dataframe thead th {\n",
       "        text-align: right;\n",
       "    }\n",
       "</style>\n",
       "<table border=\"1\" class=\"dataframe\">\n",
       "  <thead>\n",
       "    <tr style=\"text-align: right;\">\n",
       "      <th></th>\n",
       "      <th>yr</th>\n",
       "      <th>mnth</th>\n",
       "      <th>holiday</th>\n",
       "      <th>workingday</th>\n",
       "      <th>temp</th>\n",
       "      <th>atemp</th>\n",
       "      <th>hum</th>\n",
       "      <th>windspeed</th>\n",
       "      <th>casual</th>\n",
       "      <th>registered</th>\n",
       "      <th>...</th>\n",
       "      <th>weekday_tr</th>\n",
       "      <th>weathersit_tr_Clear</th>\n",
       "      <th>weathersit_tr_Heavy_Rain</th>\n",
       "      <th>weathersit_tr_Light_Snow</th>\n",
       "      <th>weathersit_tr_Mist</th>\n",
       "      <th>hour_of_day_tr_Afternoon</th>\n",
       "      <th>hour_of_day_tr_Early_Morning</th>\n",
       "      <th>hour_of_day_tr_Evening</th>\n",
       "      <th>hour_of_day_tr_Morning</th>\n",
       "      <th>hour_of_day_tr_Night</th>\n",
       "    </tr>\n",
       "  </thead>\n",
       "  <tbody>\n",
       "    <tr>\n",
       "      <th>8273</th>\n",
       "      <td>0</td>\n",
       "      <td>12</td>\n",
       "      <td>0</td>\n",
       "      <td>1</td>\n",
       "      <td>0.36</td>\n",
       "      <td>0.3333</td>\n",
       "      <td>0.46</td>\n",
       "      <td>0.3881</td>\n",
       "      <td>8</td>\n",
       "      <td>235</td>\n",
       "      <td>...</td>\n",
       "      <td>1</td>\n",
       "      <td>1</td>\n",
       "      <td>0</td>\n",
       "      <td>0</td>\n",
       "      <td>0</td>\n",
       "      <td>0</td>\n",
       "      <td>0</td>\n",
       "      <td>0</td>\n",
       "      <td>1</td>\n",
       "      <td>0</td>\n",
       "    </tr>\n",
       "    <tr>\n",
       "      <th>8393</th>\n",
       "      <td>0</td>\n",
       "      <td>12</td>\n",
       "      <td>0</td>\n",
       "      <td>1</td>\n",
       "      <td>0.40</td>\n",
       "      <td>0.4091</td>\n",
       "      <td>0.87</td>\n",
       "      <td>0.2239</td>\n",
       "      <td>14</td>\n",
       "      <td>220</td>\n",
       "      <td>...</td>\n",
       "      <td>1</td>\n",
       "      <td>0</td>\n",
       "      <td>0</td>\n",
       "      <td>0</td>\n",
       "      <td>1</td>\n",
       "      <td>0</td>\n",
       "      <td>0</td>\n",
       "      <td>0</td>\n",
       "      <td>1</td>\n",
       "      <td>0</td>\n",
       "    </tr>\n",
       "    <tr>\n",
       "      <th>1351</th>\n",
       "      <td>0</td>\n",
       "      <td>3</td>\n",
       "      <td>0</td>\n",
       "      <td>1</td>\n",
       "      <td>0.32</td>\n",
       "      <td>0.3333</td>\n",
       "      <td>0.36</td>\n",
       "      <td>0.1343</td>\n",
       "      <td>18</td>\n",
       "      <td>61</td>\n",
       "      <td>...</td>\n",
       "      <td>1</td>\n",
       "      <td>1</td>\n",
       "      <td>0</td>\n",
       "      <td>0</td>\n",
       "      <td>0</td>\n",
       "      <td>1</td>\n",
       "      <td>0</td>\n",
       "      <td>0</td>\n",
       "      <td>0</td>\n",
       "      <td>0</td>\n",
       "    </tr>\n",
       "    <tr>\n",
       "      <th>12541</th>\n",
       "      <td>1</td>\n",
       "      <td>6</td>\n",
       "      <td>0</td>\n",
       "      <td>1</td>\n",
       "      <td>0.80</td>\n",
       "      <td>0.7273</td>\n",
       "      <td>0.43</td>\n",
       "      <td>0.2985</td>\n",
       "      <td>105</td>\n",
       "      <td>726</td>\n",
       "      <td>...</td>\n",
       "      <td>1</td>\n",
       "      <td>0</td>\n",
       "      <td>0</td>\n",
       "      <td>0</td>\n",
       "      <td>1</td>\n",
       "      <td>0</td>\n",
       "      <td>0</td>\n",
       "      <td>1</td>\n",
       "      <td>0</td>\n",
       "      <td>0</td>\n",
       "    </tr>\n",
       "    <tr>\n",
       "      <th>12862</th>\n",
       "      <td>1</td>\n",
       "      <td>6</td>\n",
       "      <td>0</td>\n",
       "      <td>1</td>\n",
       "      <td>0.68</td>\n",
       "      <td>0.6364</td>\n",
       "      <td>0.69</td>\n",
       "      <td>0.2537</td>\n",
       "      <td>1</td>\n",
       "      <td>4</td>\n",
       "      <td>...</td>\n",
       "      <td>1</td>\n",
       "      <td>1</td>\n",
       "      <td>0</td>\n",
       "      <td>0</td>\n",
       "      <td>0</td>\n",
       "      <td>0</td>\n",
       "      <td>0</td>\n",
       "      <td>0</td>\n",
       "      <td>0</td>\n",
       "      <td>1</td>\n",
       "    </tr>\n",
       "  </tbody>\n",
       "</table>\n",
       "<p>5 rows × 21 columns</p>\n",
       "</div>"
      ],
      "text/plain": [
       "       yr  mnth  holiday  workingday  temp   atemp   hum  windspeed  casual  \\\n",
       "8273    0    12        0           1  0.36  0.3333  0.46     0.3881       8   \n",
       "8393    0    12        0           1  0.40  0.4091  0.87     0.2239      14   \n",
       "1351    0     3        0           1  0.32  0.3333  0.36     0.1343      18   \n",
       "12541   1     6        0           1  0.80  0.7273  0.43     0.2985     105   \n",
       "12862   1     6        0           1  0.68  0.6364  0.69     0.2537       1   \n",
       "\n",
       "       registered  ...  weekday_tr  weathersit_tr_Clear  \\\n",
       "8273          235  ...           1                    1   \n",
       "8393          220  ...           1                    0   \n",
       "1351           61  ...           1                    1   \n",
       "12541         726  ...           1                    0   \n",
       "12862           4  ...           1                    1   \n",
       "\n",
       "       weathersit_tr_Heavy_Rain  weathersit_tr_Light_Snow  weathersit_tr_Mist  \\\n",
       "8273                          0                         0                   0   \n",
       "8393                          0                         0                   1   \n",
       "1351                          0                         0                   0   \n",
       "12541                         0                         0                   1   \n",
       "12862                         0                         0                   0   \n",
       "\n",
       "       hour_of_day_tr_Afternoon  hour_of_day_tr_Early_Morning  \\\n",
       "8273                          0                             0   \n",
       "8393                          0                             0   \n",
       "1351                          1                             0   \n",
       "12541                         0                             0   \n",
       "12862                         0                             0   \n",
       "\n",
       "       hour_of_day_tr_Evening  hour_of_day_tr_Morning  hour_of_day_tr_Night  \n",
       "8273                        0                       1                     0  \n",
       "8393                        0                       1                     0  \n",
       "1351                        0                       0                     0  \n",
       "12541                       1                       0                     0  \n",
       "12862                       0                       0                     1  \n",
       "\n",
       "[5 rows x 21 columns]"
      ]
     },
     "execution_count": 43,
     "metadata": {},
     "output_type": "execute_result"
    }
   ],
   "source": [
    "# Encoding categorical values\n",
    "train_hour_tr_encoded = pd.get_dummies(train_hour_tr)\n",
    "train_hour_tr_encoded.head()"
   ]
  },
  {
   "cell_type": "code",
   "execution_count": 44,
   "metadata": {
    "execution": {
     "iopub.execute_input": "2021-09-12T18:17:05.691880Z",
     "iopub.status.busy": "2021-09-12T18:17:05.691581Z",
     "iopub.status.idle": "2021-09-12T18:17:05.700847Z",
     "shell.execute_reply": "2021-09-12T18:17:05.699636Z",
     "shell.execute_reply.started": "2021-09-12T18:17:05.691848Z"
    }
   },
   "outputs": [
    {
     "data": {
      "text/plain": [
       "['yr',\n",
       " 'mnth',\n",
       " 'holiday',\n",
       " 'workingday',\n",
       " 'temp',\n",
       " 'atemp',\n",
       " 'hum',\n",
       " 'windspeed',\n",
       " 'casual',\n",
       " 'registered',\n",
       " 'cnt',\n",
       " 'weekday_tr',\n",
       " 'weathersit_tr_Clear',\n",
       " 'weathersit_tr_Heavy_Rain',\n",
       " 'weathersit_tr_Light_Snow',\n",
       " 'weathersit_tr_Mist',\n",
       " 'hour_of_day_tr_Afternoon',\n",
       " 'hour_of_day_tr_Early_Morning',\n",
       " 'hour_of_day_tr_Evening',\n",
       " 'hour_of_day_tr_Morning',\n",
       " 'hour_of_day_tr_Night']"
      ]
     },
     "execution_count": 44,
     "metadata": {},
     "output_type": "execute_result"
    }
   ],
   "source": [
    "train_hour_tr_encoded.columns.to_list()"
   ]
  },
  {
   "cell_type": "code",
   "execution_count": 45,
   "metadata": {
    "execution": {
     "iopub.execute_input": "2021-09-12T18:17:05.703355Z",
     "iopub.status.busy": "2021-09-12T18:17:05.702827Z",
     "iopub.status.idle": "2021-09-12T18:17:05.710293Z",
     "shell.execute_reply": "2021-09-12T18:17:05.709393Z",
     "shell.execute_reply.started": "2021-09-12T18:17:05.703308Z"
    }
   },
   "outputs": [],
   "source": [
    "cat_cols = [\"holiday\",\"workingday\",'weekday_tr',\n",
    " 'season_tr_spring',\n",
    " 'season_tr_summer',\n",
    " 'season_tr_winter',\n",
    " 'weathersit_tr_Heavy_Rain',\n",
    " 'weathersit_tr_Light_Snow',\n",
    " 'weathersit_tr_Mist',\n",
    " 'hour_of_day_tr_Early_Morning',\n",
    " 'hour_of_day_tr_Evening',\n",
    " 'hour_of_day_tr_Morning',\n",
    " 'hour_of_day_tr_Night']\n"
   ]
  },
  {
   "cell_type": "code",
   "execution_count": 40,
   "metadata": {
    "execution": {
     "iopub.execute_input": "2021-09-12T18:17:05.712157Z",
     "iopub.status.busy": "2021-09-12T18:17:05.711770Z",
     "iopub.status.idle": "2021-09-12T18:17:05.814020Z",
     "shell.execute_reply": "2021-09-12T18:17:05.812854Z",
     "shell.execute_reply.started": "2021-09-12T18:17:05.712124Z"
    }
   },
   "outputs": [
    {
     "name": "stdout",
     "output_type": "stream",
     "text": [
      "p-value for field :holiday is 0.000, null hyp rejected\n",
      "p-value for field :workingday is 0.000, null hyp rejected\n",
      "p-value for field :weekday_tr is 0.000, null hyp rejected\n",
      "p-value for field :season_tr_spring is 0.000, null hyp rejected\n",
      "p-value for field :season_tr_summer is 0.000, null hyp rejected\n",
      "p-value for field :season_tr_winter is 0.000, null hyp rejected\n",
      "p-value for field :weathersit_tr_Heavy_Rain is 0.192, null hyp not rejected\n",
      "p-value for field :weathersit_tr_Light_Snow is 0.000, null hyp rejected\n",
      "p-value for field :weathersit_tr_Mist is 0.004, null hyp rejected\n",
      "p-value for field :hour_of_day_tr_Early_Morning is 0.000, null hyp rejected\n",
      "p-value for field :hour_of_day_tr_Evening is 0.000, null hyp rejected\n",
      "p-value for field :hour_of_day_tr_Morning is 0.000, null hyp rejected\n",
      "p-value for field :hour_of_day_tr_Night is 0.000, null hyp rejected\n"
     ]
    }
   ],
   "source": [
    "# Checking the MannWhitneyU test p-values for each categorical column\n",
    "for i in cat_cols:\n",
    "    _,pval = mannwhitneyu(train_hour_tr_encoded[train_hour_tr_encoded[i] == 0][\"registered\"], train_hour_tr_encoded[train_hour_tr_encoded[i] == 1][\"registered\"])\n",
    "    print(\"p-value for field :%s is %.3f, null hyp %s\" %(i, pval, 'rejected' if pval<=0.05 else 'not rejected'))"
   ]
  },
  {
   "cell_type": "markdown",
   "metadata": {},
   "source": [
    "The default assumption or null hypothesis is that there is no difference between the distributions of the data samples. Rejection of this hypothesis suggests that there is likely some difference between the samples.\n",
    "\n",
    "Except for HEavy rain, looks like all other categorical value seem to have an impact n the registerations"
   ]
  },
  {
   "cell_type": "code",
   "execution_count": 46,
   "metadata": {
    "execution": {
     "iopub.execute_input": "2021-09-12T18:17:05.815542Z",
     "iopub.status.busy": "2021-09-12T18:17:05.815219Z",
     "iopub.status.idle": "2021-09-12T18:17:05.822291Z",
     "shell.execute_reply": "2021-09-12T18:17:05.820988Z",
     "shell.execute_reply.started": "2021-09-12T18:17:05.815497Z"
    }
   },
   "outputs": [],
   "source": [
    "train_hour_tr_encoded = train_hour_tr_encoded.drop(['yr', 'mnth'], axis = 1)\n",
    "num_cols = ['temp', 'atemp', 'hum', 'windspeed', 'registered']"
   ]
  },
  {
   "cell_type": "code",
   "execution_count": 47,
   "metadata": {
    "execution": {
     "iopub.execute_input": "2021-09-12T18:17:05.823968Z",
     "iopub.status.busy": "2021-09-12T18:17:05.823640Z",
     "iopub.status.idle": "2021-09-12T18:17:05.850429Z",
     "shell.execute_reply": "2021-09-12T18:17:05.849613Z",
     "shell.execute_reply.started": "2021-09-12T18:17:05.823935Z"
    }
   },
   "outputs": [
    {
     "data": {
      "text/html": [
       "<div>\n",
       "<style scoped>\n",
       "    .dataframe tbody tr th:only-of-type {\n",
       "        vertical-align: middle;\n",
       "    }\n",
       "\n",
       "    .dataframe tbody tr th {\n",
       "        vertical-align: top;\n",
       "    }\n",
       "\n",
       "    .dataframe thead th {\n",
       "        text-align: right;\n",
       "    }\n",
       "</style>\n",
       "<table border=\"1\" class=\"dataframe\">\n",
       "  <thead>\n",
       "    <tr style=\"text-align: right;\">\n",
       "      <th></th>\n",
       "      <th>temp</th>\n",
       "      <th>atemp</th>\n",
       "      <th>hum</th>\n",
       "      <th>windspeed</th>\n",
       "      <th>registered</th>\n",
       "    </tr>\n",
       "  </thead>\n",
       "  <tbody>\n",
       "    <tr>\n",
       "      <th>8273</th>\n",
       "      <td>0.36</td>\n",
       "      <td>0.3333</td>\n",
       "      <td>0.46</td>\n",
       "      <td>0.3881</td>\n",
       "      <td>235</td>\n",
       "    </tr>\n",
       "    <tr>\n",
       "      <th>8393</th>\n",
       "      <td>0.40</td>\n",
       "      <td>0.4091</td>\n",
       "      <td>0.87</td>\n",
       "      <td>0.2239</td>\n",
       "      <td>220</td>\n",
       "    </tr>\n",
       "    <tr>\n",
       "      <th>1351</th>\n",
       "      <td>0.32</td>\n",
       "      <td>0.3333</td>\n",
       "      <td>0.36</td>\n",
       "      <td>0.1343</td>\n",
       "      <td>61</td>\n",
       "    </tr>\n",
       "    <tr>\n",
       "      <th>12541</th>\n",
       "      <td>0.80</td>\n",
       "      <td>0.7273</td>\n",
       "      <td>0.43</td>\n",
       "      <td>0.2985</td>\n",
       "      <td>726</td>\n",
       "    </tr>\n",
       "    <tr>\n",
       "      <th>12862</th>\n",
       "      <td>0.68</td>\n",
       "      <td>0.6364</td>\n",
       "      <td>0.69</td>\n",
       "      <td>0.2537</td>\n",
       "      <td>4</td>\n",
       "    </tr>\n",
       "    <tr>\n",
       "      <th>...</th>\n",
       "      <td>...</td>\n",
       "      <td>...</td>\n",
       "      <td>...</td>\n",
       "      <td>...</td>\n",
       "      <td>...</td>\n",
       "    </tr>\n",
       "    <tr>\n",
       "      <th>9475</th>\n",
       "      <td>0.30</td>\n",
       "      <td>0.2879</td>\n",
       "      <td>0.70</td>\n",
       "      <td>0.1940</td>\n",
       "      <td>54</td>\n",
       "    </tr>\n",
       "    <tr>\n",
       "      <th>3714</th>\n",
       "      <td>0.92</td>\n",
       "      <td>0.8788</td>\n",
       "      <td>0.40</td>\n",
       "      <td>0.2239</td>\n",
       "      <td>199</td>\n",
       "    </tr>\n",
       "    <tr>\n",
       "      <th>7409</th>\n",
       "      <td>0.40</td>\n",
       "      <td>0.4091</td>\n",
       "      <td>0.94</td>\n",
       "      <td>0.0896</td>\n",
       "      <td>418</td>\n",
       "    </tr>\n",
       "    <tr>\n",
       "      <th>5787</th>\n",
       "      <td>0.72</td>\n",
       "      <td>0.6818</td>\n",
       "      <td>0.66</td>\n",
       "      <td>0.1642</td>\n",
       "      <td>176</td>\n",
       "    </tr>\n",
       "    <tr>\n",
       "      <th>14155</th>\n",
       "      <td>0.64</td>\n",
       "      <td>0.5758</td>\n",
       "      <td>0.83</td>\n",
       "      <td>0.2239</td>\n",
       "      <td>99</td>\n",
       "    </tr>\n",
       "  </tbody>\n",
       "</table>\n",
       "<p>13903 rows × 5 columns</p>\n",
       "</div>"
      ],
      "text/plain": [
       "       temp   atemp   hum  windspeed  registered\n",
       "8273   0.36  0.3333  0.46     0.3881         235\n",
       "8393   0.40  0.4091  0.87     0.2239         220\n",
       "1351   0.32  0.3333  0.36     0.1343          61\n",
       "12541  0.80  0.7273  0.43     0.2985         726\n",
       "12862  0.68  0.6364  0.69     0.2537           4\n",
       "...     ...     ...   ...        ...         ...\n",
       "9475   0.30  0.2879  0.70     0.1940          54\n",
       "3714   0.92  0.8788  0.40     0.2239         199\n",
       "7409   0.40  0.4091  0.94     0.0896         418\n",
       "5787   0.72  0.6818  0.66     0.1642         176\n",
       "14155  0.64  0.5758  0.83     0.2239          99\n",
       "\n",
       "[13903 rows x 5 columns]"
      ]
     },
     "execution_count": 47,
     "metadata": {},
     "output_type": "execute_result"
    }
   ],
   "source": [
    "train_hour_tr_num = train_hour_tr_encoded[num_cols].copy()\n",
    "train_hour_tr_num"
   ]
  },
  {
   "cell_type": "code",
   "execution_count": 89,
   "metadata": {
    "execution": {
     "iopub.execute_input": "2021-09-12T18:27:42.706304Z",
     "iopub.status.busy": "2021-09-12T18:27:42.705674Z",
     "iopub.status.idle": "2021-09-12T18:27:43.005983Z",
     "shell.execute_reply": "2021-09-12T18:27:43.004896Z",
     "shell.execute_reply.started": "2021-09-12T18:27:42.706248Z"
    }
   },
   "outputs": [
    {
     "data": {
      "image/png": "[encoded data removed]",
      "text/plain": [
       "<Figure size 576x432 with 2 Axes>"
      ]
     },
     "metadata": {
      "needs_background": "light"
     },
     "output_type": "display_data"
    }
   ],
   "source": [
    "# Corelations matrix for data\n",
    "plt.figure(figsize = (8,6))\n",
    "sns.heatmap(train_hour_tr_encoded[num_cols].corr(method = 'spearman'), annot = True, cmap = 'RdYlGn') # Spearmann since,the target variable is not normally distributed\n",
    "plt.show()"
   ]
  },
  {
   "cell_type": "markdown",
   "metadata": {},
   "source": [
    "Only 2 of the columns, i.e atemp and humidity are moderately correlated with registrations. "
   ]
  },
  {
   "cell_type": "markdown",
   "metadata": {},
   "source": [
    "### Feature Selection"
   ]
  },
  {
   "cell_type": "code",
   "execution_count": 48,
   "metadata": {
    "execution": {
     "iopub.execute_input": "2021-09-12T18:17:06.199808Z",
     "iopub.status.busy": "2021-09-12T18:17:06.199510Z",
     "iopub.status.idle": "2021-09-12T18:17:07.002227Z",
     "shell.execute_reply": "2021-09-12T18:17:07.001027Z",
     "shell.execute_reply.started": "2021-09-12T18:17:06.199774Z"
    }
   },
   "outputs": [
    {
     "name": "stdout",
     "output_type": "stream",
     "text": [
      "                            OLS Regression Results                            \n",
      "==============================================================================\n",
      "Dep. Variable:             registered   R-squared:                       0.427\n",
      "Model:                            OLS   Adj. R-squared:                  0.427\n",
      "Method:                 Least Squares   F-statistic:                     796.9\n",
      "Date:                Sun, 24 Jul 2022   Prob (F-statistic):               0.00\n",
      "Time:                        12:52:09   Log-Likelihood:                -85548.\n",
      "No. Observations:               13903   AIC:                         1.711e+05\n",
      "Df Residuals:                   13889   BIC:                         1.712e+05\n",
      "Df Model:                          13                                         \n",
      "Covariance Type:            nonrobust                                         \n",
      "================================================================================================\n",
      "                                   coef    std err          t      P>|t|      [0.025      0.975]\n",
      "------------------------------------------------------------------------------------------------\n",
      "holiday                        -21.0294      3.812     -5.517      0.000     -28.501     -13.558\n",
      "workingday                      29.8627      2.118     14.098      0.000      25.711      34.015\n",
      "temp                            26.5044     34.236      0.774      0.439     -40.603      93.612\n",
      "atemp                          178.6915     38.434      4.649      0.000     103.356     254.027\n",
      "hum                            -59.4125      6.469     -9.185      0.000     -72.092     -46.733\n",
      "windspeed                      -16.7194      8.670     -1.928      0.054     -33.713       0.274\n",
      "weekday_tr                       8.8333      2.255      3.918      0.000       4.414      13.253\n",
      "weathersit_tr_Clear             56.6976      7.923      7.156      0.000      41.168      72.227\n",
      "weathersit_tr_Heavy_Rain        22.7371     58.578      0.388      0.698     -92.083     137.557\n",
      "weathersit_tr_Light_Snow         8.0118      8.859      0.904      0.366      -9.353      25.377\n",
      "weathersit_tr_Mist              52.5620      8.177      6.428      0.000      36.533      68.591\n",
      "hour_of_day_tr_Afternoon        36.1115      7.991      4.519      0.000      20.448      51.775\n",
      "hour_of_day_tr_Early_Morning   -42.3167      8.273     -5.115      0.000     -58.533     -26.100\n",
      "hour_of_day_tr_Evening         152.9918      8.027     19.059      0.000     137.257     168.726\n",
      "hour_of_day_tr_Morning          60.2877      8.042      7.496      0.000      44.524      76.051\n",
      "hour_of_day_tr_Night           -67.0659      8.058     -8.323      0.000     -82.860     -51.272\n",
      "==============================================================================\n",
      "Omnibus:                     3861.628   Durbin-Watson:                   2.029\n",
      "Prob(Omnibus):                  0.000   Jarque-Bera (JB):            11116.264\n",
      "Skew:                           1.459   Prob(JB):                         0.00\n",
      "Kurtosis:                       6.267   Cond. No.                     1.46e+16\n",
      "==============================================================================\n",
      "\n",
      "Notes:\n",
      "[1] Standard Errors assume that the covariance matrix of the errors is correctly specified.\n",
      "[2] The smallest eigenvalue is 1.81e-28. This might indicate that there are\n",
      "strong multicollinearity problems or that the design matrix is singular.\n"
     ]
    }
   ],
   "source": [
    "from statsmodels.api import OLS\n",
    "model = OLS(train_hour_tr_encoded[\"registered\"], train_hour_tr_encoded.drop([\"registered\", 'cnt', 'casual'],axis =1))\n",
    "res = model.fit()\n",
    "print(res.summary())"
   ]
  },
  {
   "cell_type": "code",
   "execution_count": 45,
   "metadata": {
    "execution": {
     "iopub.execute_input": "2021-09-12T18:17:07.004810Z",
     "iopub.status.busy": "2021-09-12T18:17:07.004055Z",
     "iopub.status.idle": "2021-09-12T18:17:07.037181Z",
     "shell.execute_reply": "2021-09-12T18:17:07.036090Z",
     "shell.execute_reply.started": "2021-09-12T18:17:07.004756Z"
    }
   },
   "outputs": [
    {
     "name": "stdout",
     "output_type": "stream",
     "text": [
      "                                 OLS Regression Results                                \n",
      "=======================================================================================\n",
      "Dep. Variable:             registered   R-squared (uncentered):                   0.567\n",
      "Model:                            OLS   Adj. R-squared (uncentered):              0.567\n",
      "Method:                 Least Squares   F-statistic:                              9108.\n",
      "Date:                Sun, 12 Sep 2021   Prob (F-statistic):                        0.00\n",
      "Time:                        18:17:07   Log-Likelihood:                         -88554.\n",
      "No. Observations:               13903   AIC:                                  1.771e+05\n",
      "Df Residuals:                   13901   BIC:                                  1.771e+05\n",
      "Df Model:                           2                                                  \n",
      "Covariance Type:            nonrobust                                                  \n",
      "==============================================================================\n",
      "                 coef    std err          t      P>|t|      [0.025      0.975]\n",
      "------------------------------------------------------------------------------\n",
      "temp         360.3659      4.802     75.051      0.000     350.954     369.778\n",
      "hum          -53.1093      3.892    -13.646      0.000     -60.738     -45.481\n",
      "==============================================================================\n",
      "Omnibus:                     3559.481   Durbin-Watson:                   2.007\n",
      "Prob(Omnibus):                  0.000   Jarque-Bera (JB):             8967.809\n",
      "Skew:                           1.402   Prob(JB):                         0.00\n",
      "Kurtosis:                       5.761   Cond. No.                         4.11\n",
      "==============================================================================\n",
      "\n",
      "Notes:\n",
      "[1] R² is computed without centering (uncentered) since the model does not contain a constant.\n",
      "[2] Standard Errors assume that the covariance matrix of the errors is correctly specified.\n"
     ]
    }
   ],
   "source": [
    "col_list  = ['temp', 'hum']\n",
    "\n",
    "model = OLS(train_hour_tr_encoded[\"registered\"], train_hour_tr_encoded.drop([\"registered\", 'cnt', 'casual', 'registered_norm'],axis =1)[col_list])\n",
    "res = model.fit()\n",
    "print(res.summary())"
   ]
  },
  {
   "cell_type": "markdown",
   "metadata": {},
   "source": [
    "### Using ExtraTreeRegressor to check feature importances    "
   ]
  },
  {
   "cell_type": "code",
   "execution_count": 49,
   "metadata": {
    "execution": {
     "iopub.execute_input": "2021-09-12T18:17:07.039746Z",
     "iopub.status.busy": "2021-09-12T18:17:07.038962Z",
     "iopub.status.idle": "2021-09-12T18:17:07.264407Z",
     "shell.execute_reply": "2021-09-12T18:17:07.263581Z",
     "shell.execute_reply.started": "2021-09-12T18:17:07.039692Z"
    }
   },
   "outputs": [],
   "source": [
    "from sklearn.ensemble import ExtraTreesRegressor\n",
    "etr = ExtraTreesRegressor(random_state = 23)\n",
    "\n",
    "train_hour_tr_encoded.head()\n",
    "\n",
    "X = train_hour_tr_encoded.drop([\"casual\", \"registered\", \"cnt\"], axis = 1)\n",
    "y = train_hour_tr_encoded[\"cnt\"]"
   ]
  },
  {
   "cell_type": "code",
   "execution_count": 21,
   "metadata": {},
   "outputs": [
    {
     "data": {
      "text/plain": [
       "8273     243\n",
       "8393     234\n",
       "1351      79\n",
       "12541    831\n",
       "12862      5\n",
       "Name: cnt, dtype: int64"
      ]
     },
     "execution_count": 21,
     "metadata": {},
     "output_type": "execute_result"
    }
   ],
   "source": [
    "y.head()"
   ]
  },
  {
   "cell_type": "code",
   "execution_count": 50,
   "metadata": {
    "execution": {
     "iopub.execute_input": "2021-09-12T18:17:07.266176Z",
     "iopub.status.busy": "2021-09-12T18:17:07.265687Z",
     "iopub.status.idle": "2021-09-12T18:17:10.463449Z",
     "shell.execute_reply": "2021-09-12T18:17:10.462629Z",
     "shell.execute_reply.started": "2021-09-12T18:17:07.266145Z"
    }
   },
   "outputs": [
    {
     "data": {
      "image/png": "[encoded data removed]",
      "text/plain": [
       "<Figure size 432x288 with 1 Axes>"
      ]
     },
     "metadata": {
      "needs_background": "light"
     },
     "output_type": "display_data"
    }
   ],
   "source": [
    "etr.fit(X,y)\n",
    "feat_imp = pd.Series(etr.feature_importances_, index= list(X.columns))\n",
    "feat_imp.nlargest(10).plot(kind ='bar')\n",
    "plt.show()"
   ]
  },
  {
   "cell_type": "code",
   "execution_count": 91,
   "metadata": {
    "execution": {
     "iopub.execute_input": "2021-09-12T18:36:39.667970Z",
     "iopub.status.busy": "2021-09-12T18:36:39.667460Z",
     "iopub.status.idle": "2021-09-12T18:36:39.679168Z",
     "shell.execute_reply": "2021-09-12T18:36:39.677782Z",
     "shell.execute_reply.started": "2021-09-12T18:36:39.667928Z"
    }
   },
   "outputs": [
    {
     "data": {
      "text/plain": [
       "hour_of_day_tr_Evening          0.191838\n",
       "temp                            0.170333\n",
       "hum                             0.149767\n",
       "windspeed                       0.130420\n",
       "hour_of_day_tr_Night            0.081597\n",
       "workingday                      0.073367\n",
       "hour_of_day_tr_Early_Morning    0.072077\n",
       "season_tr_winter                0.052403\n",
       "weathersit_tr_Light_Snow        0.019985\n",
       "weathersit_tr_Mist              0.018072\n",
       "dtype: float64"
      ]
     },
     "execution_count": 91,
     "metadata": {},
     "output_type": "execute_result"
    }
   ],
   "source": [
    "feat_imp.nlargest(10)"
   ]
  },
  {
   "cell_type": "markdown",
   "metadata": {},
   "source": [
    "### Feature Selection using permutation importances"
   ]
  },
  {
   "cell_type": "code",
   "execution_count": 15,
   "metadata": {
    "execution": {
     "iopub.execute_input": "2021-09-12T18:17:10.465392Z",
     "iopub.status.busy": "2021-09-12T18:17:10.464886Z",
     "iopub.status.idle": "2021-09-12T18:17:17.772434Z",
     "shell.execute_reply": "2021-09-12T18:17:17.771459Z",
     "shell.execute_reply.started": "2021-09-12T18:17:10.465357Z"
    }
   },
   "outputs": [
    {
     "ename": "ModuleNotFoundError",
     "evalue": "No module named 'eli5'",
     "output_type": "error",
     "traceback": [
      "\u001b[1;31m---------------------------------------------------------------------------\u001b[0m",
      "\u001b[1;31mModuleNotFoundError\u001b[0m                       Traceback (most recent call last)",
      "\u001b[1;32m~\\AppData\\Local\\Temp/ipykernel_1620/1971746548.py\u001b[0m in \u001b[0;36m<module>\u001b[1;34m\u001b[0m\n\u001b[1;32m----> 1\u001b[1;33m \u001b[1;32mimport\u001b[0m \u001b[0meli5\u001b[0m\u001b[1;33m\u001b[0m\u001b[1;33m\u001b[0m\u001b[0m\n\u001b[0m\u001b[0;32m      2\u001b[0m \u001b[1;32mfrom\u001b[0m \u001b[0meli5\u001b[0m\u001b[1;33m.\u001b[0m\u001b[0msklearn\u001b[0m \u001b[1;32mimport\u001b[0m \u001b[0mPermutationImportance\u001b[0m\u001b[1;33m\u001b[0m\u001b[1;33m\u001b[0m\u001b[0m\n\u001b[0;32m      3\u001b[0m \u001b[1;32mfrom\u001b[0m \u001b[0msklearn\u001b[0m\u001b[1;33m.\u001b[0m\u001b[0mensemble\u001b[0m \u001b[1;32mimport\u001b[0m \u001b[0mRandomForestRegressor\u001b[0m\u001b[1;33m\u001b[0m\u001b[1;33m\u001b[0m\u001b[0m\n",
      "\u001b[1;31mModuleNotFoundError\u001b[0m: No module named 'eli5'"
     ]
    }
   ],
   "source": [
    "import eli5\n",
    "from eli5.sklearn import PermutationImportance\n",
    "from sklearn.ensemble import RandomForestRegressor"
   ]
  },
  {
   "cell_type": "code",
   "execution_count": 16,
   "metadata": {},
   "outputs": [
    {
     "name": "stdout",
     "output_type": "stream",
     "text": [
      "Collecting eli5\n",
      "  Downloading eli5-0.13.0.tar.gz (216 kB)\n",
      "     -------------------------------------- 216.2/216.2 kB 2.2 MB/s eta 0:00:00\n",
      "  Preparing metadata (setup.py): started\n",
      "  Preparing metadata (setup.py): finished with status 'done'\n",
      "Requirement already satisfied: attrs>17.1.0 in c:\\programdata\\anaconda3\\lib\\site-packages (from eli5) (21.2.0)\n",
      "Collecting jinja2>=3.0.0\n",
      "  Using cached Jinja2-3.1.2-py3-none-any.whl (133 kB)\n",
      "Requirement already satisfied: numpy>=1.9.0 in c:\\programdata\\anaconda3\\lib\\site-packages (from eli5) (1.20.3)\n",
      "Requirement already satisfied: scipy in c:\\programdata\\anaconda3\\lib\\site-packages (from eli5) (1.7.1)\n",
      "Requirement already satisfied: six in c:\\programdata\\anaconda3\\lib\\site-packages (from eli5) (1.16.0)\n",
      "Requirement already satisfied: scikit-learn>=0.20 in c:\\programdata\\anaconda3\\lib\\site-packages (from eli5) (1.1.1)\n",
      "Collecting graphviz\n",
      "  Downloading graphviz-0.20.1-py3-none-any.whl (47 kB)\n",
      "     ---------------------------------------- 47.0/47.0 kB 1.2 MB/s eta 0:00:00\n",
      "Collecting tabulate>=0.7.7\n",
      "  Downloading tabulate-0.8.10-py3-none-any.whl (29 kB)\n",
      "Requirement already satisfied: MarkupSafe>=2.0 in c:\\programdata\\anaconda3\\lib\\site-packages (from jinja2>=3.0.0->eli5) (2.0.1)\n",
      "Requirement already satisfied: joblib>=1.0.0 in c:\\programdata\\anaconda3\\lib\\site-packages (from scikit-learn>=0.20->eli5) (1.0.1)\n",
      "Requirement already satisfied: threadpoolctl>=2.0.0 in c:\\programdata\\anaconda3\\lib\\site-packages (from scikit-learn>=0.20->eli5) (2.2.0)\n",
      "Building wheels for collected packages: eli5\n",
      "  Building wheel for eli5 (setup.py): started\n",
      "  Building wheel for eli5 (setup.py): finished with status 'done'\n",
      "  Created wheel for eli5: filename=eli5-0.13.0-py2.py3-none-any.whl size=107748 sha256=6814477baf8e15340c39eff14767d2419f72ad0b4193a53dc251283949cbf222\n",
      "  Stored in directory: c:\\users\\kapil\\appdata\\local\\pip\\cache\\wheels\\7b\\26\\a5\\8460416695a992a2966b41caa5338e5e7fcea98c9d032d055c\n",
      "Successfully built eli5\n",
      "Installing collected packages: tabulate, jinja2, graphviz, eli5\n",
      "  Attempting uninstall: jinja2\n",
      "    Found existing installation: Jinja2 2.11.3\n",
      "    Uninstalling Jinja2-2.11.3:\n"
     ]
    },
    {
     "name": "stderr",
     "output_type": "stream",
     "text": [
      "WARNING: Ignoring invalid distribution -ikit-learn (c:\\programdata\\anaconda3\\lib\\site-packages)\n",
      "WARNING: Ignoring invalid distribution -8ikit-learn (c:\\programdata\\anaconda3\\lib\\site-packages)\n",
      "WARNING: Ignoring invalid distribution -7ikit-learn (c:\\programdata\\anaconda3\\lib\\site-packages)\n",
      "WARNING: Ignoring invalid distribution -6ikit-learn (c:\\programdata\\anaconda3\\lib\\site-packages)\n",
      "WARNING: Ignoring invalid distribution -5ikit-learn (c:\\programdata\\anaconda3\\lib\\site-packages)\n",
      "WARNING: Ignoring invalid distribution -4ikit-learn (c:\\programdata\\anaconda3\\lib\\site-packages)\n",
      "WARNING: Ignoring invalid distribution -3ikit-learn (c:\\programdata\\anaconda3\\lib\\site-packages)\n",
      "WARNING: Ignoring invalid distribution -2ikit-learn (c:\\programdata\\anaconda3\\lib\\site-packages)\n",
      "WARNING: Ignoring invalid distribution -1ikit-learn (c:\\programdata\\anaconda3\\lib\\site-packages)\n",
      "WARNING: Ignoring invalid distribution -ydantic (c:\\programdata\\anaconda3\\lib\\site-packages)\n",
      "WARNING: Ignoring invalid distribution -ikit-learn (c:\\programdata\\anaconda3\\lib\\site-packages)\n",
      "WARNING: Ignoring invalid distribution -0ikit-learn (c:\\programdata\\anaconda3\\lib\\site-packages)\n",
      "WARNING: Ignoring invalid distribution - (c:\\programdata\\anaconda3\\lib\\site-packages)\n",
      "WARNING: Ignoring invalid distribution -cikit-learn (c:\\programdata\\anaconda3\\lib\\site-packages)\n",
      "WARNING: Ignoring invalid distribution -arkupsafe (c:\\programdata\\anaconda3\\lib\\site-packages)\n",
      "WARNING: Ignoring invalid distribution -ikit-learn (c:\\programdata\\anaconda3\\lib\\site-packages)\n",
      "WARNING: Ignoring invalid distribution -8ikit-learn (c:\\programdata\\anaconda3\\lib\\site-packages)\n",
      "WARNING: Ignoring invalid distribution -7ikit-learn (c:\\programdata\\anaconda3\\lib\\site-packages)\n",
      "WARNING: Ignoring invalid distribution -6ikit-learn (c:\\programdata\\anaconda3\\lib\\site-packages)\n",
      "WARNING: Ignoring invalid distribution -5ikit-learn (c:\\programdata\\anaconda3\\lib\\site-packages)\n",
      "WARNING: Ignoring invalid distribution -4ikit-learn (c:\\programdata\\anaconda3\\lib\\site-packages)\n",
      "WARNING: Ignoring invalid distribution -3ikit-learn (c:\\programdata\\anaconda3\\lib\\site-packages)\n",
      "WARNING: Ignoring invalid distribution -2ikit-learn (c:\\programdata\\anaconda3\\lib\\site-packages)\n",
      "WARNING: Ignoring invalid distribution -1ikit-learn (c:\\programdata\\anaconda3\\lib\\site-packages)\n",
      "WARNING: Ignoring invalid distribution -ydantic (c:\\programdata\\anaconda3\\lib\\site-packages)\n",
      "WARNING: Ignoring invalid distribution -ikit-learn (c:\\programdata\\anaconda3\\lib\\site-packages)\n",
      "WARNING: Ignoring invalid distribution -0ikit-learn (c:\\programdata\\anaconda3\\lib\\site-packages)\n",
      "WARNING: Ignoring invalid distribution - (c:\\programdata\\anaconda3\\lib\\site-packages)\n",
      "WARNING: Ignoring invalid distribution -cikit-learn (c:\\programdata\\anaconda3\\lib\\site-packages)\n",
      "WARNING: Ignoring invalid distribution -arkupsafe (c:\\programdata\\anaconda3\\lib\\site-packages)\n",
      "WARNING: Ignoring invalid distribution -ikit-learn (c:\\programdata\\anaconda3\\lib\\site-packages)\n",
      "WARNING: Ignoring invalid distribution -8ikit-learn (c:\\programdata\\anaconda3\\lib\\site-packages)\n",
      "WARNING: Ignoring invalid distribution -7ikit-learn (c:\\programdata\\anaconda3\\lib\\site-packages)\n",
      "WARNING: Ignoring invalid distribution -6ikit-learn (c:\\programdata\\anaconda3\\lib\\site-packages)\n",
      "WARNING: Ignoring invalid distribution -5ikit-learn (c:\\programdata\\anaconda3\\lib\\site-packages)\n",
      "WARNING: Ignoring invalid distribution -4ikit-learn (c:\\programdata\\anaconda3\\lib\\site-packages)\n",
      "WARNING: Ignoring invalid distribution -3ikit-learn (c:\\programdata\\anaconda3\\lib\\site-packages)\n",
      "WARNING: Ignoring invalid distribution -2ikit-learn (c:\\programdata\\anaconda3\\lib\\site-packages)\n",
      "WARNING: Ignoring invalid distribution -1ikit-learn (c:\\programdata\\anaconda3\\lib\\site-packages)\n",
      "WARNING: Ignoring invalid distribution -ydantic (c:\\programdata\\anaconda3\\lib\\site-packages)\n",
      "WARNING: Ignoring invalid distribution -ikit-learn (c:\\programdata\\anaconda3\\lib\\site-packages)\n",
      "WARNING: Ignoring invalid distribution -0ikit-learn (c:\\programdata\\anaconda3\\lib\\site-packages)\n",
      "WARNING: Ignoring invalid distribution - (c:\\programdata\\anaconda3\\lib\\site-packages)\n",
      "WARNING: Ignoring invalid distribution -cikit-learn (c:\\programdata\\anaconda3\\lib\\site-packages)\n",
      "WARNING: Ignoring invalid distribution -arkupsafe (c:\\programdata\\anaconda3\\lib\\site-packages)\n",
      "    WARNING: Ignoring invalid distribution -ikit-learn (c:\\programdata\\anaconda3\\lib\\site-packages)\n",
      "    WARNING: Ignoring invalid distribution -8ikit-learn (c:\\programdata\\anaconda3\\lib\\site-packages)\n",
      "    WARNING: Ignoring invalid distribution -7ikit-learn (c:\\programdata\\anaconda3\\lib\\site-packages)\n",
      "    WARNING: Ignoring invalid distribution -6ikit-learn (c:\\programdata\\anaconda3\\lib\\site-packages)\n",
      "    WARNING: Ignoring invalid distribution -5ikit-learn (c:\\programdata\\anaconda3\\lib\\site-packages)\n",
      "    WARNING: Ignoring invalid distribution -4ikit-learn (c:\\programdata\\anaconda3\\lib\\site-packages)\n",
      "    WARNING: Ignoring invalid distribution -3ikit-learn (c:\\programdata\\anaconda3\\lib\\site-packages)\n",
      "    WARNING: Ignoring invalid distribution -2ikit-learn (c:\\programdata\\anaconda3\\lib\\site-packages)\n",
      "    WARNING: Ignoring invalid distribution -1ikit-learn (c:\\programdata\\anaconda3\\lib\\site-packages)\n",
      "    WARNING: Ignoring invalid distribution -ydantic (c:\\programdata\\anaconda3\\lib\\site-packages)\n",
      "    WARNING: Ignoring invalid distribution -ikit-learn (c:\\programdata\\anaconda3\\lib\\site-packages)\n",
      "    WARNING: Ignoring invalid distribution -0ikit-learn (c:\\programdata\\anaconda3\\lib\\site-packages)\n",
      "    WARNING: Ignoring invalid distribution - (c:\\programdata\\anaconda3\\lib\\site-packages)\n",
      "    WARNING: Ignoring invalid distribution -cikit-learn (c:\\programdata\\anaconda3\\lib\\site-packages)\n",
      "    WARNING: Ignoring invalid distribution -arkupsafe (c:\\programdata\\anaconda3\\lib\\site-packages)\n",
      "ERROR: Could not install packages due to an OSError: [WinError 5] Access is denied: 'c:\\\\programdata\\\\anaconda3\\\\lib\\\\site-packages\\\\jinja2-2.11.3.dist-info\\\\direct_url.json'\n",
      "Consider using the `--user` option or check the permissions.\n",
      "\n",
      "WARNING: Ignoring invalid distribution -ikit-learn (c:\\programdata\\anaconda3\\lib\\site-packages)\n",
      "WARNING: Ignoring invalid distribution -8ikit-learn (c:\\programdata\\anaconda3\\lib\\site-packages)\n",
      "WARNING: Ignoring invalid distribution -7ikit-learn (c:\\programdata\\anaconda3\\lib\\site-packages)\n",
      "WARNING: Ignoring invalid distribution -6ikit-learn (c:\\programdata\\anaconda3\\lib\\site-packages)\n",
      "WARNING: Ignoring invalid distribution -5ikit-learn (c:\\programdata\\anaconda3\\lib\\site-packages)\n",
      "WARNING: Ignoring invalid distribution -4ikit-learn (c:\\programdata\\anaconda3\\lib\\site-packages)\n",
      "WARNING: Ignoring invalid distribution -3ikit-learn (c:\\programdata\\anaconda3\\lib\\site-packages)\n",
      "WARNING: Ignoring invalid distribution -2ikit-learn (c:\\programdata\\anaconda3\\lib\\site-packages)\n",
      "WARNING: Ignoring invalid distribution -1ikit-learn (c:\\programdata\\anaconda3\\lib\\site-packages)\n",
      "WARNING: Ignoring invalid distribution -ydantic (c:\\programdata\\anaconda3\\lib\\site-packages)\n",
      "WARNING: Ignoring invalid distribution -ikit-learn (c:\\programdata\\anaconda3\\lib\\site-packages)\n",
      "WARNING: Ignoring invalid distribution -0ikit-learn (c:\\programdata\\anaconda3\\lib\\site-packages)\n",
      "WARNING: Ignoring invalid distribution - (c:\\programdata\\anaconda3\\lib\\site-packages)\n",
      "WARNING: Ignoring invalid distribution -cikit-learn (c:\\programdata\\anaconda3\\lib\\site-packages)\n",
      "WARNING: Ignoring invalid distribution -arkupsafe (c:\\programdata\\anaconda3\\lib\\site-packages)\n",
      "WARNING: There was an error checking the latest version of pip.\n"
     ]
    }
   ],
   "source": [
    "!pip install eli5"
   ]
  },
  {
   "cell_type": "code",
   "execution_count": 49,
   "metadata": {
    "execution": {
     "iopub.execute_input": "2021-09-12T18:17:17.774308Z",
     "iopub.status.busy": "2021-09-12T18:17:17.773789Z",
     "iopub.status.idle": "2021-09-12T18:17:28.132788Z",
     "shell.execute_reply": "2021-09-12T18:17:28.131422Z",
     "shell.execute_reply.started": "2021-09-12T18:17:17.774274Z"
    }
   },
   "outputs": [
    {
     "data": {
      "text/html": [
       "\n",
       "    <style>\n",
       "    table.eli5-weights tr:hover {\n",
       "        filter: brightness(85%);\n",
       "    }\n",
       "</style>\n",
       "\n",
       "\n",
       "\n",
       "    \n",
       "\n",
       "    \n",
       "\n",
       "    \n",
       "\n",
       "    \n",
       "\n",
       "    \n",
       "\n",
       "    \n",
       "\n",
       "\n",
       "    \n",
       "\n",
       "    \n",
       "\n",
       "    \n",
       "\n",
       "    \n",
       "\n",
       "    \n",
       "\n",
       "    \n",
       "\n",
       "\n",
       "    \n",
       "\n",
       "    \n",
       "\n",
       "    \n",
       "\n",
       "    \n",
       "\n",
       "    \n",
       "        <table class=\"eli5-weights eli5-feature-importances\" style=\"border-collapse: collapse; border: none; margin-top: 0em; table-layout: auto;\">\n",
       "    <thead>\n",
       "    <tr style=\"border: none;\">\n",
       "        <th style=\"padding: 0 1em 0 0.5em; text-align: right; border: none;\">Weight</th>\n",
       "        <th style=\"padding: 0 0.5em 0 0.5em; text-align: left; border: none;\">Feature</th>\n",
       "    </tr>\n",
       "    </thead>\n",
       "    <tbody>\n",
       "    \n",
       "        <tr style=\"background-color: hsl(120, 100.00%, 80.00%); border: none;\">\n",
       "            <td style=\"padding: 0 1em 0 0.5em; text-align: right; border: none;\">\n",
       "                0.3529\n",
       "                \n",
       "                    &plusmn; 0.0422\n",
       "                \n",
       "            </td>\n",
       "            <td style=\"padding: 0 0.5em 0 0.5em; text-align: left; border: none;\">\n",
       "                hour_of_day_tr_Evening\n",
       "            </td>\n",
       "        </tr>\n",
       "    \n",
       "        <tr style=\"background-color: hsl(120, 100.00%, 83.97%); border: none;\">\n",
       "            <td style=\"padding: 0 1em 0 0.5em; text-align: right; border: none;\">\n",
       "                0.2573\n",
       "                \n",
       "                    &plusmn; 0.0190\n",
       "                \n",
       "            </td>\n",
       "            <td style=\"padding: 0 0.5em 0 0.5em; text-align: left; border: none;\">\n",
       "                hour_of_day_tr_Night\n",
       "            </td>\n",
       "        </tr>\n",
       "    \n",
       "        <tr style=\"background-color: hsl(120, 100.00%, 84.43%); border: none;\">\n",
       "            <td style=\"padding: 0 1em 0 0.5em; text-align: right; border: none;\">\n",
       "                0.2467\n",
       "                \n",
       "                    &plusmn; 0.0168\n",
       "                \n",
       "            </td>\n",
       "            <td style=\"padding: 0 0.5em 0 0.5em; text-align: left; border: none;\">\n",
       "                temp\n",
       "            </td>\n",
       "        </tr>\n",
       "    \n",
       "        <tr style=\"background-color: hsl(120, 100.00%, 88.62%); border: none;\">\n",
       "            <td style=\"padding: 0 1em 0 0.5em; text-align: right; border: none;\">\n",
       "                0.1577\n",
       "                \n",
       "                    &plusmn; 0.0213\n",
       "                \n",
       "            </td>\n",
       "            <td style=\"padding: 0 0.5em 0 0.5em; text-align: left; border: none;\">\n",
       "                workingday\n",
       "            </td>\n",
       "        </tr>\n",
       "    \n",
       "        <tr style=\"background-color: hsl(120, 100.00%, 88.64%); border: none;\">\n",
       "            <td style=\"padding: 0 1em 0 0.5em; text-align: right; border: none;\">\n",
       "                0.1573\n",
       "                \n",
       "                    &plusmn; 0.0190\n",
       "                \n",
       "            </td>\n",
       "            <td style=\"padding: 0 0.5em 0 0.5em; text-align: left; border: none;\">\n",
       "                hour_of_day_tr_Early_Morning\n",
       "            </td>\n",
       "        </tr>\n",
       "    \n",
       "        <tr style=\"background-color: hsl(120, 100.00%, 89.65%); border: none;\">\n",
       "            <td style=\"padding: 0 1em 0 0.5em; text-align: right; border: none;\">\n",
       "                0.1376\n",
       "                \n",
       "                    &plusmn; 0.0110\n",
       "                \n",
       "            </td>\n",
       "            <td style=\"padding: 0 0.5em 0 0.5em; text-align: left; border: none;\">\n",
       "                hum\n",
       "            </td>\n",
       "        </tr>\n",
       "    \n",
       "        <tr style=\"background-color: hsl(120, 100.00%, 92.11%); border: none;\">\n",
       "            <td style=\"padding: 0 1em 0 0.5em; text-align: right; border: none;\">\n",
       "                0.0934\n",
       "                \n",
       "                    &plusmn; 0.0173\n",
       "                \n",
       "            </td>\n",
       "            <td style=\"padding: 0 0.5em 0 0.5em; text-align: left; border: none;\">\n",
       "                season_tr_winter\n",
       "            </td>\n",
       "        </tr>\n",
       "    \n",
       "        <tr style=\"background-color: hsl(120, 100.00%, 96.28%); border: none;\">\n",
       "            <td style=\"padding: 0 1em 0 0.5em; text-align: right; border: none;\">\n",
       "                0.0319\n",
       "                \n",
       "                    &plusmn; 0.0115\n",
       "                \n",
       "            </td>\n",
       "            <td style=\"padding: 0 0.5em 0 0.5em; text-align: left; border: none;\">\n",
       "                season_tr_summer\n",
       "            </td>\n",
       "        </tr>\n",
       "    \n",
       "        <tr style=\"background-color: hsl(120, 100.00%, 96.56%); border: none;\">\n",
       "            <td style=\"padding: 0 1em 0 0.5em; text-align: right; border: none;\">\n",
       "                0.0285\n",
       "                \n",
       "                    &plusmn; 0.0044\n",
       "                \n",
       "            </td>\n",
       "            <td style=\"padding: 0 0.5em 0 0.5em; text-align: left; border: none;\">\n",
       "                weathersit_tr_Light_Snow\n",
       "            </td>\n",
       "        </tr>\n",
       "    \n",
       "        <tr style=\"background-color: hsl(120, 100.00%, 96.78%); border: none;\">\n",
       "            <td style=\"padding: 0 1em 0 0.5em; text-align: right; border: none;\">\n",
       "                0.0260\n",
       "                \n",
       "                    &plusmn; 0.0089\n",
       "                \n",
       "            </td>\n",
       "            <td style=\"padding: 0 0.5em 0 0.5em; text-align: left; border: none;\">\n",
       "                windspeed\n",
       "            </td>\n",
       "        </tr>\n",
       "    \n",
       "        <tr style=\"background-color: hsl(120, 100.00%, 97.08%); border: none;\">\n",
       "            <td style=\"padding: 0 1em 0 0.5em; text-align: right; border: none;\">\n",
       "                0.0226\n",
       "                \n",
       "                    &plusmn; 0.0026\n",
       "                \n",
       "            </td>\n",
       "            <td style=\"padding: 0 0.5em 0 0.5em; text-align: left; border: none;\">\n",
       "                hour_of_day_tr_Morning\n",
       "            </td>\n",
       "        </tr>\n",
       "    \n",
       "        <tr style=\"background-color: hsl(120, 100.00%, 97.75%); border: none;\">\n",
       "            <td style=\"padding: 0 1em 0 0.5em; text-align: right; border: none;\">\n",
       "                0.0155\n",
       "                \n",
       "                    &plusmn; 0.0087\n",
       "                \n",
       "            </td>\n",
       "            <td style=\"padding: 0 0.5em 0 0.5em; text-align: left; border: none;\">\n",
       "                weekday_tr\n",
       "            </td>\n",
       "        </tr>\n",
       "    \n",
       "        <tr style=\"background-color: hsl(120, 100.00%, 98.37%); border: none;\">\n",
       "            <td style=\"padding: 0 1em 0 0.5em; text-align: right; border: none;\">\n",
       "                0.0098\n",
       "                \n",
       "                    &plusmn; 0.0053\n",
       "                \n",
       "            </td>\n",
       "            <td style=\"padding: 0 0.5em 0 0.5em; text-align: left; border: none;\">\n",
       "                weathersit_tr_Mist\n",
       "            </td>\n",
       "        </tr>\n",
       "    \n",
       "        <tr style=\"background-color: hsl(120, 100.00%, 98.68%); border: none;\">\n",
       "            <td style=\"padding: 0 1em 0 0.5em; text-align: right; border: none;\">\n",
       "                0.0073\n",
       "                \n",
       "                    &plusmn; 0.0078\n",
       "                \n",
       "            </td>\n",
       "            <td style=\"padding: 0 0.5em 0 0.5em; text-align: left; border: none;\">\n",
       "                season_tr_spring\n",
       "            </td>\n",
       "        </tr>\n",
       "    \n",
       "        <tr style=\"background-color: hsl(120, 100.00%, 99.45%); border: none;\">\n",
       "            <td style=\"padding: 0 1em 0 0.5em; text-align: right; border: none;\">\n",
       "                0.0021\n",
       "                \n",
       "                    &plusmn; 0.0004\n",
       "                \n",
       "            </td>\n",
       "            <td style=\"padding: 0 0.5em 0 0.5em; text-align: left; border: none;\">\n",
       "                holiday\n",
       "            </td>\n",
       "        </tr>\n",
       "    \n",
       "        <tr style=\"background-color: hsl(0, 100.00%, 100.00%); border: none;\">\n",
       "            <td style=\"padding: 0 1em 0 0.5em; text-align: right; border: none;\">\n",
       "                0\n",
       "                \n",
       "                    &plusmn; 0.0000\n",
       "                \n",
       "            </td>\n",
       "            <td style=\"padding: 0 0.5em 0 0.5em; text-align: left; border: none;\">\n",
       "                weathersit_tr_Heavy_Rain\n",
       "            </td>\n",
       "        </tr>\n",
       "    \n",
       "    \n",
       "    </tbody>\n",
       "</table>\n",
       "    \n",
       "\n",
       "    \n",
       "\n",
       "\n",
       "    \n",
       "\n",
       "    \n",
       "\n",
       "    \n",
       "\n",
       "    \n",
       "\n",
       "    \n",
       "\n",
       "    \n",
       "\n",
       "\n",
       "\n"
      ],
      "text/plain": [
       "<IPython.core.display.HTML object>"
      ]
     },
     "execution_count": 49,
     "metadata": {},
     "output_type": "execute_result"
    }
   ],
   "source": [
    "X_train, X_val, y_train, y_val = train_test_split(X,y, test_size = 0.2)\n",
    "model = RandomForestRegressor(random_state  = 23).fit(X_train, y_train)\n",
    "perm = PermutationImportance(model, random_state = 23).fit(X_val,y_val)\n",
    "\n",
    "eli5.show_weights(perm,feature_names = X_val.columns.to_list())"
   ]
  },
  {
   "cell_type": "code",
   "execution_count": 50,
   "metadata": {
    "execution": {
     "iopub.execute_input": "2021-09-12T18:17:28.134453Z",
     "iopub.status.busy": "2021-09-12T18:17:28.134134Z",
     "iopub.status.idle": "2021-09-12T18:17:28.138412Z",
     "shell.execute_reply": "2021-09-12T18:17:28.137724Z",
     "shell.execute_reply.started": "2021-09-12T18:17:28.134420Z"
    }
   },
   "outputs": [],
   "source": [
    "features = [\"hour_of_day_tr_Evening\", \"temp\", \"hour_of_day_tr_Night\",\"hour_of_day_tr_Early_Morning\", \"hum\", \"workingday\", \"windspeed\"]"
   ]
  },
  {
   "cell_type": "code",
   "execution_count": 51,
   "metadata": {
    "execution": {
     "iopub.execute_input": "2021-09-12T18:17:28.140050Z",
     "iopub.status.busy": "2021-09-12T18:17:28.139572Z",
     "iopub.status.idle": "2021-09-12T18:17:28.154414Z",
     "shell.execute_reply": "2021-09-12T18:17:28.153671Z",
     "shell.execute_reply.started": "2021-09-12T18:17:28.140018Z"
    }
   },
   "outputs": [],
   "source": [
    "X_sel = .drop('cnt')"
   ]
  },
  {
   "cell_type": "code",
   "execution_count": 22,
   "metadata": {
    "execution": {
     "iopub.execute_input": "2021-09-12T18:17:28.156082Z",
     "iopub.status.busy": "2021-09-12T18:17:28.155605Z",
     "iopub.status.idle": "2021-09-12T18:17:28.171257Z",
     "shell.execute_reply": "2021-09-12T18:17:28.170503Z",
     "shell.execute_reply.started": "2021-09-12T18:17:28.156051Z"
    }
   },
   "outputs": [],
   "source": [
    "X_train, X_val, y_train, y_val = train_test_split(X, y, test_size = 0.2, random_state = 23)"
   ]
  },
  {
   "cell_type": "code",
   "execution_count": 51,
   "metadata": {
    "execution": {
     "iopub.execute_input": "2021-09-12T18:17:28.172714Z",
     "iopub.status.busy": "2021-09-12T18:17:28.172277Z",
     "iopub.status.idle": "2021-09-12T18:17:28.225189Z",
     "shell.execute_reply": "2021-09-12T18:17:28.224155Z",
     "shell.execute_reply.started": "2021-09-12T18:17:28.172681Z"
    }
   },
   "outputs": [
    {
     "data": {
      "text/plain": [
       "(array([  86.26718963,    4.50545171,  -20.41569111,   12.88172024,\n",
       "          68.22519257,  212.92995259,  -83.98024391,   -1.1121248 ,\n",
       "          -7.53397087,   25.53454931,  -12.73685623,  -30.3000646 ,\n",
       "          17.50237152,   34.61509689,  -96.60090099,  138.99486175,\n",
       "          40.8193282 , -117.82838585]),\n",
       " 24.771699077877173)"
      ]
     },
     "execution_count": 51,
     "metadata": {},
     "output_type": "execute_result"
    }
   ],
   "source": [
    "# Linear Regressor\n",
    "from sklearn.linear_model import LinearRegression\n",
    "lr = LinearRegression()\n",
    "lr.fit(X_train, y_train)\n",
    "lr.coef_, lr.intercept_"
   ]
  },
  {
   "cell_type": "code",
   "execution_count": 52,
   "metadata": {
    "execution": {
     "iopub.execute_input": "2021-09-12T18:17:28.227240Z",
     "iopub.status.busy": "2021-09-12T18:17:28.226642Z",
     "iopub.status.idle": "2021-09-12T18:17:28.243113Z",
     "shell.execute_reply": "2021-09-12T18:17:28.241503Z",
     "shell.execute_reply.started": "2021-09-12T18:17:28.227190Z"
    }
   },
   "outputs": [
    {
     "name": "stdout",
     "output_type": "stream",
     "text": [
      "Training error : 122.595\n"
     ]
    }
   ],
   "source": [
    "y_train_pred = lr.predict(X_train)\n",
    "from sklearn.metrics import mean_squared_error\n",
    "err = np.sqrt(mean_squared_error(y_train_pred, y_train))\n",
    "print(\"Training error : %.3f\" %(err))"
   ]
  },
  {
   "cell_type": "code",
   "execution_count": 25,
   "metadata": {
    "execution": {
     "iopub.execute_input": "2021-09-12T18:17:28.247253Z",
     "iopub.status.busy": "2021-09-12T18:17:28.245675Z",
     "iopub.status.idle": "2021-09-12T18:17:28.695144Z",
     "shell.execute_reply": "2021-09-12T18:17:28.694414Z",
     "shell.execute_reply.started": "2021-09-12T18:17:28.247198Z"
    }
   },
   "outputs": [
    {
     "data": {
      "image/png": "[encoded data removed]",
      "text/plain": [
       "<Figure size 360x360 with 1 Axes>"
      ]
     },
     "metadata": {
      "needs_background": "light"
     },
     "output_type": "display_data"
    }
   ],
   "source": [
    "sns.displot((y_train - y_train_pred))\n",
    "plt.show()"
   ]
  },
  {
   "cell_type": "markdown",
   "metadata": {},
   "source": [
    "The errors or residuals are normally distributed"
   ]
  },
  {
   "cell_type": "code",
   "execution_count": 56,
   "metadata": {
    "execution": {
     "iopub.execute_input": "2021-09-12T18:17:28.697146Z",
     "iopub.status.busy": "2021-09-12T18:17:28.696546Z",
     "iopub.status.idle": "2021-09-12T18:17:28.872894Z",
     "shell.execute_reply": "2021-09-12T18:17:28.871857Z",
     "shell.execute_reply.started": "2021-09-12T18:17:28.697098Z"
    }
   },
   "outputs": [
    {
     "data": {
      "image/png": "[encoded data removed]",
      "text/plain": [
       "<Figure size 432x288 with 1 Axes>"
      ]
     },
     "metadata": {
      "needs_background": "light"
     },
     "output_type": "display_data"
    }
   ],
   "source": [
    "sns.scatterplot(x = y_train_pred, y =  y_train)\n",
    "plt.show()"
   ]
  },
  {
   "cell_type": "code",
   "execution_count": 57,
   "metadata": {
    "execution": {
     "iopub.execute_input": "2021-09-12T18:17:28.875017Z",
     "iopub.status.busy": "2021-09-12T18:17:28.874378Z",
     "iopub.status.idle": "2021-09-12T18:17:28.886657Z",
     "shell.execute_reply": "2021-09-12T18:17:28.885560Z",
     "shell.execute_reply.started": "2021-09-12T18:17:28.874965Z"
    }
   },
   "outputs": [
    {
     "name": "stdout",
     "output_type": "stream",
     "text": [
      "Validation error : 113.472\n"
     ]
    }
   ],
   "source": [
    "# lets us check the error in Validation set\n",
    "y_val_pred_lr = lr.predict(X_val)\n",
    "err = np.sqrt(mean_squared_error(y_val, y_val_pred_lr))\n",
    "print(\"Validation error : %.3f\" %(err))"
   ]
  },
  {
   "cell_type": "code",
   "execution_count": 58,
   "metadata": {
    "execution": {
     "iopub.execute_input": "2021-09-12T18:17:28.889202Z",
     "iopub.status.busy": "2021-09-12T18:17:28.888415Z",
     "iopub.status.idle": "2021-09-12T18:17:29.308075Z",
     "shell.execute_reply": "2021-09-12T18:17:29.307248Z",
     "shell.execute_reply.started": "2021-09-12T18:17:28.889149Z"
    }
   },
   "outputs": [
    {
     "data": {
      "image/png": "[encoded data removed]",
      "text/plain": [
       "<Figure size 360x360 with 1 Axes>"
      ]
     },
     "metadata": {
      "needs_background": "light"
     },
     "output_type": "display_data"
    }
   ],
   "source": [
    "sns.displot((y_val - y_val_pred_lr))\n",
    "plt.show()"
   ]
  },
  {
   "cell_type": "code",
   "execution_count": 59,
   "metadata": {
    "execution": {
     "iopub.execute_input": "2021-09-12T18:17:29.309678Z",
     "iopub.status.busy": "2021-09-12T18:17:29.309220Z",
     "iopub.status.idle": "2021-09-12T18:17:29.459365Z",
     "shell.execute_reply": "2021-09-12T18:17:29.458695Z",
     "shell.execute_reply.started": "2021-09-12T18:17:29.309646Z"
    }
   },
   "outputs": [
    {
     "data": {
      "image/png": "[encoded data removed]",
      "text/plain": [
       "<Figure size 432x288 with 1 Axes>"
      ]
     },
     "metadata": {
      "needs_background": "light"
     },
     "output_type": "display_data"
    }
   ],
   "source": [
    "sns.scatterplot(x = y_val_pred_lr, y =  y_val)\n",
    "plt.show()"
   ]
  },
  {
   "cell_type": "markdown",
   "metadata": {},
   "source": [
    "The Linear regression scores does not vary much between training and validation set. Lets explore other models "
   ]
  },
  {
   "cell_type": "code",
   "execution_count": 60,
   "metadata": {
    "execution": {
     "iopub.execute_input": "2021-09-12T18:17:29.460951Z",
     "iopub.status.busy": "2021-09-12T18:17:29.460469Z",
     "iopub.status.idle": "2021-09-12T18:17:31.899133Z",
     "shell.execute_reply": "2021-09-12T18:17:31.898039Z",
     "shell.execute_reply.started": "2021-09-12T18:17:29.460919Z"
    }
   },
   "outputs": [
    {
     "name": "stdout",
     "output_type": "stream",
     "text": [
      "Training error : 119.546\n"
     ]
    }
   ],
   "source": [
    "## Random Forest Regressor\n",
    "\n",
    "from sklearn.ensemble import RandomForestRegressor\n",
    "rf = RandomForestRegressor(max_depth=4, min_samples_split=3, n_estimators=10)\n",
    "rf.fit(X_train, y_train)\n",
    "\n",
    "y_train_pred_rf = rf.predict(X_train)\n",
    "err = np.sqrt(mean_squared_error(y_train_pred_rf, y_train))\n",
    "print(\"Training error : %.3f\" %(err))"
   ]
  },
  {
   "cell_type": "code",
   "execution_count": 61,
   "metadata": {
    "execution": {
     "iopub.execute_input": "2021-09-12T18:17:31.900798Z",
     "iopub.status.busy": "2021-09-12T18:17:31.900484Z",
     "iopub.status.idle": "2021-09-12T18:17:32.613931Z",
     "shell.execute_reply": "2021-09-12T18:17:32.613149Z",
     "shell.execute_reply.started": "2021-09-12T18:17:31.900768Z"
    }
   },
   "outputs": [
    {
     "data": {
      "image/png": "[encoded data removed]",
      "text/plain": [
       "<Figure size 360x360 with 1 Axes>"
      ]
     },
     "metadata": {
      "needs_background": "light"
     },
     "output_type": "display_data"
    }
   ],
   "source": [
    "sns.displot(y_train - y_train_pred_rf)\n",
    "plt.show()"
   ]
  },
  {
   "cell_type": "code",
   "execution_count": 55,
   "metadata": {
    "execution": {
     "iopub.execute_input": "2021-09-12T18:17:32.615574Z",
     "iopub.status.busy": "2021-09-12T18:17:32.615123Z",
     "iopub.status.idle": "2021-09-12T18:17:32.710852Z",
     "shell.execute_reply": "2021-09-12T18:17:32.710072Z",
     "shell.execute_reply.started": "2021-09-12T18:17:32.615507Z"
    }
   },
   "outputs": [
    {
     "name": "stdout",
     "output_type": "stream",
     "text": [
      "Validation error : 99.337\n"
     ]
    }
   ],
   "source": [
    "y_val_pred_rf = rf.predict(X_val)\n",
    "err = np.sqrt(mean_squared_error(y_val_pred_rf, y_val))\n",
    "print(\"Validation error : %.3f\" %(err))"
   ]
  },
  {
   "cell_type": "markdown",
   "metadata": {},
   "source": [
    "The Random forest is overfitting the data. However, the validation score is still better than the Linear Regression"
   ]
  },
  {
   "cell_type": "code",
   "execution_count": 56,
   "metadata": {
    "execution": {
     "iopub.execute_input": "2021-09-12T18:17:32.712460Z",
     "iopub.status.busy": "2021-09-12T18:17:32.711995Z",
     "iopub.status.idle": "2021-09-12T18:17:32.716200Z",
     "shell.execute_reply": "2021-09-12T18:17:32.715472Z",
     "shell.execute_reply.started": "2021-09-12T18:17:32.712414Z"
    }
   },
   "outputs": [],
   "source": [
    "from sklearn.model_selection import GridSearchCV, RandomizedSearchCV"
   ]
  },
  {
   "cell_type": "code",
   "execution_count": 57,
   "metadata": {
    "execution": {
     "iopub.execute_input": "2021-09-12T18:17:32.717766Z",
     "iopub.status.busy": "2021-09-12T18:17:32.717312Z",
     "iopub.status.idle": "2021-09-12T18:19:38.694356Z",
     "shell.execute_reply": "2021-09-12T18:19:38.693288Z",
     "shell.execute_reply.started": "2021-09-12T18:17:32.717737Z"
    }
   },
   "outputs": [
    {
     "name": "stdout",
     "output_type": "stream",
     "text": [
      "Fitting 5 folds for each of 10 candidates, totalling 50 fits\n"
     ]
    },
    {
     "name": "stderr",
     "output_type": "stream",
     "text": [
      "C:\\ProgramData\\Anaconda3\\lib\\site-packages\\sklearn\\model_selection\\_validation.py:378: FitFailedWarning: \n",
      "20 fits failed out of a total of 50.\n",
      "The score on these train-test partitions for these parameters will be set to nan.\n",
      "If these failures are not expected, you can try to debug them by setting error_score='raise'.\n",
      "\n",
      "Below are more details about the failures:\n",
      "--------------------------------------------------------------------------------\n",
      "5 fits failed with the following error:\n",
      "Traceback (most recent call last):\n",
      "  File \"C:\\ProgramData\\Anaconda3\\lib\\site-packages\\sklearn\\model_selection\\_validation.py\", line 686, in _fit_and_score\n",
      "    estimator.fit(X_train, y_train, **fit_params)\n",
      "  File \"C:\\ProgramData\\Anaconda3\\lib\\site-packages\\sklearn\\ensemble\\_forest.py\", line 476, in fit\n",
      "    trees = Parallel(\n",
      "  File \"C:\\ProgramData\\Anaconda3\\lib\\site-packages\\joblib\\parallel.py\", line 1041, in __call__\n",
      "    if self.dispatch_one_batch(iterator):\n",
      "  File \"C:\\ProgramData\\Anaconda3\\lib\\site-packages\\joblib\\parallel.py\", line 859, in dispatch_one_batch\n",
      "    self._dispatch(tasks)\n",
      "  File \"C:\\ProgramData\\Anaconda3\\lib\\site-packages\\joblib\\parallel.py\", line 777, in _dispatch\n",
      "    job = self._backend.apply_async(batch, callback=cb)\n",
      "  File \"C:\\ProgramData\\Anaconda3\\lib\\site-packages\\joblib\\_parallel_backends.py\", line 208, in apply_async\n",
      "    result = ImmediateResult(func)\n",
      "  File \"C:\\ProgramData\\Anaconda3\\lib\\site-packages\\joblib\\_parallel_backends.py\", line 572, in __init__\n",
      "    self.results = batch()\n",
      "  File \"C:\\ProgramData\\Anaconda3\\lib\\site-packages\\joblib\\parallel.py\", line 262, in __call__\n",
      "    return [func(*args, **kwargs)\n",
      "  File \"C:\\ProgramData\\Anaconda3\\lib\\site-packages\\joblib\\parallel.py\", line 262, in <listcomp>\n",
      "    return [func(*args, **kwargs)\n",
      "  File \"C:\\ProgramData\\Anaconda3\\lib\\site-packages\\sklearn\\utils\\fixes.py\", line 117, in __call__\n",
      "    return self.function(*args, **kwargs)\n",
      "  File \"C:\\ProgramData\\Anaconda3\\lib\\site-packages\\sklearn\\ensemble\\_forest.py\", line 189, in _parallel_build_trees\n",
      "    tree.fit(X, y, sample_weight=curr_sample_weight, check_input=False)\n",
      "  File \"C:\\ProgramData\\Anaconda3\\lib\\site-packages\\sklearn\\tree\\_classes.py\", line 1342, in fit\n",
      "    super().fit(\n",
      "  File \"C:\\ProgramData\\Anaconda3\\lib\\site-packages\\sklearn\\tree\\_classes.py\", line 238, in fit\n",
      "    check_scalar(\n",
      "  File \"C:\\ProgramData\\Anaconda3\\lib\\site-packages\\sklearn\\utils\\validation.py\", line 1480, in check_scalar\n",
      "    raise ValueError(\n",
      "ValueError: max_depth == 0, must be >= 1.\n",
      "\n",
      "--------------------------------------------------------------------------------\n",
      "5 fits failed with the following error:\n",
      "Traceback (most recent call last):\n",
      "  File \"C:\\ProgramData\\Anaconda3\\lib\\site-packages\\sklearn\\model_selection\\_validation.py\", line 686, in _fit_and_score\n",
      "    estimator.fit(X_train, y_train, **fit_params)\n",
      "  File \"C:\\ProgramData\\Anaconda3\\lib\\site-packages\\sklearn\\ensemble\\_forest.py\", line 476, in fit\n",
      "    trees = Parallel(\n",
      "  File \"C:\\ProgramData\\Anaconda3\\lib\\site-packages\\joblib\\parallel.py\", line 1041, in __call__\n",
      "    if self.dispatch_one_batch(iterator):\n",
      "  File \"C:\\ProgramData\\Anaconda3\\lib\\site-packages\\joblib\\parallel.py\", line 859, in dispatch_one_batch\n",
      "    self._dispatch(tasks)\n",
      "  File \"C:\\ProgramData\\Anaconda3\\lib\\site-packages\\joblib\\parallel.py\", line 777, in _dispatch\n",
      "    job = self._backend.apply_async(batch, callback=cb)\n",
      "  File \"C:\\ProgramData\\Anaconda3\\lib\\site-packages\\joblib\\_parallel_backends.py\", line 208, in apply_async\n",
      "    result = ImmediateResult(func)\n",
      "  File \"C:\\ProgramData\\Anaconda3\\lib\\site-packages\\joblib\\_parallel_backends.py\", line 572, in __init__\n",
      "    self.results = batch()\n",
      "  File \"C:\\ProgramData\\Anaconda3\\lib\\site-packages\\joblib\\parallel.py\", line 262, in __call__\n",
      "    return [func(*args, **kwargs)\n",
      "  File \"C:\\ProgramData\\Anaconda3\\lib\\site-packages\\joblib\\parallel.py\", line 262, in <listcomp>\n",
      "    return [func(*args, **kwargs)\n",
      "  File \"C:\\ProgramData\\Anaconda3\\lib\\site-packages\\sklearn\\utils\\fixes.py\", line 117, in __call__\n",
      "    return self.function(*args, **kwargs)\n",
      "  File \"C:\\ProgramData\\Anaconda3\\lib\\site-packages\\sklearn\\ensemble\\_forest.py\", line 189, in _parallel_build_trees\n",
      "    tree.fit(X, y, sample_weight=curr_sample_weight, check_input=False)\n",
      "  File \"C:\\ProgramData\\Anaconda3\\lib\\site-packages\\sklearn\\tree\\_classes.py\", line 1342, in fit\n",
      "    super().fit(\n",
      "  File \"C:\\ProgramData\\Anaconda3\\lib\\site-packages\\sklearn\\tree\\_classes.py\", line 265, in fit\n",
      "    check_scalar(\n",
      "  File \"C:\\ProgramData\\Anaconda3\\lib\\site-packages\\sklearn\\utils\\validation.py\", line 1480, in check_scalar\n",
      "    raise ValueError(\n",
      "ValueError: min_samples_split == 1, must be >= 2.\n",
      "\n",
      "--------------------------------------------------------------------------------\n",
      "5 fits failed with the following error:\n",
      "Traceback (most recent call last):\n",
      "  File \"C:\\ProgramData\\Anaconda3\\lib\\site-packages\\sklearn\\model_selection\\_validation.py\", line 686, in _fit_and_score\n",
      "    estimator.fit(X_train, y_train, **fit_params)\n",
      "  File \"C:\\ProgramData\\Anaconda3\\lib\\site-packages\\sklearn\\ensemble\\_forest.py\", line 476, in fit\n",
      "    trees = Parallel(\n",
      "  File \"C:\\ProgramData\\Anaconda3\\lib\\site-packages\\joblib\\parallel.py\", line 1041, in __call__\n",
      "    if self.dispatch_one_batch(iterator):\n",
      "  File \"C:\\ProgramData\\Anaconda3\\lib\\site-packages\\joblib\\parallel.py\", line 859, in dispatch_one_batch\n",
      "    self._dispatch(tasks)\n",
      "  File \"C:\\ProgramData\\Anaconda3\\lib\\site-packages\\joblib\\parallel.py\", line 777, in _dispatch\n",
      "    job = self._backend.apply_async(batch, callback=cb)\n",
      "  File \"C:\\ProgramData\\Anaconda3\\lib\\site-packages\\joblib\\_parallel_backends.py\", line 208, in apply_async\n",
      "    result = ImmediateResult(func)\n",
      "  File \"C:\\ProgramData\\Anaconda3\\lib\\site-packages\\joblib\\_parallel_backends.py\", line 572, in __init__\n",
      "    self.results = batch()\n",
      "  File \"C:\\ProgramData\\Anaconda3\\lib\\site-packages\\joblib\\parallel.py\", line 262, in __call__\n",
      "    return [func(*args, **kwargs)\n",
      "  File \"C:\\ProgramData\\Anaconda3\\lib\\site-packages\\joblib\\parallel.py\", line 262, in <listcomp>\n",
      "    return [func(*args, **kwargs)\n",
      "  File \"C:\\ProgramData\\Anaconda3\\lib\\site-packages\\sklearn\\utils\\fixes.py\", line 117, in __call__\n",
      "    return self.function(*args, **kwargs)\n",
      "  File \"C:\\ProgramData\\Anaconda3\\lib\\site-packages\\sklearn\\ensemble\\_forest.py\", line 189, in _parallel_build_trees\n",
      "    tree.fit(X, y, sample_weight=curr_sample_weight, check_input=False)\n",
      "  File \"C:\\ProgramData\\Anaconda3\\lib\\site-packages\\sklearn\\tree\\_classes.py\", line 1342, in fit\n",
      "    super().fit(\n",
      "  File \"C:\\ProgramData\\Anaconda3\\lib\\site-packages\\sklearn\\tree\\_classes.py\", line 265, in fit\n",
      "    check_scalar(\n",
      "  File \"C:\\ProgramData\\Anaconda3\\lib\\site-packages\\sklearn\\utils\\validation.py\", line 1480, in check_scalar\n",
      "    raise ValueError(\n",
      "ValueError: min_samples_split == 0, must be >= 2.\n",
      "\n",
      "--------------------------------------------------------------------------------\n",
      "5 fits failed with the following error:\n",
      "Traceback (most recent call last):\n",
      "  File \"C:\\ProgramData\\Anaconda3\\lib\\site-packages\\sklearn\\model_selection\\_validation.py\", line 686, in _fit_and_score\n",
      "    estimator.fit(X_train, y_train, **fit_params)\n",
      "  File \"C:\\ProgramData\\Anaconda3\\lib\\site-packages\\sklearn\\ensemble\\_forest.py\", line 476, in fit\n",
      "    trees = Parallel(\n",
      "  File \"C:\\ProgramData\\Anaconda3\\lib\\site-packages\\joblib\\parallel.py\", line 1041, in __call__\n",
      "    if self.dispatch_one_batch(iterator):\n",
      "  File \"C:\\ProgramData\\Anaconda3\\lib\\site-packages\\joblib\\parallel.py\", line 859, in dispatch_one_batch\n",
      "    self._dispatch(tasks)\n",
      "  File \"C:\\ProgramData\\Anaconda3\\lib\\site-packages\\joblib\\parallel.py\", line 777, in _dispatch\n",
      "    job = self._backend.apply_async(batch, callback=cb)\n",
      "  File \"C:\\ProgramData\\Anaconda3\\lib\\site-packages\\joblib\\_parallel_backends.py\", line 208, in apply_async\n",
      "    result = ImmediateResult(func)\n",
      "  File \"C:\\ProgramData\\Anaconda3\\lib\\site-packages\\joblib\\_parallel_backends.py\", line 572, in __init__\n",
      "    self.results = batch()\n",
      "  File \"C:\\ProgramData\\Anaconda3\\lib\\site-packages\\joblib\\parallel.py\", line 262, in __call__\n",
      "    return [func(*args, **kwargs)\n",
      "  File \"C:\\ProgramData\\Anaconda3\\lib\\site-packages\\joblib\\parallel.py\", line 262, in <listcomp>\n",
      "    return [func(*args, **kwargs)\n",
      "  File \"C:\\ProgramData\\Anaconda3\\lib\\site-packages\\sklearn\\utils\\fixes.py\", line 117, in __call__\n",
      "    return self.function(*args, **kwargs)\n",
      "  File \"C:\\ProgramData\\Anaconda3\\lib\\site-packages\\sklearn\\ensemble\\_forest.py\", line 191, in _parallel_build_trees\n",
      "    tree.fit(X, y, sample_weight=sample_weight, check_input=False)\n",
      "  File \"C:\\ProgramData\\Anaconda3\\lib\\site-packages\\sklearn\\tree\\_classes.py\", line 1342, in fit\n",
      "    super().fit(\n",
      "  File \"C:\\ProgramData\\Anaconda3\\lib\\site-packages\\sklearn\\tree\\_classes.py\", line 238, in fit\n",
      "    check_scalar(\n",
      "  File \"C:\\ProgramData\\Anaconda3\\lib\\site-packages\\sklearn\\utils\\validation.py\", line 1480, in check_scalar\n",
      "    raise ValueError(\n",
      "ValueError: max_depth == 0, must be >= 1.\n",
      "\n",
      "  warnings.warn(some_fits_failed_message, FitFailedWarning)\n",
      "C:\\ProgramData\\Anaconda3\\lib\\site-packages\\sklearn\\model_selection\\_search.py:953: UserWarning: One or more of the test scores are non-finite: [-16716.13968761             nan -21990.5604279              nan\n",
      " -27413.26347878 -15655.01163161             nan             nan\n",
      " -14357.49846833 -15655.01163161]\n",
      "  warnings.warn(\n"
     ]
    },
    {
     "data": {
      "text/html": [
       "<style>#sk-container-id-2 {color: black;background-color: white;}#sk-container-id-2 pre{padding: 0;}#sk-container-id-2 div.sk-toggleable {background-color: white;}#sk-container-id-2 label.sk-toggleable__label {cursor: pointer;display: block;width: 100%;margin-bottom: 0;padding: 0.3em;box-sizing: border-box;text-align: center;}#sk-container-id-2 label.sk-toggleable__label-arrow:before {content: \"▸\";float: left;margin-right: 0.25em;color: #696969;}#sk-container-id-2 label.sk-toggleable__label-arrow:hover:before {color: black;}#sk-container-id-2 div.sk-estimator:hover label.sk-toggleable__label-arrow:before {color: black;}#sk-container-id-2 div.sk-toggleable__content {max-height: 0;max-width: 0;overflow: hidden;text-align: left;background-color: #f0f8ff;}#sk-container-id-2 div.sk-toggleable__content pre {margin: 0.2em;color: black;border-radius: 0.25em;background-color: #f0f8ff;}#sk-container-id-2 input.sk-toggleable__control:checked~div.sk-toggleable__content {max-height: 200px;max-width: 100%;overflow: auto;}#sk-container-id-2 input.sk-toggleable__control:checked~label.sk-toggleable__label-arrow:before {content: \"▾\";}#sk-container-id-2 div.sk-estimator input.sk-toggleable__control:checked~label.sk-toggleable__label {background-color: #d4ebff;}#sk-container-id-2 div.sk-label input.sk-toggleable__control:checked~label.sk-toggleable__label {background-color: #d4ebff;}#sk-container-id-2 input.sk-hidden--visually {border: 0;clip: rect(1px 1px 1px 1px);clip: rect(1px, 1px, 1px, 1px);height: 1px;margin: -1px;overflow: hidden;padding: 0;position: absolute;width: 1px;}#sk-container-id-2 div.sk-estimator {font-family: monospace;background-color: #f0f8ff;border: 1px dotted black;border-radius: 0.25em;box-sizing: border-box;margin-bottom: 0.5em;}#sk-container-id-2 div.sk-estimator:hover {background-color: #d4ebff;}#sk-container-id-2 div.sk-parallel-item::after {content: \"\";width: 100%;border-bottom: 1px solid gray;flex-grow: 1;}#sk-container-id-2 div.sk-label:hover label.sk-toggleable__label {background-color: #d4ebff;}#sk-container-id-2 div.sk-serial::before {content: \"\";position: absolute;border-left: 1px solid gray;box-sizing: border-box;top: 0;bottom: 0;left: 50%;z-index: 0;}#sk-container-id-2 div.sk-serial {display: flex;flex-direction: column;align-items: center;background-color: white;padding-right: 0.2em;padding-left: 0.2em;position: relative;}#sk-container-id-2 div.sk-item {position: relative;z-index: 1;}#sk-container-id-2 div.sk-parallel {display: flex;align-items: stretch;justify-content: center;background-color: white;position: relative;}#sk-container-id-2 div.sk-item::before, #sk-container-id-2 div.sk-parallel-item::before {content: \"\";position: absolute;border-left: 1px solid gray;box-sizing: border-box;top: 0;bottom: 0;left: 50%;z-index: -1;}#sk-container-id-2 div.sk-parallel-item {display: flex;flex-direction: column;z-index: 1;position: relative;background-color: white;}#sk-container-id-2 div.sk-parallel-item:first-child::after {align-self: flex-end;width: 50%;}#sk-container-id-2 div.sk-parallel-item:last-child::after {align-self: flex-start;width: 50%;}#sk-container-id-2 div.sk-parallel-item:only-child::after {width: 0;}#sk-container-id-2 div.sk-dashed-wrapped {border: 1px dashed gray;margin: 0 0.4em 0.5em 0.4em;box-sizing: border-box;padding-bottom: 0.4em;background-color: white;}#sk-container-id-2 div.sk-label label {font-family: monospace;font-weight: bold;display: inline-block;line-height: 1.2em;}#sk-container-id-2 div.sk-label-container {text-align: center;}#sk-container-id-2 div.sk-container {/* jupyter's `normalize.less` sets `[hidden] { display: none; }` but bootstrap.min.css set `[hidden] { display: none !important; }` so we also need the `!important` here to be able to override the default hidden behavior on the sphinx rendered scikit-learn.org. See: https://github.com/scikit-learn/scikit-learn/issues/21755 */display: inline-block !important;position: relative;}#sk-container-id-2 div.sk-text-repr-fallback {display: none;}</style><div id=\"sk-container-id-2\" class=\"sk-top-container\"><div class=\"sk-text-repr-fallback\"><pre>RandomizedSearchCV(cv=5, estimator=RandomForestRegressor(), n_jobs=-1,\n",
       "                   param_distributions=[{&#x27;bootstrap&#x27;: [True, False],\n",
       "                                         &#x27;max_depth&#x27;: range(0, 5),\n",
       "                                         &#x27;min_samples_split&#x27;: range(0, 5),\n",
       "                                         &#x27;n_estimators&#x27;: range(10, 20, 50)}],\n",
       "                   scoring=&#x27;neg_mean_squared_error&#x27;, verbose=2)</pre><b>In a Jupyter environment, please rerun this cell to show the HTML representation or trust the notebook. <br />On GitHub, the HTML representation is unable to render, please try loading this page with nbviewer.org.</b></div><div class=\"sk-container\" hidden><div class=\"sk-item sk-dashed-wrapped\"><div class=\"sk-label-container\"><div class=\"sk-label sk-toggleable\"><input class=\"sk-toggleable__control sk-hidden--visually\" id=\"sk-estimator-id-4\" type=\"checkbox\" ><label for=\"sk-estimator-id-4\" class=\"sk-toggleable__label sk-toggleable__label-arrow\">RandomizedSearchCV</label><div class=\"sk-toggleable__content\"><pre>RandomizedSearchCV(cv=5, estimator=RandomForestRegressor(), n_jobs=-1,\n",
       "                   param_distributions=[{&#x27;bootstrap&#x27;: [True, False],\n",
       "                                         &#x27;max_depth&#x27;: range(0, 5),\n",
       "                                         &#x27;min_samples_split&#x27;: range(0, 5),\n",
       "                                         &#x27;n_estimators&#x27;: range(10, 20, 50)}],\n",
       "                   scoring=&#x27;neg_mean_squared_error&#x27;, verbose=2)</pre></div></div></div><div class=\"sk-parallel\"><div class=\"sk-parallel-item\"><div class=\"sk-item\"><div class=\"sk-label-container\"><div class=\"sk-label sk-toggleable\"><input class=\"sk-toggleable__control sk-hidden--visually\" id=\"sk-estimator-id-5\" type=\"checkbox\" ><label for=\"sk-estimator-id-5\" class=\"sk-toggleable__label sk-toggleable__label-arrow\">estimator: RandomForestRegressor</label><div class=\"sk-toggleable__content\"><pre>RandomForestRegressor()</pre></div></div></div><div class=\"sk-serial\"><div class=\"sk-item\"><div class=\"sk-estimator sk-toggleable\"><input class=\"sk-toggleable__control sk-hidden--visually\" id=\"sk-estimator-id-6\" type=\"checkbox\" ><label for=\"sk-estimator-id-6\" class=\"sk-toggleable__label sk-toggleable__label-arrow\">RandomForestRegressor</label><div class=\"sk-toggleable__content\"><pre>RandomForestRegressor()</pre></div></div></div></div></div></div></div></div></div></div>"
      ],
      "text/plain": [
       "RandomizedSearchCV(cv=5, estimator=RandomForestRegressor(), n_jobs=-1,\n",
       "                   param_distributions=[{'bootstrap': [True, False],\n",
       "                                         'max_depth': range(0, 5),\n",
       "                                         'min_samples_split': range(0, 5),\n",
       "                                         'n_estimators': range(10, 20, 50)}],\n",
       "                   scoring='neg_mean_squared_error', verbose=2)"
      ]
     },
     "execution_count": 57,
     "metadata": {},
     "output_type": "execute_result"
    }
   ],
   "source": [
    "# Tuning Random Forest\n",
    "rf.get_params()\n",
    "\n",
    "param_grid = [{\"max_depth\": range(5),\n",
    "               \"min_samples_split\": range(0,5),\n",
    "               \"n_estimators\": range(10,20,50),\n",
    "              \"bootstrap\": [True, False]}]\n",
    "\n",
    "rSearch = RandomizedSearchCV(rf, param_grid, cv = 5, scoring = 'neg_mean_squared_error', n_jobs =-1, verbose = 2)\n",
    "rSearch.fit(X_train, y_train)"
   ]
  },
  {
   "cell_type": "code",
   "execution_count": 58,
   "metadata": {
    "execution": {
     "iopub.execute_input": "2021-09-12T18:19:38.696245Z",
     "iopub.status.busy": "2021-09-12T18:19:38.695937Z",
     "iopub.status.idle": "2021-09-12T18:19:38.704528Z",
     "shell.execute_reply": "2021-09-12T18:19:38.702457Z",
     "shell.execute_reply.started": "2021-09-12T18:19:38.696212Z"
    }
   },
   "outputs": [
    {
     "name": "stdout",
     "output_type": "stream",
     "text": [
      "{'n_estimators': 10, 'min_samples_split': 2, 'max_depth': 3, 'bootstrap': True} 129.29091107889096\n",
      "{'n_estimators': 10, 'min_samples_split': 2, 'max_depth': 0, 'bootstrap': True} nan\n",
      "{'n_estimators': 10, 'min_samples_split': 4, 'max_depth': 2, 'bootstrap': False} 148.2921455367607\n",
      "{'n_estimators': 10, 'min_samples_split': 1, 'max_depth': 2, 'bootstrap': True} nan\n",
      "{'n_estimators': 10, 'min_samples_split': 4, 'max_depth': 1, 'bootstrap': False} 165.5695125280699\n",
      "{'n_estimators': 10, 'min_samples_split': 2, 'max_depth': 4, 'bootstrap': False} 125.11998893707924\n",
      "{'n_estimators': 10, 'min_samples_split': 0, 'max_depth': 1, 'bootstrap': True} nan\n",
      "{'n_estimators': 10, 'min_samples_split': 1, 'max_depth': 0, 'bootstrap': False} nan\n",
      "{'n_estimators': 10, 'min_samples_split': 3, 'max_depth': 4, 'bootstrap': True} 119.82277942164772\n",
      "{'n_estimators': 10, 'min_samples_split': 3, 'max_depth': 4, 'bootstrap': False} 125.11998893707924\n"
     ]
    }
   ],
   "source": [
    "for param,result in zip(rSearch.cv_results_[\"params\"], rSearch.cv_results_[\"mean_test_score\"]):\n",
    "    print(param, np.sqrt(-result))"
   ]
  },
  {
   "cell_type": "code",
   "execution_count": 59,
   "metadata": {
    "execution": {
     "iopub.execute_input": "2021-09-12T18:19:38.706349Z",
     "iopub.status.busy": "2021-09-12T18:19:38.706013Z",
     "iopub.status.idle": "2021-09-12T18:19:38.720366Z",
     "shell.execute_reply": "2021-09-12T18:19:38.719184Z",
     "shell.execute_reply.started": "2021-09-12T18:19:38.706318Z"
    }
   },
   "outputs": [
    {
     "data": {
      "text/plain": [
       "(RandomForestRegressor(max_depth=4, min_samples_split=3, n_estimators=10),\n",
       " 119.82277942164772)"
      ]
     },
     "execution_count": 59,
     "metadata": {},
     "output_type": "execute_result"
    }
   ],
   "source": [
    "rSearch.best_estimator_, np.sqrt(-rSearch.best_score_)"
   ]
  },
  {
   "cell_type": "code",
   "execution_count": 61,
   "metadata": {
    "execution": {
     "iopub.execute_input": "2021-09-12T18:19:38.722318Z",
     "iopub.status.busy": "2021-09-12T18:19:38.721934Z",
     "iopub.status.idle": "2021-09-12T18:19:44.588445Z",
     "shell.execute_reply": "2021-09-12T18:19:44.587470Z",
     "shell.execute_reply.started": "2021-09-12T18:19:38.722285Z"
    }
   },
   "outputs": [
    {
     "name": "stdout",
     "output_type": "stream",
     "text": [
      "Training Error after tuning :  117.462\n"
     ]
    }
   ],
   "source": [
    "final_model = rSearch.best_estimator_\n",
    "final_model.fit(X_train, y_train)\n",
    "\n",
    "y_train_pred = final_model.predict(X_train)\n",
    "tr_err = np.sqrt(mean_squared_error(y_train, y_train_pred))\n",
    "print(\"Training Error after tuning :  %.3f\" %(tr_err))"
   ]
  },
  {
   "cell_type": "code",
   "execution_count": 62,
   "metadata": {
    "execution": {
     "iopub.execute_input": "2021-09-12T18:19:44.595621Z",
     "iopub.status.busy": "2021-09-12T18:19:44.595251Z",
     "iopub.status.idle": "2021-09-12T18:19:44.764546Z",
     "shell.execute_reply": "2021-09-12T18:19:44.763509Z",
     "shell.execute_reply.started": "2021-09-12T18:19:44.595588Z"
    }
   },
   "outputs": [
    {
     "name": "stdout",
     "output_type": "stream",
     "text": [
      "Validation Error after tuning:  118.791\n"
     ]
    }
   ],
   "source": [
    "y_val_pred_rf = final_model.predict(X_val)\n",
    "val_err = np.sqrt(mean_squared_error(y_val, y_val_pred_rf))\n",
    "print(\"Validation Error after tuning:  %.3f\" %(val_err))"
   ]
  },
  {
   "cell_type": "code",
   "execution_count": 69,
   "metadata": {
    "execution": {
     "iopub.execute_input": "2021-09-12T18:19:44.766226Z",
     "iopub.status.busy": "2021-09-12T18:19:44.765952Z",
     "iopub.status.idle": "2021-09-12T18:19:44.789308Z",
     "shell.execute_reply": "2021-09-12T18:19:44.788319Z",
     "shell.execute_reply.started": "2021-09-12T18:19:44.766199Z"
    }
   },
   "outputs": [
    {
     "data": {
      "text/html": [
       "<div>\n",
       "<style scoped>\n",
       "    .dataframe tbody tr th:only-of-type {\n",
       "        vertical-align: middle;\n",
       "    }\n",
       "\n",
       "    .dataframe tbody tr th {\n",
       "        vertical-align: top;\n",
       "    }\n",
       "\n",
       "    .dataframe thead th {\n",
       "        text-align: right;\n",
       "    }\n",
       "</style>\n",
       "<table border=\"1\" class=\"dataframe\">\n",
       "  <thead>\n",
       "    <tr style=\"text-align: right;\">\n",
       "      <th></th>\n",
       "      <th>instant</th>\n",
       "      <th>dteday</th>\n",
       "      <th>season</th>\n",
       "      <th>yr</th>\n",
       "      <th>mnth</th>\n",
       "      <th>hr</th>\n",
       "      <th>holiday</th>\n",
       "      <th>weekday</th>\n",
       "      <th>workingday</th>\n",
       "      <th>weathersit</th>\n",
       "      <th>temp</th>\n",
       "      <th>atemp</th>\n",
       "      <th>hum</th>\n",
       "      <th>windspeed</th>\n",
       "      <th>casual</th>\n",
       "      <th>registered</th>\n",
       "      <th>cnt</th>\n",
       "    </tr>\n",
       "  </thead>\n",
       "  <tbody>\n",
       "    <tr>\n",
       "      <th>16265</th>\n",
       "      <td>16266</td>\n",
       "      <td>2012-11-15</td>\n",
       "      <td>4</td>\n",
       "      <td>1</td>\n",
       "      <td>11</td>\n",
       "      <td>11</td>\n",
       "      <td>0</td>\n",
       "      <td>4</td>\n",
       "      <td>1</td>\n",
       "      <td>2</td>\n",
       "      <td>0.34</td>\n",
       "      <td>0.3333</td>\n",
       "      <td>0.61</td>\n",
       "      <td>0.1343</td>\n",
       "      <td>28</td>\n",
       "      <td>138</td>\n",
       "      <td>166</td>\n",
       "    </tr>\n",
       "    <tr>\n",
       "      <th>10164</th>\n",
       "      <td>10165</td>\n",
       "      <td>2012-03-04</td>\n",
       "      <td>1</td>\n",
       "      <td>1</td>\n",
       "      <td>3</td>\n",
       "      <td>14</td>\n",
       "      <td>0</td>\n",
       "      <td>0</td>\n",
       "      <td>0</td>\n",
       "      <td>1</td>\n",
       "      <td>0.36</td>\n",
       "      <td>0.3333</td>\n",
       "      <td>0.34</td>\n",
       "      <td>0.3582</td>\n",
       "      <td>106</td>\n",
       "      <td>226</td>\n",
       "      <td>332</td>\n",
       "    </tr>\n",
       "    <tr>\n",
       "      <th>7894</th>\n",
       "      <td>7895</td>\n",
       "      <td>2011-11-30</td>\n",
       "      <td>4</td>\n",
       "      <td>0</td>\n",
       "      <td>11</td>\n",
       "      <td>14</td>\n",
       "      <td>0</td>\n",
       "      <td>3</td>\n",
       "      <td>1</td>\n",
       "      <td>2</td>\n",
       "      <td>0.38</td>\n",
       "      <td>0.3939</td>\n",
       "      <td>0.43</td>\n",
       "      <td>0.3582</td>\n",
       "      <td>13</td>\n",
       "      <td>99</td>\n",
       "      <td>112</td>\n",
       "    </tr>\n",
       "    <tr>\n",
       "      <th>2299</th>\n",
       "      <td>2300</td>\n",
       "      <td>2011-04-10</td>\n",
       "      <td>2</td>\n",
       "      <td>0</td>\n",
       "      <td>4</td>\n",
       "      <td>16</td>\n",
       "      <td>0</td>\n",
       "      <td>0</td>\n",
       "      <td>0</td>\n",
       "      <td>2</td>\n",
       "      <td>0.52</td>\n",
       "      <td>0.5000</td>\n",
       "      <td>0.72</td>\n",
       "      <td>0.1642</td>\n",
       "      <td>135</td>\n",
       "      <td>153</td>\n",
       "      <td>288</td>\n",
       "    </tr>\n",
       "    <tr>\n",
       "      <th>13553</th>\n",
       "      <td>13554</td>\n",
       "      <td>2012-07-23</td>\n",
       "      <td>3</td>\n",
       "      <td>1</td>\n",
       "      <td>7</td>\n",
       "      <td>22</td>\n",
       "      <td>0</td>\n",
       "      <td>1</td>\n",
       "      <td>1</td>\n",
       "      <td>1</td>\n",
       "      <td>0.74</td>\n",
       "      <td>0.6818</td>\n",
       "      <td>0.62</td>\n",
       "      <td>0.1940</td>\n",
       "      <td>40</td>\n",
       "      <td>169</td>\n",
       "      <td>209</td>\n",
       "    </tr>\n",
       "  </tbody>\n",
       "</table>\n",
       "</div>"
      ],
      "text/plain": [
       "       instant      dteday  season  yr  mnth  hr  holiday  weekday  \\\n",
       "16265    16266  2012-11-15       4   1    11  11        0        4   \n",
       "10164    10165  2012-03-04       1   1     3  14        0        0   \n",
       "7894      7895  2011-11-30       4   0    11  14        0        3   \n",
       "2299      2300  2011-04-10       2   0     4  16        0        0   \n",
       "13553    13554  2012-07-23       3   1     7  22        0        1   \n",
       "\n",
       "       workingday  weathersit  temp   atemp   hum  windspeed  casual  \\\n",
       "16265           1           2  0.34  0.3333  0.61     0.1343      28   \n",
       "10164           0           1  0.36  0.3333  0.34     0.3582     106   \n",
       "7894            1           2  0.38  0.3939  0.43     0.3582      13   \n",
       "2299            0           2  0.52  0.5000  0.72     0.1642     135   \n",
       "13553           1           1  0.74  0.6818  0.62     0.1940      40   \n",
       "\n",
       "       registered  cnt  \n",
       "16265         138  166  \n",
       "10164         226  332  \n",
       "7894           99  112  \n",
       "2299          153  288  \n",
       "13553         169  209  "
      ]
     },
     "execution_count": 69,
     "metadata": {},
     "output_type": "execute_result"
    }
   ],
   "source": [
    "# Performance on Test \n",
    "test_hour.head()"
   ]
  },
  {
   "cell_type": "markdown",
   "metadata": {},
   "source": [
    "#### Tranformation of test dataset"
   ]
  },
  {
   "cell_type": "code",
   "execution_count": 70,
   "metadata": {
    "execution": {
     "iopub.execute_input": "2021-09-12T18:19:44.790698Z",
     "iopub.status.busy": "2021-09-12T18:19:44.790382Z",
     "iopub.status.idle": "2021-09-12T18:19:44.821492Z",
     "shell.execute_reply": "2021-09-12T18:19:44.820550Z",
     "shell.execute_reply.started": "2021-09-12T18:19:44.790668Z"
    }
   },
   "outputs": [],
   "source": [
    "test_hour_tr = col_trans.transform(test_hour)\n",
    "test_hour_tr_encoded = pd.get_dummies(test_hour_tr.drop('dteday', axis = 1), drop_first= True)\n",
    "test_hour_fin = test_hour_tr_encoded.drop([\"casual\", \"registered\", \"cnt\",\"atemp\"], axis = 1)\n",
    "y_test = test_hour_tr_encoded[\"registered\"]"
   ]
  },
  {
   "cell_type": "code",
   "execution_count": 71,
   "metadata": {
    "execution": {
     "iopub.execute_input": "2021-09-12T18:19:44.822880Z",
     "iopub.status.busy": "2021-09-12T18:19:44.822605Z",
     "iopub.status.idle": "2021-09-12T18:19:44.839413Z",
     "shell.execute_reply": "2021-09-12T18:19:44.838639Z",
     "shell.execute_reply.started": "2021-09-12T18:19:44.822854Z"
    }
   },
   "outputs": [
    {
     "data": {
      "text/html": [
       "<div>\n",
       "<style scoped>\n",
       "    .dataframe tbody tr th:only-of-type {\n",
       "        vertical-align: middle;\n",
       "    }\n",
       "\n",
       "    .dataframe tbody tr th {\n",
       "        vertical-align: top;\n",
       "    }\n",
       "\n",
       "    .dataframe thead th {\n",
       "        text-align: right;\n",
       "    }\n",
       "</style>\n",
       "<table border=\"1\" class=\"dataframe\">\n",
       "  <thead>\n",
       "    <tr style=\"text-align: right;\">\n",
       "      <th></th>\n",
       "      <th>hour_of_day_tr_Evening</th>\n",
       "      <th>temp</th>\n",
       "      <th>hour_of_day_tr_Night</th>\n",
       "      <th>hour_of_day_tr_Early_Morning</th>\n",
       "      <th>hum</th>\n",
       "      <th>workingday</th>\n",
       "      <th>windspeed</th>\n",
       "    </tr>\n",
       "  </thead>\n",
       "  <tbody>\n",
       "    <tr>\n",
       "      <th>16265</th>\n",
       "      <td>0</td>\n",
       "      <td>0.34</td>\n",
       "      <td>0</td>\n",
       "      <td>0</td>\n",
       "      <td>0.61</td>\n",
       "      <td>1</td>\n",
       "      <td>0.1343</td>\n",
       "    </tr>\n",
       "    <tr>\n",
       "      <th>10164</th>\n",
       "      <td>0</td>\n",
       "      <td>0.36</td>\n",
       "      <td>0</td>\n",
       "      <td>0</td>\n",
       "      <td>0.34</td>\n",
       "      <td>0</td>\n",
       "      <td>0.3582</td>\n",
       "    </tr>\n",
       "    <tr>\n",
       "      <th>7894</th>\n",
       "      <td>0</td>\n",
       "      <td>0.38</td>\n",
       "      <td>0</td>\n",
       "      <td>0</td>\n",
       "      <td>0.43</td>\n",
       "      <td>1</td>\n",
       "      <td>0.3582</td>\n",
       "    </tr>\n",
       "    <tr>\n",
       "      <th>2299</th>\n",
       "      <td>0</td>\n",
       "      <td>0.52</td>\n",
       "      <td>0</td>\n",
       "      <td>0</td>\n",
       "      <td>0.72</td>\n",
       "      <td>0</td>\n",
       "      <td>0.1642</td>\n",
       "    </tr>\n",
       "    <tr>\n",
       "      <th>13553</th>\n",
       "      <td>0</td>\n",
       "      <td>0.74</td>\n",
       "      <td>1</td>\n",
       "      <td>0</td>\n",
       "      <td>0.62</td>\n",
       "      <td>1</td>\n",
       "      <td>0.1940</td>\n",
       "    </tr>\n",
       "  </tbody>\n",
       "</table>\n",
       "</div>"
      ],
      "text/plain": [
       "       hour_of_day_tr_Evening  temp  hour_of_day_tr_Night  \\\n",
       "16265                       0  0.34                     0   \n",
       "10164                       0  0.36                     0   \n",
       "7894                        0  0.38                     0   \n",
       "2299                        0  0.52                     0   \n",
       "13553                       0  0.74                     1   \n",
       "\n",
       "       hour_of_day_tr_Early_Morning   hum  workingday  windspeed  \n",
       "16265                             0  0.61           1     0.1343  \n",
       "10164                             0  0.34           0     0.3582  \n",
       "7894                              0  0.43           1     0.3582  \n",
       "2299                              0  0.72           0     0.1642  \n",
       "13553                             0  0.62           1     0.1940  "
      ]
     },
     "execution_count": 71,
     "metadata": {},
     "output_type": "execute_result"
    }
   ],
   "source": [
    "X_test = test_hour_fin[features]\n",
    "X_test.head()"
   ]
  },
  {
   "cell_type": "code",
   "execution_count": 63,
   "metadata": {
    "execution": {
     "iopub.execute_input": "2021-09-12T18:19:44.840705Z",
     "iopub.status.busy": "2021-09-12T18:19:44.840370Z",
     "iopub.status.idle": "2021-09-12T18:19:45.040127Z",
     "shell.execute_reply": "2021-09-12T18:19:45.038830Z",
     "shell.execute_reply.started": "2021-09-12T18:19:44.840675Z"
    }
   },
   "outputs": [
    {
     "ename": "NameError",
     "evalue": "name 'X_test' is not defined",
     "output_type": "error",
     "traceback": [
      "\u001b[1;31m---------------------------------------------------------------------------\u001b[0m",
      "\u001b[1;31mNameError\u001b[0m                                 Traceback (most recent call last)",
      "\u001b[1;32m~\\AppData\\Local\\Temp/ipykernel_1620/1090507742.py\u001b[0m in \u001b[0;36m<module>\u001b[1;34m\u001b[0m\n\u001b[1;32m----> 1\u001b[1;33m \u001b[0my_test_pred\u001b[0m \u001b[1;33m=\u001b[0m \u001b[0mfinal_model\u001b[0m\u001b[1;33m.\u001b[0m\u001b[0mpredict\u001b[0m\u001b[1;33m(\u001b[0m\u001b[0mX_test\u001b[0m\u001b[1;33m)\u001b[0m\u001b[1;33m\u001b[0m\u001b[1;33m\u001b[0m\u001b[0m\n\u001b[0m\u001b[0;32m      2\u001b[0m \u001b[1;33m\u001b[0m\u001b[0m\n\u001b[0;32m      3\u001b[0m \u001b[0mtest_err\u001b[0m \u001b[1;33m=\u001b[0m \u001b[0mnp\u001b[0m\u001b[1;33m.\u001b[0m\u001b[0msqrt\u001b[0m\u001b[1;33m(\u001b[0m\u001b[0mmean_squared_error\u001b[0m\u001b[1;33m(\u001b[0m\u001b[0my_test\u001b[0m\u001b[1;33m,\u001b[0m \u001b[0my_test_pred\u001b[0m\u001b[1;33m)\u001b[0m\u001b[1;33m)\u001b[0m\u001b[1;33m\u001b[0m\u001b[1;33m\u001b[0m\u001b[0m\n\u001b[0;32m      4\u001b[0m \u001b[1;33m\u001b[0m\u001b[0m\n\u001b[0;32m      5\u001b[0m \u001b[0mprint\u001b[0m\u001b[1;33m(\u001b[0m\u001b[1;34m\"Testing error: %.3f\"\u001b[0m \u001b[1;33m%\u001b[0m\u001b[1;33m(\u001b[0m\u001b[0mtest_err\u001b[0m\u001b[1;33m)\u001b[0m\u001b[1;33m)\u001b[0m\u001b[1;33m\u001b[0m\u001b[1;33m\u001b[0m\u001b[0m\n",
      "\u001b[1;31mNameError\u001b[0m: name 'X_test' is not defined"
     ]
    }
   ],
   "source": [
    "y_test_pred = final_model.predict(X_test)\n",
    "\n",
    "test_err = np.sqrt(mean_squared_error(y_test, y_test_pred))\n",
    "\n",
    "print(\"Testing error: %.3f\" %(test_err))"
   ]
  },
  {
   "cell_type": "code",
   "execution_count": 73,
   "metadata": {
    "execution": {
     "iopub.execute_input": "2021-09-12T18:19:45.041704Z",
     "iopub.status.busy": "2021-09-12T18:19:45.041401Z",
     "iopub.status.idle": "2021-09-12T18:19:45.471211Z",
     "shell.execute_reply": "2021-09-12T18:19:45.470150Z",
     "shell.execute_reply.started": "2021-09-12T18:19:45.041675Z"
    }
   },
   "outputs": [
    {
     "data": {
      "image/png": "[encoded data removed]",
      "text/plain": [
       "<Figure size 360x360 with 1 Axes>"
      ]
     },
     "metadata": {
      "needs_background": "light"
     },
     "output_type": "display_data"
    }
   ],
   "source": [
    "sns.displot( y_test - y_test_pred)\n",
    "plt.show()"
   ]
  },
  {
   "cell_type": "code",
   "execution_count": 74,
   "metadata": {
    "execution": {
     "iopub.execute_input": "2021-09-12T18:19:45.472706Z",
     "iopub.status.busy": "2021-09-12T18:19:45.472413Z",
     "iopub.status.idle": "2021-09-12T18:19:45.483175Z",
     "shell.execute_reply": "2021-09-12T18:19:45.482124Z",
     "shell.execute_reply.started": "2021-09-12T18:19:45.472678Z"
    }
   },
   "outputs": [
    {
     "data": {
      "text/plain": [
       "array([100.38144052, 109.29565728])"
      ]
     },
     "execution_count": 74,
     "metadata": {},
     "output_type": "execute_result"
    }
   ],
   "source": [
    "# Standard error of mean\n",
    "from scipy import stats\n",
    "conf = 0.95 \n",
    "sq_errs = (y_test  - y_test_pred) ** 2\n",
    "dof = len(sq_errs)-1\n",
    "mean_of_sq_errors = sq_errs.mean()\n",
    "standard_error_of_mean = stats.sem(sq_errs) # Standard_Dev/sq.root of sample size\n",
    "\n",
    "#The confidence Interval of the error\n",
    "np.sqrt(stats.t.interval(conf, dof, loc = mean_of_sq_errors, scale = standard_error_of_mean))"
   ]
  },
  {
   "cell_type": "markdown",
   "metadata": {},
   "source": [
    "### Summary\n",
    "\n",
    "After the feature selection, the below variables were found out to be important that the others\n",
    "\n",
    "* hour_of_day_tr_Evening\n",
    "* temp\n",
    "* hour_of_day_tr_Night\n",
    "* hour_of_day_tr_Early_Morning\n",
    "* hum\n",
    "* workingday\n",
    "* windspeed\n",
    "\n",
    "Though the Linear Regressor was stable between the train and test samples, a Random Forest Regressor predict with least error. The score further improved after the hyperparamter tuning using Randomised Search CV and the best estimator was used to check the score/performance of the test data. \n",
    "\n",
    "However, the prediction errors can be in the range of 100 to 109.\n",
    "\n",
    "Next Steps - A more confident result could be obained if GridSearchCV were tried instead of RandomizedSearchCV in the hyperparamter tuning and if other models could be explored.\n",
    "Similar model should be created for \"Casual\" counts and then the \"Registered\" and the \"Casual\" can be summed up to determine the \"Cnt\" i.e. the total count.\n"
   ]
  },
  {
   "cell_type": "code",
   "execution_count": 66,
   "metadata": {},
   "outputs": [
    {
     "ename": "NameError",
     "evalue": "name 'pipe' is not defined",
     "output_type": "error",
     "traceback": [
      "\u001b[1;31m---------------------------------------------------------------------------\u001b[0m",
      "\u001b[1;31mNameError\u001b[0m                                 Traceback (most recent call last)",
      "\u001b[1;32m~\\AppData\\Local\\Temp/ipykernel_1620/383478534.py\u001b[0m in \u001b[0;36m<module>\u001b[1;34m\u001b[0m\n\u001b[1;32m----> 1\u001b[1;33m \u001b[0mpickle\u001b[0m\u001b[1;33m.\u001b[0m\u001b[0mdump\u001b[0m\u001b[1;33m(\u001b[0m\u001b[0mpipe\u001b[0m\u001b[1;33m,\u001b[0m\u001b[0mopen\u001b[0m\u001b[1;33m(\u001b[0m\u001b[1;34m'model1.pkl'\u001b[0m\u001b[1;33m,\u001b[0m\u001b[1;34m'wb'\u001b[0m\u001b[1;33m)\u001b[0m\u001b[1;33m)\u001b[0m\u001b[1;33m\u001b[0m\u001b[1;33m\u001b[0m\u001b[0m\n\u001b[0m",
      "\u001b[1;31mNameError\u001b[0m: name 'pipe' is not defined"
     ]
    }
   ],
   "source": [
    "pickle.dump(pipe,open('model1.pkl','wb'))"
   ]
  },
  {
   "cell_type": "code",
   "execution_count": 65,
   "metadata": {},
   "outputs": [],
   "source": [
    "import pickle"
   ]
  },
  {
   "cell_type": "code",
   "execution_count": 67,
   "metadata": {},
   "outputs": [],
   "source": [
    "import pickle\n",
    "# open a file, where you ant to store the data\n",
    "file = open('random_forest_regression_model.pkl', 'wb')\n",
    "\n",
    "# dump information to that file\n",
    "pickle.dump(rf, file)"
   ]
  },
  {
   "cell_type": "code",
   "execution_count": null,
   "metadata": {},
   "outputs": [],
   "source": []
  }
 ],
 "metadata": {
  "kernelspec": {
   "display_name": "Python 3 (ipykernel)",
   "language": "python",
   "name": "python3"
  },
  "language_info": {
   "codemirror_mode": {
    "name": "ipython",
    "version": 3
   },
   "file_extension": ".py",
   "mimetype": "text/x-python",
   "name": "python",
   "nbconvert_exporter": "python",
   "pygments_lexer": "ipython3",
   "version": "3.9.7"
  }
 },
 "nbformat": 4,
 "nbformat_minor": 4
}
